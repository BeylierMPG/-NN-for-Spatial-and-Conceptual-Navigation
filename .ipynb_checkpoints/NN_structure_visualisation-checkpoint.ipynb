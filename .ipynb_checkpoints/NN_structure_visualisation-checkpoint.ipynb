{
 "cells": [
  {
   "cell_type": "code",
   "execution_count": null,
   "metadata": {},
   "outputs": [],
   "source": [
    "import torch\n",
    "import torch.nn as nn\n",
    "import torch.nn.functional as F\n",
    "import time\n",
    "import numpy as np\n",
    "import cv2\n",
    "import random\n",
    "from matplotlib import pyplot as plt\n",
    "from torch.utils.data import DataLoader\n",
    "from torch.utils.data import Dataset, TensorDataset\n",
    "from torch.utils.data.dataset import random_split"
   ]
  },
  {
   "cell_type": "code",
   "execution_count": null,
   "metadata": {},
   "outputs": [],
   "source": [
    "def print_params(model):\n",
    "    for name, param in model.named_parameters():\n",
    "        if param.requires_grad:\n",
    "            print(name, param.data)"
   ]
  },
  {
   "cell_type": "code",
   "execution_count": null,
   "metadata": {},
   "outputs": [],
   "source": [
    "def layers_connexion(model,input_size):\n",
    "    Layers = 1 #input layer\n",
    "    Connexions = []\n",
    "    Nodes = [input_size]\n",
    "    \n",
    "    for name, param in model.named_parameters():\n",
    "        if param.requires_grad:\n",
    "            if \"bias\" in name:\n",
    "                Layers += 1\n",
    "                Nodes.append(len(param.detach().numpy()))\n",
    "            else:\n",
    "                a = param.detach().numpy()\n",
    "            #Replace weight value by binary number\n",
    "                a = np.select( [a != 0.0, a== 0.0], [1,0],default = a)\n",
    "                a = np.array(a)\n",
    "                Connexions.append(a)\n",
    "    return(Layers, Connexions, Nodes)"
   ]
  },
  {
   "cell_type": "code",
   "execution_count": null,
   "metadata": {},
   "outputs": [],
   "source": [
    "class Net_Task2(torch.nn.Module):\n",
    "    def __init__(self,input_dimension, output_dimension):\n",
    "        super(Net_Task2, self).__init__()\n",
    "        self.fc1 = nn.Linear(in_features = input_dimension, out_features = 5)\n",
    "        self.fc2 = nn.Linear(in_features = 5, out_features = 5)\n",
    "        self.fc3 = nn.Linear(in_features = 5, out_features = 5)\n",
    "        #self.fc4 = nn.Linear(in_features = 5, out_features = 5)\n",
    "        #self.fc5 = nn.Linear(in_features = 5,  out_features = output_dimension)\n",
    "        self.fc4 = nn.Linear(in_features = 5,  out_features = output_dimension)\n",
    "\n",
    "        #self.mask2 = torch.tensor([[1,0],[1,0],[0,1],[0,1]])\n",
    "        #self.mask3 = torch.tensor([[1,1,0,0],[0,0,1,1]]) \n",
    "\n",
    "\n",
    "    def forward(self, x):\n",
    "        x = F.relu(self.fc1(x))\n",
    "        x = F.relu(self.fc2(x))\n",
    "        x = F.relu(self.fc3(x))\n",
    "        #x = F.relu(self.fc4(x))\n",
    "        #x = self.fc5(x)\n",
    "        x = self.fc4(x)\n",
    "        return torch.sigmoid(x)\n",
    "\n",
    "class Net_Task1(torch.nn.Module):\n",
    "    def __init__(self,input_dimension, output_dimension):\n",
    "        super(Net_Task1, self).__init__()\n",
    "        self.fc1 = nn.Linear(in_features = input_dimension, out_features = 1)\n",
    "        self.fc2 = nn.Linear(in_features = 1, out_features = 2)\n",
    "        self.fc3 = nn.Linear(in_features = 2,  out_features = output_dimension)\n",
    "\n",
    "\n",
    "    def forward(self, x):\n",
    "        x = F.relu(self.fc1(x))\n",
    "        x = F.relu(self.fc2(x))\n",
    "        x = self.fc3(x)\n",
    "        return torch.sigmoid(x)\n",
    "\n"
   ]
  },
  {
   "cell_type": "code",
   "execution_count": null,
   "metadata": {},
   "outputs": [
    {
     "name": "stdout",
     "output_type": "stream",
     "text": [
      "\n",
      " The model parameters before the update are: \n",
      "\n",
      "fc1.weight tensor([[ 0.0827, -0.2358,  0.1365, -0.3609,  0.1562],\n",
      "        [ 0.4337, -0.3820, -0.4177, -0.3498, -0.3073],\n",
      "        [ 0.1341,  0.2353,  0.2289,  0.3865, -0.2751],\n",
      "        [ 0.2194,  0.1728,  0.0126, -0.1964, -0.1784],\n",
      "        [-0.0920, -0.1420, -0.1891, -0.3988, -0.0292]])\n",
      "fc1.bias tensor([-0.0566,  0.4021, -0.1745, -0.3195, -0.3233])\n",
      "fc2.weight tensor([[-0.1500,  0.3323, -0.4282, -0.1312,  0.2125],\n",
      "        [ 0.4085, -0.2501,  0.2299,  0.1373, -0.0481],\n",
      "        [ 0.1519, -0.1598, -0.3039, -0.2734,  0.0392],\n",
      "        [-0.4351,  0.4164, -0.0952, -0.3916,  0.3684],\n",
      "        [-0.3792, -0.3463, -0.0042, -0.3086,  0.4084]])\n",
      "fc2.bias tensor([ 0.1568, -0.0399,  0.1660,  0.2095, -0.0720])\n",
      "fc3.weight tensor([[-0.1085, -0.4309,  0.3148,  0.1012,  0.4222],\n",
      "        [-0.3885, -0.1809, -0.1859, -0.2261, -0.0012],\n",
      "        [-0.2926, -0.2029,  0.3005,  0.0463, -0.0614],\n",
      "        [-0.2295, -0.1781, -0.1233,  0.1158,  0.2438],\n",
      "        [ 0.0408,  0.2771,  0.2701, -0.0412, -0.0327]])\n",
      "fc3.bias tensor([-0.4314, -0.2542, -0.1928, -0.1309,  0.0088])\n",
      "fc4.weight tensor([[-0.2085,  0.2158,  0.2371,  0.2258, -0.0380],\n",
      "        [-0.4102,  0.0273, -0.0093, -0.4349,  0.2470],\n",
      "        [-0.2982, -0.0061, -0.3760, -0.0099,  0.2630],\n",
      "        [ 0.2473,  0.1983,  0.2252,  0.0199, -0.1236],\n",
      "        [-0.0755,  0.1238, -0.2892,  0.1397, -0.3601]])\n",
      "fc4.bias tensor([ 0.0321, -0.2386,  0.1938, -0.3638, -0.0636])\n",
      "fc5.weight tensor([[-0.1814, -0.2701, -0.3088, -0.1147, -0.0515]])\n",
      "fc5.bias tensor([-0.3471])\n",
      "fc6.weight tensor([[ 0.4343, -0.3269, -0.0429,  0.3538, -0.4099]])\n",
      "fc6.bias tensor([-0.0639])\n"
     ]
    }
   ],
   "source": [
    "model = Net_Task2(input_dimension = 5, output_dimension = 1)\n",
    "print('\\n The model parameters before the update are: \\n')\n",
    "print_params(model)"
   ]
  },
  {
   "cell_type": "code",
   "execution_count": null,
   "metadata": {},
   "outputs": [],
   "source": [
    "class Network_Visualization:\n",
    "    def __init__(self,display,magnification,Model,input_size):\n",
    "        self.layers,self.connexions,self.nodes = layers_connexion(model,input_size)\n",
    "        # Set whether the environment should be displayed after every step\n",
    "        self.display = display\n",
    "        # Set the magnification factor of the display\n",
    "        self.magnification = magnification\n",
    "        # Create an image which will be used to display the environment\n",
    "        self.image = np.zeros([int(self.magnification), int(self.magnification), 3], dtype=np.uint8)\n",
    "        # Set the width and height of the environment\n",
    "        self.width = 5\n",
    "        self.height = 5\n",
    "        self.rayon = 20\n",
    "            \n",
    "        # Init y coordinates of each layers\n",
    "        self.b = np.linspace(4* self.rayon,\n",
    "                        self.magnification-4*self.rayon,\n",
    "                        self.layers)\n",
    "        # Init coordinates of each nodes, i//self.layers allow to have the same y coordinates for every nodes of the same layer\n",
    "        self.Nodes_coordinates = []\n",
    "        \n",
    "    def draw(self):\n",
    "        # Create the background image\n",
    "        window_top_left = (0, 0)\n",
    "        window_bottom_right = (self.magnification , self.magnification )\n",
    "        cv2.rectangle(self.image, window_top_left, window_bottom_right, (255, 255, 255), thickness=cv2.FILLED)\n",
    "        for i in range(self.layers):\n",
    "            a = np.linspace(4* self.rayon,\n",
    "                            self.magnification-4*self.rayon,\n",
    "                            self.nodes[i])\n",
    "            coordinates = [[int(a[j]),int(self.b[i])] for j in range(len(a))]\n",
    "            self.Nodes_coordinates.append(coordinates)     \n",
    "            \n",
    "        #Draw the Nodes\n",
    "        \n",
    "        for i in range(self.layers):\n",
    "            for j in range(len(self.Nodes_coordinates[i])):\n",
    "                cv2.circle(self.image,center= self.Nodes_coordinates[i][j], \n",
    "                           radius = self.rayon, \n",
    "                           color =(139,139,0), \n",
    "                           thickness = 2 )\n",
    "        #Draw the connexions\n",
    "        for i in reversed(range(1, self.layers )):\n",
    "            g = self.connexions[i-1].shape\n",
    "            for j in range(g[0]):\n",
    "                for k in range(g[1]):\n",
    "                    if self.connexions[i-1][j][k] != 0:\n",
    "                      \n",
    "                        cv2.line(self.image, \n",
    "                                 pt1 = np.array(self.Nodes_coordinates[i-1][k]) + [0,self.rayon], \n",
    "                                 pt2 = np.array(self.Nodes_coordinates[i][j]) - [0,self.rayon],\n",
    "                                 color =  (238,229,142) , \n",
    "                                 thickness = 2)\n",
    "\n",
    "        cv2.imshow(\"Neural Network\", self.image)\n",
    "        # This line is necessary to give time for the image to be rendered on the screen\n",
    "        cv2.waitKey(1)\n",
    "        "
   ]
  },
  {
   "cell_type": "code",
   "execution_count": null,
   "metadata": {
    "tags": []
   },
   "outputs": [
    {
     "ename": "AttributeError",
     "evalue": "'list' object has no attribute 'shape'",
     "output_type": "error",
     "traceback": [
      "\u001b[0;31m---------------------------------------------------------------------------\u001b[0m",
      "\u001b[0;31mAttributeError\u001b[0m                            Traceback (most recent call last)",
      "\u001b[0;32m<ipython-input-14-4abf48643d91>\u001b[0m in \u001b[0;36m<module>\u001b[0;34m\u001b[0m\n\u001b[1;32m      5\u001b[0m \u001b[0mstart_time\u001b[0m \u001b[0;34m=\u001b[0m \u001b[0mtime\u001b[0m\u001b[0;34m.\u001b[0m\u001b[0mtime\u001b[0m\u001b[0;34m(\u001b[0m\u001b[0;34m)\u001b[0m\u001b[0;34m\u001b[0m\u001b[0;34m\u001b[0m\u001b[0m\n\u001b[1;32m      6\u001b[0m \u001b[0mend_time\u001b[0m \u001b[0;34m=\u001b[0m \u001b[0mstart_time\u001b[0m \u001b[0;34m+\u001b[0m \u001b[0;36m30\u001b[0m\u001b[0;34m\u001b[0m\u001b[0;34m\u001b[0m\u001b[0m\n\u001b[0;32m----> 7\u001b[0;31m \u001b[0mvisu\u001b[0m\u001b[0;34m.\u001b[0m\u001b[0mdraw\u001b[0m\u001b[0;34m(\u001b[0m\u001b[0;34m)\u001b[0m\u001b[0;34m\u001b[0m\u001b[0;34m\u001b[0m\u001b[0m\n\u001b[0m\u001b[1;32m      8\u001b[0m \u001b[0;31m#while time.time() < end_time:\u001b[0m\u001b[0;34m\u001b[0m\u001b[0;34m\u001b[0m\u001b[0;34m\u001b[0m\u001b[0m\n\u001b[1;32m      9\u001b[0m \u001b[0;31m# Optionally, show the environment\u001b[0m\u001b[0;34m\u001b[0m\u001b[0;34m\u001b[0m\u001b[0;34m\u001b[0m\u001b[0m\n",
      "\u001b[0;32m<ipython-input-13-4e9f61b821f5>\u001b[0m in \u001b[0;36mdraw\u001b[0;34m(self)\u001b[0m\n\u001b[1;32m     33\u001b[0m \u001b[0;34m\u001b[0m\u001b[0m\n\u001b[1;32m     34\u001b[0m         \u001b[0;31m#Draw the Nodes\u001b[0m\u001b[0;34m\u001b[0m\u001b[0;34m\u001b[0m\u001b[0;34m\u001b[0m\u001b[0m\n\u001b[0;32m---> 35\u001b[0;31m         \u001b[0mprint\u001b[0m\u001b[0;34m(\u001b[0m\u001b[0mself\u001b[0m\u001b[0;34m.\u001b[0m\u001b[0mNodes_coordinates\u001b[0m\u001b[0;34m.\u001b[0m\u001b[0mshape\u001b[0m\u001b[0;34m)\u001b[0m\u001b[0;34m\u001b[0m\u001b[0;34m\u001b[0m\u001b[0m\n\u001b[0m\u001b[1;32m     36\u001b[0m         \u001b[0;32mfor\u001b[0m \u001b[0mi\u001b[0m \u001b[0;32min\u001b[0m \u001b[0mrange\u001b[0m\u001b[0;34m(\u001b[0m\u001b[0mself\u001b[0m\u001b[0;34m.\u001b[0m\u001b[0mlayers\u001b[0m\u001b[0;34m)\u001b[0m\u001b[0;34m:\u001b[0m\u001b[0;34m\u001b[0m\u001b[0;34m\u001b[0m\u001b[0m\n\u001b[1;32m     37\u001b[0m             \u001b[0mprint\u001b[0m\u001b[0;34m(\u001b[0m\u001b[0mi\u001b[0m\u001b[0;34m)\u001b[0m\u001b[0;34m\u001b[0m\u001b[0;34m\u001b[0m\u001b[0m\n",
      "\u001b[0;31mAttributeError\u001b[0m: 'list' object has no attribute 'shape'"
     ]
    }
   ],
   "source": [
    "display_on = True\n",
    "visu = Network_Visualization(display = display_on,magnification=800,Model = model,input_size=5)\n",
    "\n",
    "# Determine the time at which training will stop, i.e. in 10 minutes (600 seconds) time\n",
    "start_time = time.time() \n",
    "end_time = start_time + 30\n",
    "visu.draw()\n",
    "#while time.time() < end_time:\n",
    "# Optionally, show the environment\n",
    " #   if display_on:\n",
    "  #      visu.draw()"
   ]
  },
  {
   "cell_type": "code",
   "execution_count": null,
   "metadata": {},
   "outputs": [],
   "source": [
    "h = [[0, 6720.0], [0, 6720.0], [0, 6720.0], [0, 6720.0], [0, 6720.0], [0, 6560.0], [0, 6560.0], [0, 6560.0], [0, 6560.0], [0, 6560.0], [0, 6400.0], [0, 6400.0], [0, 6400.0], [0, 6400.0], [0, 6400.0], [0, 6240.0], [0, 6240.0], [0, 6240.0], [0, 6240.0], [0, 6240.0], [0, 6080.0]]"
   ]
  },
  {
   "cell_type": "code",
   "execution_count": null,
   "metadata": {},
   "outputs": [
    {
     "name": "stdout",
     "output_type": "stream",
     "text": [
      "[[0, 6720.0], [0, 6720.0], [0, 6720.0], [0, 6720.0], [0, 6720.0], [0, 6560.0], [0, 6560.0], [0, 6560.0], [0, 6560.0], [0, 6560.0], [0, 6400.0], [0, 6400.0], [0, 6400.0], [0, 6400.0], [0, 6400.0], [0, 6240.0], [0, 6240.0], [0, 6240.0], [0, 6240.0], [0, 6240.0], [0, 6080.0]]\n"
     ]
    }
   ],
   "source": [
    "print(h[:])"
   ]
  },
  {
   "cell_type": "code",
   "execution_count": null,
   "metadata": {},
   "outputs": [
    {
     "ename": "NameError",
     "evalue": "name 'z_' is not defined",
     "output_type": "error",
     "traceback": [
      "\u001b[0;31m---------------------------------------------------------------------------\u001b[0m",
      "\u001b[0;31mNameError\u001b[0m                                 Traceback (most recent call last)",
      "\u001b[0;32m<ipython-input-10-6de087b5e7f5>\u001b[0m in \u001b[0;36m<module>\u001b[0;34m\u001b[0m\n\u001b[0;32m----> 1\u001b[0;31m z_ = np.select( (z_==1,z_==2, z_==3),\n\u001b[0m\u001b[1;32m      2\u001b[0m           \u001b[0;34m(\u001b[0m\u001b[0;36m150\u001b[0m\u001b[0;34m,\u001b[0m \u001b[0;36m120\u001b[0m\u001b[0;34m,\u001b[0m \u001b[0;36m110\u001b[0m\u001b[0;34m)\u001b[0m\u001b[0;34m,\u001b[0m\u001b[0;34m\u001b[0m\u001b[0;34m\u001b[0m\u001b[0m\n\u001b[1;32m      3\u001b[0m           default=z_)\n",
      "\u001b[0;31mNameError\u001b[0m: name 'z_' is not defined"
     ]
    }
   ],
   "source": [
    "      z_ = np.select( (z_==1,z_==2, z_==3),\n",
    "                (150, 120, 110),\n",
    "                default=z_)"
   ]
  },
  {
   "cell_type": "code",
   "execution_count": null,
   "metadata": {},
   "outputs": [],
   "source": [
    "\n",
    "magnification = 800\n",
    "height = 5\n",
    "width = 5\n",
    "image = np.zeros([int(magnification), int(magnification), 3], dtype=np.uint8)\n",
    "window_top_left = (0, 0)\n",
    "window_bottom_right = (magnification*height, magnification*width)\n",
    "cv2.rectangle(image, window_top_left, window_bottom_right, (0, 238, 229), thickness=cv2.FILLED)\n",
    "cv2.imshow(\"Environment6\",image)\n"
   ]
  },
  {
   "cell_type": "code",
   "execution_count": null,
   "metadata": {},
   "outputs": [],
   "source": []
  },
  {
   "cell_type": "code",
   "execution_count": 43,
   "metadata": {},
   "outputs": [
    {
     "name": "stdout",
     "output_type": "stream",
     "text": [
      "True\n"
     ]
    }
   ],
   "source": [
    "print(3<4)"
   ]
  },
  {
   "cell_type": "code",
   "execution_count": null,
   "metadata": {},
   "outputs": [],
   "source": []
  }
 ],
 "metadata": {
  "kernelspec": {
   "display_name": "Python 3",
   "language": "python",
   "name": "python3"
  },
  "language_info": {
   "codemirror_mode": {
    "name": "ipython",
    "version": 3
   },
   "file_extension": ".py",
   "mimetype": "text/x-python",
   "name": "python",
   "nbconvert_exporter": "python",
   "pygments_lexer": "ipython3",
   "version": "3.8.2"
  }
 },
 "nbformat": 4,
 "nbformat_minor": 4
}
