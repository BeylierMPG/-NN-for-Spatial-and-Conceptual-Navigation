{
 "cells": [
  {
   "cell_type": "code",
   "execution_count": 5,
   "metadata": {},
   "outputs": [],
   "source": [
    "import time\n",
    "import numpy as np\n",
    "import cv2\n",
    "import random\n",
    "import torch"
   ]
  },
  {
   "cell_type": "code",
   "execution_count": 6,
   "metadata": {},
   "outputs": [],
   "source": [
    "\n",
    "class Experiment:\n",
    "\n",
    "    def __init__(self):\n",
    "\n",
    "        # Set the width and height of the grid\n",
    "        self.width = 8\n",
    "        self.height = 8\n",
    "\n",
    "\n",
    "    def Target_position(self):\n",
    "        Target_position_grid = torch.eye(self.width,dtype=torch.int32)\n",
    "        for i in range(self.width-1):\n",
    "            Target_position_grid[i,i-1] = 1\n",
    "            Target_position_grid[i,i+1] = 1\n",
    "            \n",
    "        Target_position_grid[self.width-1,self.width-1] = 1\n",
    "        Target_position_grid[self.width-1,self.width - 2] = 1\n",
    "\n",
    "        return Target_position_grid\n",
    "\n",
    "    def data_target_generator(self):\n",
    "        x = np.random.randint(0,7)\n",
    "        y = np.random.randint(0,7)\n",
    "        print(x)\n",
    "        print(y)\n",
    "        sun = np.random.random_sample()\n",
    "        rain = np.random.random_sample()\n",
    "        print(sun)\n",
    "        data = torch.tensor([x,y,sun,rain])\n",
    "        target = self.Target_position()[x,y]\n",
    "\n",
    "        return(data,target)"
   ]
  },
  {
   "cell_type": "code",
   "execution_count": 7,
   "metadata": {},
   "outputs": [],
   "source": [
    "class GridWorld:\n",
    "    def __init__(self, display, magnification=800):\n",
    "        # Set whether the environment should be displayed after every step\n",
    "        self.display = display\n",
    "        # Set the magnification factor of the display\n",
    "        self.magnification = magnification\n",
    "        # Set the width and height of the environment\n",
    "        self.width = 8\n",
    "        self.height = 8\n",
    "        # Create an image which will be used to display the environment\n",
    "        self.image = np.zeros([int(self.magnification), int(self.magnification), 3], dtype=np.uint8)\n",
    "\n",
    "        self.experiment = Experiment()\n",
    "\n",
    "\n",
    "    def draw(self):\n",
    "        # Create the background image\n",
    "        window_top_left = (0, 0)\n",
    "        window_bottom_right = (self.magnification * self.height, self.magnification * self.width)\n",
    "        cv2.rectangle(self.image, window_top_left, window_bottom_right, (246, 238, 229), thickness=cv2.FILLED)\n",
    "        # Set the space where we have to plant the seed in the location task\n",
    "        Target_position_grid = self.experiment.Target_position()\n",
    "        for i in range(self.width):\n",
    "            for j in range(self.height):\n",
    "                if Target_position_grid[i,j] == 1:\n",
    "                    top_left = [int(((self.magnification/self.width )*i)),int((self.magnification/self.width) *j)]\n",
    "           \n",
    "                    bottom_right = [int((self.magnification/self.width) *(i+1)), int((self.magnification/self.width) *(j+1))]\n",
    "                    cv2.rectangle(self.image,top_left,bottom_right,(255,0,0),thickness=cv2.FILLED)\n",
    "        cv2.imshow(\"Environment\", self.image)\n",
    "        # This line is necessary to give time for the image to be rendered on the screen\n",
    "        cv2.waitKey(1)\n",
    "        \n",
    "\n",
    "\n"
   ]
  },
  {
   "cell_type": "code",
   "execution_count": null,
   "metadata": {},
   "outputs": [],
   "source": [
    "display_on = True\n",
    "environment = GridWorld(display = display_on,magnification=800) # Create an agent\n",
    "environment.draw()"
   ]
  },
  {
   "cell_type": "code",
   "execution_count": null,
   "metadata": {},
   "outputs": [],
   "source": []
  }
 ],
 "metadata": {
  "kernelspec": {
   "display_name": "Python 3",
   "language": "python",
   "name": "python3"
  },
  "language_info": {
   "codemirror_mode": {
    "name": "ipython",
    "version": 3
   },
   "file_extension": ".py",
   "mimetype": "text/x-python",
   "name": "python",
   "nbconvert_exporter": "python",
   "pygments_lexer": "ipython3",
   "version": "3.8.2"
  }
 },
 "nbformat": 4,
 "nbformat_minor": 4
}
