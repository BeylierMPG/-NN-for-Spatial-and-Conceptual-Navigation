{
 "cells": [
  {
   "cell_type": "code",
   "execution_count": 33,
   "id": "7934c2c7",
   "metadata": {},
   "outputs": [],
   "source": [
    "import torch\n",
    "import numpy as np\n",
    "import random\n",
    "from torch.utils.data import DataLoader\n",
    "from torch.utils.data import Dataset, TensorDataset\n",
    "from torch.utils.data.dataset import random_split\n",
    "\n",
    "import torch.nn as nn\n",
    "import time\n",
    "from matplotlib import pyplot as plt\n",
    "import sys\n",
    "sys.path.append(\"/Users/charlottebeylier/Documents/PhD/Spatial and Conceptual Learning/github_code/Mono_Multi_TASK/Version_2\")\n",
    "\n",
    "\n",
    "from Networks_v2 import Net_Multi,Net_Individual,Masks,Activation_Hook\n",
    "from Experiment_v5 import Experiment\n",
    "from IPython.display import clear_output\n",
    "from Check import Checkup\n",
    "from mpl_toolkits.mplot3d import Axes3D\n",
    "from sklearn.preprocessing import scale\n",
    "from sklearn.decomposition import PCA, IncrementalPCA\n",
    "\n",
    "\n",
    "\n",
    "# importing required libraries\n",
    "from mpl_toolkits.mplot3d import Axes3D\n",
    "\n",
    "from sklearn.datasets import load_iris\n",
    "from sklearn.decomposition import PCA, IncrementalPCA\n",
    "from sklearn.manifold import MDS\n",
    "from sklearn.manifold import Isomap\n",
    "from sklearn.metrics import pairwise_distances\n",
    "\n",
    "from matplotlib.ticker import NullFormatter\n",
    "from collections import OrderedDict\n",
    "from functools import partial\n",
    "from sklearn import manifold, datasets"
   ]
  },
  {
   "cell_type": "markdown",
   "id": "2312eb56",
   "metadata": {},
   "source": [
    " # Reproducibility "
   ]
  },
  {
   "cell_type": "code",
   "execution_count": 2,
   "id": "e9c5cd0b",
   "metadata": {},
   "outputs": [
    {
     "name": "stdout",
     "output_type": "stream",
     "text": [
      "Device:  cpu\n",
      "Random seed 2021 has been set.\n"
     ]
    },
    {
     "data": {
      "text/plain": [
       "<torch._C.Generator at 0x7fde40ff17d0>"
      ]
     },
     "execution_count": 2,
     "metadata": {},
     "output_type": "execute_result"
    }
   ],
   "source": [
    "# if gpu is to be used\n",
    "device = torch.device(\"cuda\" if torch.cuda.is_available() else \"cpu\")\n",
    "print(\"Device: \", device)\n",
    "\n",
    "def set_seed(seed=None, seed_torch=True):\n",
    "    if seed is None:\n",
    "        seed = np.random.choice(2 ** 32)\n",
    "    random.seed(seed)\n",
    "    np.random.seed(seed)\n",
    "    if seed_torch:\n",
    "        torch.manual_seed(seed)\n",
    "\n",
    "    print(f'Random seed {seed} has been set.')\n",
    "\n",
    "SEED = 2021\n",
    "set_seed(seed=SEED)\n",
    "# if gpu is to be used\n",
    "#device = torch.device(\"cuda\" if torch.cuda.is_available() else \"cpu\")\n",
    "#print(\"Device: \", device)\n",
    "\n",
    "G_SEED = torch.Generator()\n",
    "G_SEED.manual_seed(SEED)"
   ]
  },
  {
   "cell_type": "markdown",
   "id": "2e6ca0f2",
   "metadata": {},
   "source": [
    "# Multi"
   ]
  },
  {
   "cell_type": "markdown",
   "id": "27f9abe8",
   "metadata": {},
   "source": [
    "## Generate the Dataset"
   ]
  },
  {
   "cell_type": "code",
   "execution_count": 3,
   "id": "04afbe14",
   "metadata": {},
   "outputs": [
    {
     "name": "stdout",
     "output_type": "stream",
     "text": [
      "Random seed 2021 has been set.\n",
      "Test size dataset space torch.Size([249, 6])\n",
      "Test size dataset weather torch.Size([249, 6])\n",
      "Test size dataset multi torch.Size([499, 6])\n",
      "Train size dataset space torch.Size([1750, 6])\n",
      "Train size dataset weather torch.Size([1750, 6])\n",
      "Train size dataset multi torch.Size([3494, 6])\n"
     ]
    }
   ],
   "source": [
    "WIDTH = 50\n",
    "\n",
    "BATCH_SIZE = 32\n",
    "\n",
    "set_seed(seed=SEED)\n",
    "\n",
    "experiment = Experiment(width = WIDTH,batch_size=BATCH_SIZE)\n",
    "\n",
    "BATCH_SIZE = 16\n",
    "\n",
    "dataset_train,dataset_space_train,dataset_weather_train,dataset_val,dataset_space_val,dataset_weather_val,dataset_test,dataset_space_test,dataset_weather_test= experiment.Generate_data()\n",
    "train_loader = torch.utils.data.DataLoader(dataset_train,batch_size=BATCH_SIZE,shuffle = False )\n",
    "val_loader = torch.utils.data.DataLoader(dataset_val,batch_size=BATCH_SIZE,shuffle = False )\n",
    "test_loader_multi = torch.utils.data.DataLoader(dataset_test,batch_size=BATCH_SIZE,shuffle = False ) #bATCH SIZE =1 HERE FOR THE DATASET ONLY, ELSE TAKE WHATEVER BATCH SIZE IN INDIVIDUAL MODE"
   ]
  },
  {
   "cell_type": "markdown",
   "id": "297cdb27",
   "metadata": {},
   "source": [
    "## Train the Network"
   ]
  },
  {
   "cell_type": "code",
   "execution_count": 4,
   "id": "a1bde778",
   "metadata": {},
   "outputs": [
    {
     "name": "stdout",
     "output_type": "stream",
     "text": [
      "Epoch 490, val_loss 0.8541718134804378\n"
     ]
    },
    {
     "data": {
      "image/png": "[encoded data removed]",
      "text/plain": [
       "<Figure size 432x288 with 1 Axes>"
      ]
     },
     "metadata": {
      "needs_background": "light"
     },
     "output_type": "display_data"
    }
   ],
   "source": [
    "EPOCH = 500\n",
    "\n",
    "\n",
    "\n",
    "model = Net_Multi(input_dimension=5,nodes_second = 20,nodes_third = 10,nodes_output = 2)    \n",
    "optimizer = torch.optim.Adam(model.parameters(), lr=0.01, betas=(0.9, 0.999), eps=1e-08, weight_decay=0, amsgrad=False)\n",
    "criterion = nn.BCEWithLogitsLoss()\n",
    "mask = Masks(model)\n",
    "\n",
    "print(model)\n",
    "losses = []\n",
    "val_losses = []\n",
    "for epoch in range(EPOCH):\n",
    "\n",
    "    loss = 0\n",
    "    val_loss = 0 \n",
    "\n",
    "    for x_batch, y_batch in train_loader:\n",
    "        \n",
    "        \n",
    "        pumpkin_seed= x_batch[0,5]\n",
    "        x_batch = x_batch[:,0:5].squeeze(0)\n",
    "            \n",
    "        optimizer.zero_grad()\n",
    "\n",
    "        output = model(x_batch)\n",
    "\n",
    "        output_loss = criterion(output,y_batch.squeeze(0))\n",
    "        output_loss.backward()\n",
    "        \n",
    "                # Compute the gradients based on this loss, i.e. the gradients of the loss with respect to the Q-network parameters.\n",
    "        #print(\"before\",model.fc2[0].weight.grad)\n",
    "        mask.apply_mask(model,pumpkin_seed)\n",
    "        #print(\"after\",model.fc2[0].weight.grad)\n",
    "\n",
    "                    \n",
    "                    \n",
    "        optimizer.step()\n",
    "        \n",
    "        \n",
    "        loss += output_loss.detach().numpy()\n",
    "    losses.append(loss/len(train_loader))\n",
    "            \n",
    "    with torch.no_grad():\n",
    "        for x_val, y_val in val_loader:\n",
    "            model.eval() # not useful for now\n",
    "            x_val = x_val[:,0:5].squeeze(0)\n",
    "            yhat = model(x_val)\n",
    "            val_loss += criterion(yhat,y_val.squeeze(0))\n",
    "        val_losses.append(val_loss.item()/len(val_loader))\n",
    "\n",
    "\n",
    "    if np.mod(epoch,10)==0: \n",
    "        clear_output()\n",
    "        print(\"Epoch {}, val_loss {}\".format(epoch, val_loss.item()/len(val_loader))) \n",
    "        fig = plt.figure()\n",
    "        ax = fig.add_subplot(111)\n",
    "        plt.plot(np.arange(len(val_losses)), val_losses)\n",
    "        plt.ylabel('Loss')\n",
    "        plt.xlabel('Epoch #')\n",
    "        plt.show()\n",
    "            \n",
    "\n",
    "\n",
    "\n"
   ]
  },
  {
   "cell_type": "code",
   "execution_count": 5,
   "id": "8166e9b4",
   "metadata": {},
   "outputs": [],
   "source": [
    "Model_multi = model"
   ]
  },
  {
   "cell_type": "markdown",
   "id": "29b36ef3",
   "metadata": {},
   "source": [
    "# WEATHER"
   ]
  },
  {
   "cell_type": "code",
   "execution_count": 6,
   "id": "d937b67e",
   "metadata": {},
   "outputs": [],
   "source": [
    "EPOCH = 20"
   ]
  },
  {
   "cell_type": "code",
   "execution_count": 7,
   "id": "5b1582b6",
   "metadata": {},
   "outputs": [],
   "source": [
    "train_loader = torch.utils.data.DataLoader(dataset_weather_train,batch_size=BATCH_SIZE,shuffle = False )\n",
    "val_loader = torch.utils.data.DataLoader(dataset_weather_val,batch_size=BATCH_SIZE,shuffle = False )\n",
    "test_loader_weather = torch.utils.data.DataLoader(dataset_weather_test,batch_size=BATCH_SIZE,shuffle = False ) #bATCH SIZE =1 HERE FOR THE DATASET ONLY, ELSE TAKE WHATEVER BATCH SIZE IN INDIVIDUAL MODE"
   ]
  },
  {
   "cell_type": "code",
   "execution_count": 8,
   "id": "bd7acaac",
   "metadata": {},
   "outputs": [
    {
     "name": "stdout",
     "output_type": "stream",
     "text": [
      "Epoch 10, val_loss 0.0805719643831253\n"
     ]
    },
    {
     "data": {
      "image/png": "[encoded data removed]",
      "text/plain": [
       "<Figure size 432x288 with 1 Axes>"
      ]
     },
     "metadata": {
      "needs_background": "light"
     },
     "output_type": "display_data"
    }
   ],
   "source": [
    "\n",
    "\n",
    "model = Net_Individual(input_dimension=5,nodes_second = 20,nodes_third = 5,nodes_output = 1)    \n",
    "optimizer = torch.optim.Adam(model.parameters(), lr=0.01, betas=(0.9, 0.999), eps=1e-08, weight_decay=0, amsgrad=False)\n",
    "criterion = nn.BCEWithLogitsLoss()\n",
    "\n",
    "\n",
    "losses = []\n",
    "val_losses = []\n",
    "\n",
    "for epoch in range(EPOCH):\n",
    "\n",
    "    loss = 0\n",
    "    val_loss = 0 \n",
    "\n",
    "    for x_batch, y_batch in train_loader:\n",
    "\n",
    "        x_batch = x_batch[:,0:5]\n",
    "            \n",
    "        optimizer.zero_grad()\n",
    "        output = model(x_batch).squeeze(1)\n",
    "\n",
    "        output_loss = criterion(output,y_batch)\n",
    "        output_loss.backward()\n",
    "        optimizer.step()\n",
    "            \n",
    "        loss += output_loss.detach().numpy()\n",
    "    losses.append(loss/len(train_loader))\n",
    "            \n",
    "    with torch.no_grad():\n",
    "        for x_val, y_val in val_loader:\n",
    "            model.eval() # not useful for now\n",
    "            x_val = x_val[:,0:5]\n",
    "            yhat = model(x_val).squeeze(1)\n",
    "            val_loss += criterion(yhat,y_val)\n",
    "        val_losses.append(val_loss.item()/len(val_loader))\n",
    "\n",
    "\n",
    "    if np.mod(epoch,10)==0: \n",
    "        clear_output()\n",
    "        print(\"Epoch {}, val_loss {}\".format(epoch, val_loss.item()/len(val_loader))) \n",
    "        fig = plt.figure()\n",
    "        ax = fig.add_subplot(111)\n",
    "        plt.plot(np.arange(len(val_losses)), val_losses)\n",
    "        plt.ylabel('Loss')\n",
    "        plt.xlabel('Epoch #')\n",
    "        plt.show()\n",
    "            \n",
    "            \n",
    "\n",
    "\n"
   ]
  },
  {
   "cell_type": "code",
   "execution_count": 9,
   "id": "8ad01894",
   "metadata": {},
   "outputs": [],
   "source": [
    "Model_weather = model"
   ]
  },
  {
   "cell_type": "markdown",
   "id": "2cd185c5",
   "metadata": {},
   "source": [
    "# SPATIAL"
   ]
  },
  {
   "cell_type": "code",
   "execution_count": 10,
   "id": "c3f736b9",
   "metadata": {},
   "outputs": [],
   "source": [
    "train_loader = torch.utils.data.DataLoader(dataset_space_train,batch_size=BATCH_SIZE,shuffle = False )\n",
    "val_loader = torch.utils.data.DataLoader(dataset_space_val,batch_size=BATCH_SIZE,shuffle = False )\n",
    "test_loader_space = torch.utils.data.DataLoader(dataset_space_test,batch_size=BATCH_SIZE,shuffle = False ) #bATCH SIZE =1 HERE FOR THE DATASET ONLY, ELSE TAKE WHATEVER BATCH SIZE IN INDIVIDUAL MODE"
   ]
  },
  {
   "cell_type": "code",
   "execution_count": 11,
   "id": "4077a84f",
   "metadata": {},
   "outputs": [
    {
     "name": "stdout",
     "output_type": "stream",
     "text": [
      "Epoch 10, val_loss 0.05940716341137886\n"
     ]
    },
    {
     "data": {
      "image/png": "[encoded data removed]",
      "text/plain": [
       "<Figure size 432x288 with 1 Axes>"
      ]
     },
     "metadata": {
      "needs_background": "light"
     },
     "output_type": "display_data"
    }
   ],
   "source": [
    "\n",
    "model = Net_Individual(input_dimension=5,nodes_second = 20,nodes_third = 5,nodes_output = 1)    \n",
    "optimizer = torch.optim.Adam(model.parameters(), lr=0.01, betas=(0.9, 0.999), eps=1e-08, weight_decay=0, amsgrad=False)\n",
    "criterion = nn.BCEWithLogitsLoss()\n",
    "\n",
    "\n",
    "\n",
    "losses = []\n",
    "val_losses = []\n",
    "\n",
    "for epoch in range(EPOCH):\n",
    "\n",
    "    loss = 0\n",
    "    val_loss = 0 \n",
    "\n",
    "    for x_batch, y_batch in train_loader:\n",
    "\n",
    "        x_batch = x_batch[:,0:5]\n",
    "            \n",
    "        optimizer.zero_grad()\n",
    "        output = model(x_batch).squeeze(1)\n",
    "\n",
    "        output_loss = criterion(output,y_batch)\n",
    "        output_loss.backward()\n",
    "        optimizer.step()\n",
    "            \n",
    "        loss += output_loss.detach().numpy()\n",
    "    losses.append(loss/len(train_loader))\n",
    "            \n",
    "    with torch.no_grad():\n",
    "        for x_val, y_val in val_loader:\n",
    "            model.eval() # not useful for now\n",
    "            x_val = x_val[:,0:5]\n",
    "            yhat = model(x_val).squeeze(1)\n",
    "            val_loss += criterion(yhat,y_val)\n",
    "        val_losses.append(val_loss.item()/len(val_loader))\n",
    "\n",
    "\n",
    "    if np.mod(epoch,10)==0: \n",
    "        clear_output()\n",
    "        print(\"Epoch {}, val_loss {}\".format(epoch, val_loss.item()/len(val_loader))) \n",
    "        fig = plt.figure()\n",
    "        ax = fig.add_subplot(111)\n",
    "        plt.plot(np.arange(len(val_losses)), val_losses)\n",
    "        plt.ylabel('Loss')\n",
    "        plt.xlabel('Epoch #')\n",
    "        plt.show()\n",
    "            \n",
    "            \n",
    "\n",
    "\n",
    "\n",
    "\n"
   ]
  },
  {
   "cell_type": "code",
   "execution_count": 12,
   "id": "3db2e20c",
   "metadata": {},
   "outputs": [],
   "source": [
    "Model_space = model"
   ]
  },
  {
   "cell_type": "code",
   "execution_count": 13,
   "id": "5da7ce09",
   "metadata": {},
   "outputs": [
    {
     "name": "stdout",
     "output_type": "stream",
     "text": [
      "32\n"
     ]
    }
   ],
   "source": []
  },
  {
   "cell_type": "markdown",
   "id": "be785879",
   "metadata": {},
   "source": [
    "# Run test"
   ]
  },
  {
   "cell_type": "code",
   "execution_count": 81,
   "id": "be5ee8a4",
   "metadata": {
    "scrolled": true
   },
   "outputs": [
    {
     "name": "stdout",
     "output_type": "stream",
     "text": [
      "num_model 0\n",
      "0\n",
      "torch.Size([16])\n",
      "1\n",
      "torch.Size([16])\n",
      "2\n",
      "torch.Size([16])\n",
      "3\n",
      "torch.Size([16])\n",
      "4\n",
      "torch.Size([16])\n",
      "5\n",
      "torch.Size([16])\n",
      "6\n",
      "torch.Size([16])\n",
      "7\n",
      "torch.Size([16])\n",
      "8\n",
      "torch.Size([16])\n",
      "9\n",
      "torch.Size([16])\n",
      "10\n",
      "torch.Size([16])\n",
      "11\n",
      "torch.Size([16])\n",
      "12\n",
      "torch.Size([16])\n",
      "13\n",
      "torch.Size([16])\n",
      "14\n",
      "torch.Size([16])\n",
      "15\n",
      "torch.Size([9])\n"
     ]
    }
   ],
   "source": [
    "#Liste_models = [Model_multi,Model_weather,Model_space]\n",
    "\n",
    "Liste_models = [Model_space]\n",
    "activation_hook = Activation_Hook()\n",
    "\n",
    "\n",
    "Names_hook = [\"fc1\",\"fc2\",\"fc3\"]\n",
    "#Names_hook = [\"fc2\"]\n",
    "#Liste_activation = [[[[] for i in range(len(Names_hook))] for j in range(len( Liste_models ))] for episode in range(EPISODES+10)]\n",
    "episode  = 0\n",
    "#Liste_test_loader = [test_loader_multi,test_loader_weather,test_loader_space]\n",
    "\n",
    "Liste_activation = [[]for i in range(16)]\n",
    "\n",
    "for num_model in range(len(Liste_models)):\n",
    "    print(\"num_model\",num_model)\n",
    "    model = Liste_models[num_model]\n",
    "    #test_loader = Liste_test_loader[num_model]\n",
    "    activation_hook.registration(model)\n",
    "    episode = 0\n",
    "    for x_test,y_test in test_loader_space:\n",
    "        print(episode)\n",
    "        with torch.no_grad():\n",
    "            pumpkin_seed = np.int(x_test[0][5])\n",
    "            x_test = x_test[:,0:5]\n",
    "            yhat = torch.nn.Sigmoid()(model(x_test).squeeze(1))\n",
    "            \n",
    "            b = torch.flatten(activation_hook.activation[Names_hook[2]])\n",
    "            print(b.shape)\n",
    "            Liste_activation[episode].append(b)  # If concatenate list directly with Liste_activation[agent_number][h] += torch.flatten(agent.activation[Names_hook[h]]) takes much more time\n",
    "        episode += 1\n",
    "    activation_hook.detach()"
   ]
  },
  {
   "cell_type": "markdown",
   "id": "13b1d623",
   "metadata": {},
   "source": [
    "# PCA Analysis"
   ]
  }
 ],
 "metadata": {
  "interpreter": {
   "hash": "3cd8fba5e2a7e5201efd12f596ba02da03390e92eb7b5a4f25cd4f2446eed5e6"
  },
  "kernelspec": {
   "display_name": "Python 3 (ipykernel)",
   "language": "python",
   "name": "python3"
  },
  "language_info": {
   "codemirror_mode": {
    "name": "ipython",
    "version": 3
   },
   "file_extension": ".py",
   "mimetype": "text/x-python",
   "name": "python",
   "nbconvert_exporter": "python",
   "pygments_lexer": "ipython3",
   "version": "3.7.11"
  }
 },
 "nbformat": 4,
 "nbformat_minor": 5
}
