{
 "cells": [
  {
   "cell_type": "code",
   "execution_count": 1,
   "metadata": {},
   "outputs": [],
   "source": [
    "import torch\n",
    "import torch.nn as nn\n",
    "import torch.nn.functional as F\n",
    "import time\n",
    "import numpy as np\n",
    "import cv2\n",
    "import random\n",
    "from matplotlib import pyplot as plt\n",
    "from torch.utils.data import DataLoader\n",
    "from torch.utils.data import Dataset, TensorDataset\n",
    "from torch.utils.data.dataset import random_split"
   ]
  },
  {
   "cell_type": "code",
   "execution_count": 2,
   "metadata": {},
   "outputs": [],
   "source": [
    "def print_params(model):\n",
    "    for name, param in model.named_parameters():\n",
    "        if param.requires_grad:\n",
    "            print(name, param.data)"
   ]
  },
  {
   "cell_type": "code",
   "execution_count": 3,
   "metadata": {},
   "outputs": [],
   "source": [
    "def layers_connexion(model,input_size):\n",
    "    Layers = 1 #input layer\n",
    "    Connexions = []\n",
    "    Nodes = [input_size]\n",
    "    \n",
    "    for name, param in model.named_parameters():\n",
    "        if param.requires_grad:\n",
    "            if \"bias\" in name:\n",
    "                Layers += 1\n",
    "                Nodes.append(len(param.detach().numpy()))\n",
    "            else:\n",
    "                a = param.detach().numpy()\n",
    "            #Replace weight value by binary number\n",
    "                a = np.select( [a != 0.0, a== 0.0], [1,0],default = a)\n",
    "                a = np.array(a)\n",
    "                Connexions.append(a)\n",
    "    return(Layers, Connexions, Nodes)"
   ]
  },
  {
   "cell_type": "code",
   "execution_count": 4,
   "metadata": {},
   "outputs": [],
   "source": [
    "class Net_Task2(torch.nn.Module):\n",
    "    def __init__(self,input_dimension, output_dimension):\n",
    "        super(Net_Task2, self).__init__()\n",
    "        self.fc1 = nn.Linear(in_features = input_dimension, out_features = 5)\n",
    "        self.fc2 = nn.Linear(in_features = 5, out_features = 5)\n",
    "        self.fc3 = nn.Linear(in_features = 5, out_features = 5)\n",
    "        #self.fc4 = nn.Linear(in_features = 5, out_features = 5)\n",
    "        #self.fc5 = nn.Linear(in_features = 5,  out_features = output_dimension)\n",
    "        self.fc4 = nn.Linear(in_features = 5,  out_features = output_dimension)\n",
    "\n",
    "        #self.mask2 = torch.tensor([[1,0],[1,0],[0,1],[0,1]])\n",
    "        #self.mask3 = torch.tensor([[1,1,0,0],[0,0,1,1]]) \n",
    "\n",
    "\n",
    "    def forward(self, x):\n",
    "        x = F.relu(self.fc1(x))\n",
    "        x = F.relu(self.fc2(x))\n",
    "        x = F.relu(self.fc3(x))\n",
    "        #x = F.relu(self.fc4(x))\n",
    "        #x = self.fc5(x)\n",
    "        x = self.fc4(x)\n",
    "        return torch.sigmoid(x)\n",
    "\n",
    "class Net_Task1(torch.nn.Module):\n",
    "    def __init__(self,input_dimension, output_dimension):\n",
    "        super(Net_Task1, self).__init__()\n",
    "        self.fc1 = nn.Linear(in_features = input_dimension, out_features = 1)\n",
    "        self.fc2 = nn.Linear(in_features = 1, out_features = 2)\n",
    "        self.fc3 = nn.Linear(in_features = 2,  out_features = output_dimension)\n",
    "\n",
    "\n",
    "    def forward(self, x):\n",
    "        x = F.relu(self.fc1(x))\n",
    "        x = F.relu(self.fc2(x))\n",
    "        x = self.fc3(x)\n",
    "        return torch.sigmoid(x)\n",
    "\n"
   ]
  },
  {
   "cell_type": "code",
   "execution_count": 5,
   "metadata": {},
   "outputs": [
    {
     "name": "stdout",
     "output_type": "stream",
     "text": [
      "\n",
      " The model parameters before the update are: \n",
      "\n",
      "fc1.weight tensor([[ 0.3493, -0.1160, -0.4156, -0.2876, -0.4431],\n",
      "        [ 0.2046,  0.1510,  0.0583, -0.2949, -0.1399],\n",
      "        [-0.1876, -0.0539,  0.0821, -0.1443, -0.3343],\n",
      "        [ 0.2357, -0.0684,  0.2576,  0.3220, -0.0623],\n",
      "        [ 0.3518, -0.0751, -0.0800,  0.1829, -0.2625]])\n",
      "fc1.bias tensor([-0.0763,  0.0087, -0.1736,  0.2453,  0.0244])\n",
      "fc2.weight tensor([[ 0.0301,  0.0340,  0.4053, -0.1280, -0.1441],\n",
      "        [ 0.0829,  0.0380, -0.1956,  0.0228,  0.4180],\n",
      "        [-0.1766, -0.2767,  0.3092, -0.3832,  0.2796],\n",
      "        [-0.2450, -0.3009, -0.4135,  0.3988,  0.2293],\n",
      "        [-0.1781,  0.2571,  0.2955,  0.1245, -0.0179]])\n",
      "fc2.bias tensor([-0.0993, -0.1250, -0.1507, -0.2781,  0.1909])\n",
      "fc3.weight tensor([[ 0.1410,  0.2814, -0.3597,  0.0520, -0.2148],\n",
      "        [-0.1506, -0.3182, -0.3427,  0.2924,  0.3265],\n",
      "        [-0.0106, -0.1717,  0.2426,  0.2002, -0.2602],\n",
      "        [-0.0886, -0.3128, -0.1377, -0.0938,  0.4262],\n",
      "        [-0.3179, -0.3916, -0.0250,  0.0922,  0.0322]])\n",
      "fc3.bias tensor([-0.0916, -0.2632,  0.2369, -0.3083,  0.2281])\n",
      "fc4.weight tensor([[ 0.2759,  0.0755, -0.2437,  0.2534, -0.3574]])\n",
      "fc4.bias tensor([-0.0661])\n"
     ]
    }
   ],
   "source": [
    "model = Net_Task2(input_dimension = 5, output_dimension = 1)\n",
    "print('\\n The model parameters before the update are: \\n')\n",
    "print_params(model)"
   ]
  },
  {
   "cell_type": "code",
   "execution_count": 6,
   "metadata": {},
   "outputs": [],
   "source": [
    "class Network_Visualization:\n",
    "    def __init__(self,display,magnification,Model,input_size):\n",
    "        self.layers,self.connexions,self.nodes = layers_connexion(model,input_size)\n",
    "        # Set whether the environment should be displayed after every step\n",
    "        self.display = display\n",
    "        # Set the magnification factor of the display\n",
    "        self.magnification = magnification\n",
    "        # Create an image which will be used to display the environment\n",
    "        self.image = np.zeros([int(self.magnification), int(self.magnification), 3], dtype=np.uint8)\n",
    "        # Set the width and height of the environment\n",
    "        self.width = 5\n",
    "        self.height = 5\n",
    "        self.rayon = 20\n",
    "            \n",
    "        # Init y coordinates of each layers\n",
    "        self.b = np.linspace(4* self.rayon,\n",
    "                        self.magnification-4*self.rayon,\n",
    "                        self.layers)\n",
    "        # Init coordinates of each nodes, i//self.layers allow to have the same y coordinates for every nodes of the same layer\n",
    "        self.nodes_coordinates()\n",
    "\n",
    "    def nodes_coordinates(self):\n",
    "        self.Nodes_coordinates = []\n",
    "        N_max = np.argmax(self.nodes)  \n",
    "        a = np.linspace(4* self.rayon, self.magnification-4*self.rayon, self.nodes[N_max])\n",
    "        inter_space = a[1] - a[0]\n",
    "\n",
    "        for i in range(self.layers):\n",
    "            width_bound = self.nodes[i]*2+self.rayon + (self.nodes[i] - 1)*inter_space\n",
    "            lower_bound = int(np.floor((self.magnification- width_bound)/2))\n",
    "            upper_bound = int(np.floor((self.magnification + width_bound)/2))\n",
    "            print(\"lower_bound\",lower_bound)\n",
    "            print(max([4* self.rayon,lower_bound]))\n",
    "            a = np.linspace(np.max([4* self.rayon,lower_bound]),\n",
    "                            np.min([self.magnification-4*self.rayon,upper_bound]),\n",
    "                            self.nodes[i])\n",
    "            coordinates = [[int(a[j]),int(self.b[i])] for j in range(len(a))]\n",
    "            self.Nodes_coordinates.append(coordinates)    \n",
    "    \n",
    "    def draw(self):\n",
    "        # Create the background image\n",
    "        window_top_left = (0, 0)\n",
    "        window_bottom_right = (self.magnification , self.magnification )\n",
    "        cv2.rectangle(self.image, window_top_left, window_bottom_right, (255, 255, 255), thickness=cv2.FILLED)\n",
    "        #Draw the Nodes\n",
    "        \n",
    "        for i in range(self.layers):\n",
    "            for j in range(len(self.Nodes_coordinates[i])):\n",
    "                cv2.circle(self.image,center= self.Nodes_coordinates[i][j], \n",
    "                           radius = self.rayon, \n",
    "                           color =(139,139,0), \n",
    "                           thickness = 2 )\n",
    "        #Draw the connexions\n",
    "        for i in reversed(range(1, self.layers )):\n",
    "            g = self.connexions[i-1].shape\n",
    "            for j in range(g[0]):\n",
    "                for k in range(g[1]):\n",
    "                    if self.connexions[i-1][j][k] != 0:\n",
    "                      \n",
    "                        cv2.line(self.image, \n",
    "                                 pt1 = np.array(self.Nodes_coordinates[i-1][k]) + [0,self.rayon], \n",
    "                                 pt2 = np.array(self.Nodes_coordinates[i][j]) - [0,self.rayon],\n",
    "                                 color =  (238,229,142) , \n",
    "                                 thickness = 2)\n",
    "\n",
    "        cv2.imshow(\"Neural Network\", self.image)\n",
    "        # This line is necessary to give time for the image to be rendered on the screen\n",
    "        cv2.waitKey(1)\n",
    "        "
   ]
  },
  {
   "cell_type": "code",
   "execution_count": 7,
   "metadata": {
    "tags": []
   },
   "outputs": [
    {
     "name": "stdout",
     "output_type": "stream",
     "text": [
      "lower_bound 65\n",
      "80\n",
      "lower_bound 65\n",
      "80\n",
      "lower_bound 65\n",
      "80\n",
      "lower_bound 65\n",
      "80\n",
      "lower_bound 389\n",
      "389\n"
     ]
    }
   ],
   "source": [
    "display_on = True\n",
    "visu = Network_Visualization(display = display_on,magnification=800,Model = model,input_size=5)\n",
    "\n",
    "# Determine the time at which training will stop, i.e. in 10 minutes (600 seconds) time\n",
    "start_time = time.time() \n",
    "end_time = start_time + 30\n",
    "visu.draw()\n",
    "#while time.time() < end_time:\n",
    "# Optionally, show the environment\n",
    " #   if display_on:\n",
    "  #      visu.draw()"
   ]
  },
  {
   "cell_type": "code",
   "execution_count": 8,
   "metadata": {},
   "outputs": [],
   "source": [
    "\n",
    "magnification = 800\n",
    "height = 5\n",
    "width = 5\n",
    "image = np.zeros([int(magnification), int(magnification), 3], dtype=np.uint8)\n",
    "window_top_left = (0, 0)\n",
    "window_bottom_right = (magnification*height, magnification*width)\n",
    "cv2.rectangle(image, window_top_left, window_bottom_right, (0, 238, 229), thickness=cv2.FILLED)\n",
    "cv2.imshow(\"Environment6\",image)\n"
   ]
  },
  {
   "cell_type": "code",
   "execution_count": null,
   "metadata": {},
   "outputs": [],
   "source": []
  }
 ],
 "metadata": {
  "interpreter": {
   "hash": "e47b1a34c05c1e3b83a62d7885c9d1b5ef8a0522d3be0182d0a008ec409b2b3d"
  },
  "kernelspec": {
   "display_name": "Python 3.8.2 64-bit ('myenv': conda)",
   "name": "python3"
  },
  "language_info": {
   "codemirror_mode": {
    "name": "ipython",
    "version": 3
   },
   "file_extension": ".py",
   "mimetype": "text/x-python",
   "name": "python",
   "nbconvert_exporter": "python",
   "pygments_lexer": "ipython3",
   "version": "3.8.2"
  }
 },
 "nbformat": 4,
 "nbformat_minor": 4
}
