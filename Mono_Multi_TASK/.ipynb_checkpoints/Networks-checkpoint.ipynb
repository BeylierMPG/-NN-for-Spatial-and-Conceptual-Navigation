{
 "cells": [
  {
   "cell_type": "code",
   "execution_count": 1,
   "metadata": {},
   "outputs": [],
   "source": [
    "import torch\n",
    "import torch.nn as nn\n",
    "import torch.nn.functional as F"
   ]
  },
  {
   "cell_type": "code",
   "execution_count": 2,
   "metadata": {},
   "outputs": [],
   "source": [
    "class Net(torch.nn.Module):\n",
    "    def __init__(self,input_dimension,multi_task):\n",
    "        super(Net, self).__init__()\n",
    "\n",
    "        if multi_task \n",
    "            nodes_second = 4 \n",
    "            output_dimension = 2\n",
    "        else:\n",
    "            nodes_second = 2\n",
    "            output_dimension = 1\n",
    "\n",
    "\n",
    "        self.fc1 = nn.Linear(in_features = input_dimension, out_features = 2)\n",
    "        self.fc2 = nn.Linear(in_features = 2, out_features = nodes_second)\n",
    "        self.fc3 = nn.Linear(in_features = nodes_second,  out_features = output_dimension)\n",
    "\n",
    "        torch.nn.init.xavier_normal_(self.fc1.weight)\n",
    "        torch.nn.init.xavier_normal_(self.fc2.weight)\n",
    "        torch.nn.init.xavier_normal_(self.fc3.weight)\n",
    "\n",
    "\n",
    "    def forward(self, x):\n",
    "        x = self.fc1(x)\n",
    "        x = F.relu(self.fc2(x)) #tanh if does not work than not a smoothness issue\n",
    "        x = self.fc3(x)\n",
    "        return torch.sigmoid(x)\n"
   ]
  },
  {
   "cell_type": "code",
   "execution_count": 3,
   "metadata": {},
   "outputs": [],
   "source": [
    "class Training():\n",
    "\n",
    "    # The class initialisation function.\n",
    "    def __init__(self,model,opti,loss):\n",
    "        self.model = model\n",
    "        self.optimizer = opti\n",
    "        self.criterion = loss\n",
    "    \n",
    "    def train_network(self,data,target,pumpkin_seed,multi_task):\n",
    "\n",
    "        self.mask1 = torch.tensor([[1,1,1,1,0],[1,1,1,1,0]])\n",
    "\n",
    "        if pumpkin_seed == 1:\n",
    "            self.mask3 = torch.tensor([[0,0,0,0],[0,0,1,1]])  \n",
    "\n",
    "        if pumpkin_seed == 0:\n",
    "            self.mask3 = torch.tensor([[1,1,0,0],[0,0,0,0]])\n",
    "\n",
    "        with torch.no_grad():\n",
    "            self.model.fc1.weight.mul_(self.mask1)\n",
    "\n",
    "        Loss = []  \n",
    "        #Compute the prediction\n",
    "        output = self.model.forward(data)\n",
    "        # Calculate the loss for this transition.\n",
    "        loss =  self.criterion(output,target)\n",
    "        # Set all the gradients stored in the optimiser to zero.\n",
    "        self.optimizer.zero_grad()\n",
    "\n",
    "        loss.backward() \n",
    "\n",
    "        # Compute the gradients based on this loss, i.e. the gradients of the loss with respect to the Q-network parameters.\n",
    "        with torch.no_grad():\n",
    "            self.model.fc1.weight.grad.mul_(self.mask1)\n",
    "            if multi_task : \n",
    "                self.model.fc3.weight.grad.mul_(self.mask3) # still takes into account all the weights in the forward pass, will it just create a sort of bias?\n",
    "\n",
    "\n",
    "        # Take one gradient step to update the Q-network. \n",
    "        self.optimizer.step()\n",
    "\n",
    "        return loss"
   ]
  },
  {
   "cell_type": "code",
   "execution_count": null,
   "metadata": {},
   "outputs": [],
   "source": []
  }
 ],
 "metadata": {
  "interpreter": {
   "hash": "e47b1a34c05c1e3b83a62d7885c9d1b5ef8a0522d3be0182d0a008ec409b2b3d"
  },
  "kernelspec": {
   "display_name": "Python 3 (ipykernel)",
   "language": "python",
   "name": "python3"
  },
  "language_info": {
   "codemirror_mode": {
    "name": "ipython",
    "version": 3
   },
   "file_extension": ".py",
   "mimetype": "text/x-python",
   "name": "python",
   "nbconvert_exporter": "python",
   "pygments_lexer": "ipython3",
   "version": "3.7.11"
  }
 },
 "nbformat": 4,
 "nbformat_minor": 2
}
