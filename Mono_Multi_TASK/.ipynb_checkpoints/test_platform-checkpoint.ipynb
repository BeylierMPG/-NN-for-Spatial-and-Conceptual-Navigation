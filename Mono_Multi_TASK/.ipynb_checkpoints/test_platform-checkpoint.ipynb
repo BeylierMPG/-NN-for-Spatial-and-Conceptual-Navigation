{
 "cells": [
  {
   "cell_type": "code",
   "execution_count": 1,
   "id": "babeadab",
   "metadata": {},
   "outputs": [],
   "source": [
    "import torch\n",
    "import torch.nn as nn\n",
    "import time\n",
    "import numpy as np\n",
    "import random\n",
    "from matplotlib import pyplot as plt\n",
    "from Network_v2 import Net_Multi"
   ]
  },
  {
   "cell_type": "code",
   "execution_count": null,
   "id": "441db987",
   "metadata": {},
   "outputs": [],
   "source": []
  },
  {
   "cell_type": "code",
   "execution_count": 2,
   "id": "e9547d73",
   "metadata": {},
   "outputs": [],
   "source": [
    "INPUT_DIM = 4\n",
    "NODES_SECOND = 2\n",
    "NODES_THIRD = 4\n"
   ]
  },
  {
   "cell_type": "code",
   "execution_count": 3,
   "id": "838b4caa",
   "metadata": {},
   "outputs": [],
   "source": [
    "model = Net_Multi(INPUT_DIM,NODES_SECOND,NODES_THIRD)"
   ]
  },
  {
   "cell_type": "code",
   "execution_count": 4,
   "id": "f7f41223",
   "metadata": {},
   "outputs": [
    {
     "name": "stdout",
     "output_type": "stream",
     "text": [
      "torch.Size([2, 4])\n"
     ]
    }
   ],
   "source": [
    "print(model.mask.shape)"
   ]
  },
  {
   "cell_type": "code",
   "execution_count": 5,
   "id": "15bcf95b",
   "metadata": {},
   "outputs": [
    {
     "name": "stdout",
     "output_type": "stream",
     "text": [
      "Model's state_dict:\n",
      "fc1.weight \t torch.Size([2, 4])\n",
      "fc1.bias \t torch.Size([2])\n",
      "fc2.weight \t torch.Size([4, 2])\n",
      "fc2.bias \t torch.Size([4])\n",
      "fc3.weight \t torch.Size([2, 4])\n",
      "fc3.bias \t torch.Size([2])\n"
     ]
    }
   ],
   "source": [
    "# Print model's state_dict\n",
    "print(\"Model's state_dict:\")\n",
    "for param_tensor in model.state_dict():\n",
    "    print(param_tensor, \"\\t\", model.state_dict()[param_tensor].size())\n"
   ]
  },
  {
   "cell_type": "code",
   "execution_count": 6,
   "id": "5eae9a96",
   "metadata": {},
   "outputs": [
    {
     "name": "stdout",
     "output_type": "stream",
     "text": [
      "Parameter containing:\n",
      "tensor([[-0.7077, -0.2258,  0.0000,  0.0000],\n",
      "        [ 0.0000, -0.0000,  0.0332,  0.4238]], requires_grad=True)\n"
     ]
    }
   ],
   "source": [
    "print(model.fc3.weight)"
   ]
  },
  {
   "cell_type": "code",
   "execution_count": 7,
   "id": "7654e95a",
   "metadata": {},
   "outputs": [
    {
     "name": "stdout",
     "output_type": "stream",
     "text": [
      "Parameter containing:\n",
      "tensor([[-0.5394, -0.2559],\n",
      "        [ 0.3001, -1.0159],\n",
      "        [-0.3928, -0.4310],\n",
      "        [-0.3512, -0.6223]], requires_grad=True)\n"
     ]
    }
   ],
   "source": [
    "print(model.fc2.weight)"
   ]
  },
  {
   "cell_type": "code",
   "execution_count": 8,
   "id": "0a446cf8",
   "metadata": {},
   "outputs": [
    {
     "name": "stdout",
     "output_type": "stream",
     "text": [
      "Parameter containing:\n",
      "tensor([-0.0389,  0.3622, -0.4159, -0.2058], requires_grad=True)\n"
     ]
    }
   ],
   "source": [
    "print(model.fc2.bias)"
   ]
  },
  {
   "cell_type": "code",
   "execution_count": 9,
   "id": "33a0c30e",
   "metadata": {},
   "outputs": [
    {
     "name": "stdout",
     "output_type": "stream",
     "text": [
      "tensor([[1., 1., 0., 0.],\n",
      "        [0., 0., 0., 0.]], dtype=torch.float64)\n"
     ]
    }
   ],
   "source": [
    "print(model.mask_conceptual)"
   ]
  },
  {
   "cell_type": "code",
   "execution_count": 10,
   "id": "dd1979f1",
   "metadata": {},
   "outputs": [
    {
     "name": "stdout",
     "output_type": "stream",
     "text": [
      "tensor([[0., 0., 0., 0.],\n",
      "        [0., 0., 1., 1.]], dtype=torch.float64)\n"
     ]
    }
   ],
   "source": [
    "print(model.mask_spatial)"
   ]
  },
  {
   "cell_type": "code",
   "execution_count": null,
   "id": "91dc179b",
   "metadata": {},
   "outputs": [],
   "source": []
  }
 ],
 "metadata": {
  "kernelspec": {
   "display_name": "atari1.0_kernel",
   "language": "python",
   "name": "atari1.0"
  },
  "language_info": {
   "codemirror_mode": {
    "name": "ipython",
    "version": 3
   },
   "file_extension": ".py",
   "mimetype": "text/x-python",
   "name": "python",
   "nbconvert_exporter": "python",
   "pygments_lexer": "ipython3",
   "version": "3.7.11"
  }
 },
 "nbformat": 4,
 "nbformat_minor": 5
}
