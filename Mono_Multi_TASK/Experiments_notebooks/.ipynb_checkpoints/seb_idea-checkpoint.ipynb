{
 "cells": [
  {
   "cell_type": "code",
   "execution_count": 1,
   "id": "2a46ed7f",
   "metadata": {},
   "outputs": [],
   "source": [
    "import torch\n",
    "import numpy as np\n",
    "import random\n",
    "from torch.utils.data import DataLoader\n",
    "from torch.utils.data import Dataset, TensorDataset\n",
    "from torch.utils.data.dataset import random_split\n",
    "\n",
    "import torch.nn as nn\n",
    "import time\n",
    "from matplotlib import pyplot as plt\n",
    "from IPython.display import clear_output\n",
    "\n",
    "import copy\n",
    "\n",
    "import sys\n",
    "sys.path.append(\"/Users/charlottebeylier/Documents/PhD/Spatial and Conceptual Learning/github_code/Mono_Multi_TASK/Experimental_setup\")\n",
    "from Experiment_v5 import Experiment\n",
    "sys.path.append(\"/Users/charlottebeylier/Documents/PhD/Spatial and Conceptual Learning/github_code/Mono_Multi_TASK/Training\")\n",
    "from Training_Networks import Training\n",
    "sys.path.append(\"/Users/charlottebeylier/Documents/PhD/Spatial and Conceptual Learning/github_code/Mono_Multi_TASK/Analysis\")\n",
    "from Check import Checkup\n",
    "from Hooks import Activation_Hook\n",
    "sys.path.append(\"/Users/charlottebeylier/Documents/PhD/Spatial and Conceptual Learning/github_code/Mono_Multi_TASK/Models\")\n",
    "from Networks_v2 import Net_Individual,Net_Multi\n",
    "\n",
    "from mpl_toolkits.mplot3d import Axes3D\n",
    "from sklearn.preprocessing import scale\n",
    "from sklearn.decomposition import PCA, IncrementalPCA\n",
    "\n",
    "sys.path.append(\"/Users/charlottebeylier/Documents/PhD/Atari1.0/Reinforcement-Learning_modif/cgames/02_space_invader/Experiments/Analysis\")\n",
    "from Manifold_Analysis import Manifold_analysis\n",
    "from matplotlib import animation\n",
    "from IPython.display import HTML\n",
    "from tabulate import tabulate\n",
    "\n",
    "\n",
    "# importing required libraries\n",
    "from mpl_toolkits.mplot3d import Axes3D\n",
    "\n",
    "from sklearn.datasets import load_iris\n",
    "from sklearn.decomposition import PCA, IncrementalPCA\n",
    "from sklearn.manifold import MDS\n",
    "from sklearn.manifold import Isomap\n",
    "from sklearn.metrics import pairwise_distances\n",
    "\n",
    "from matplotlib.ticker import NullFormatter\n",
    "from collections import OrderedDict\n",
    "from functools import partial\n",
    "from sklearn import manifold, datasets"
   ]
  },
  {
   "cell_type": "markdown",
   "id": "55ddff40",
   "metadata": {},
   "source": [
    "# Reproducibility "
   ]
  },
  {
   "cell_type": "code",
   "execution_count": 2,
   "id": "396b6187",
   "metadata": {},
   "outputs": [
    {
     "name": "stdout",
     "output_type": "stream",
     "text": [
      "Device:  cpu\n",
      "Random seed 2021 has been set.\n"
     ]
    },
    {
     "data": {
      "text/plain": [
       "<torch._C.Generator at 0x7f9e4208c7d0>"
      ]
     },
     "execution_count": 2,
     "metadata": {},
     "output_type": "execute_result"
    }
   ],
   "source": [
    "# if gpu is to be used\n",
    "device = torch.device(\"cuda\" if torch.cuda.is_available() else \"cpu\")\n",
    "print(\"Device: \", device)\n",
    "\n",
    "def set_seed(seed=None, seed_torch=True):\n",
    "    if seed is None:\n",
    "        seed = np.random.choice(2 ** 32)\n",
    "    random.seed(seed)\n",
    "    np.random.seed(seed)\n",
    "    if seed_torch:\n",
    "        torch.manual_seed(seed)\n",
    "\n",
    "    print(f'Random seed {seed} has been set.')\n",
    "\n",
    "SEED = 2021\n",
    "set_seed(seed=SEED)\n",
    "\n",
    "\n",
    "G_SEED = torch.Generator()\n",
    "G_SEED.manual_seed(SEED)"
   ]
  },
  {
   "cell_type": "markdown",
   "id": "09596fd2",
   "metadata": {},
   "source": [
    "# Checkup"
   ]
  },
  {
   "cell_type": "code",
   "execution_count": 3,
   "id": "5c297b26",
   "metadata": {},
   "outputs": [],
   "source": [
    "class Checkup():\n",
    "    def __init__(self):\n",
    "        \n",
    "        pass\n",
    "    \n",
    "    \n",
    "    def Display_Score(self,model,test_loader,epsilon,example,spatial):\n",
    "        length = 0\n",
    "        score = 0\n",
    "        for x_test,y_test in test_loader:\n",
    "             with torch.no_grad():\n",
    "                pumpkin_seed = np.int(x_test[0][5])\n",
    "                if spatial:\n",
    "                    x_test = x_test[:,0:2]\n",
    "                else:\n",
    "                    x_test = x_test[:,2:5]\n",
    "                yhat = torch.nn.Sigmoid()(model(x_test).squeeze(1))\n",
    "                length += len(y_test)\n",
    "                    \n",
    "                for i in range(len(yhat)):\n",
    " \n",
    "                    if np.abs(yhat[i]- y_test[i] )<epsilon:\n",
    "                         score+=1\n",
    "\n",
    "\n",
    "        if example:\n",
    "            print(\"Data\",x_test)\n",
    "            print(\"Target\",y_test)\n",
    "            print(\"Prediction\",yhat)\n",
    "        print(\"Score final : \", (score/length)*100)\n",
    "        "
   ]
  },
  {
   "cell_type": "markdown",
   "id": "bc5f3ad9",
   "metadata": {},
   "source": [
    "# Conceptual task"
   ]
  },
  {
   "cell_type": "markdown",
   "id": "2607330f",
   "metadata": {},
   "source": [
    "## Generate the Dataset"
   ]
  },
  {
   "cell_type": "code",
   "execution_count": 4,
   "id": "e328ce10",
   "metadata": {},
   "outputs": [],
   "source": [
    "WIDTH = 100\n",
    "EPOCH = 100\n",
    "BATCH_SIZE = 32\n",
    "Nodes_Second = 10\n",
    "Nodes_Third = 10\n"
   ]
  },
  {
   "cell_type": "code",
   "execution_count": 5,
   "id": "0f6147b0",
   "metadata": {},
   "outputs": [
    {
     "name": "stdout",
     "output_type": "stream",
     "text": [
      "Random seed 2021 has been set.\n",
      "Test size dataset space torch.Size([999, 6])\n",
      "Test size dataset weather torch.Size([999, 6])\n",
      "Train size dataset space torch.Size([7000, 6])\n",
      "Train size dataset weather torch.Size([7000, 6])\n"
     ]
    }
   ],
   "source": [
    "set_seed(seed=SEED)\n",
    "experiment = Experiment(width = WIDTH,batch_size=BATCH_SIZE,size_output_multi=2)\n",
    "dataset_train,dataset_space_train,dataset_weather_train,dataset_val,dataset_space_val,dataset_weather_val,dataset_test,dataset_space_test,dataset_weather_test= experiment.Generate_data()\n",
    "train_loader = torch.utils.data.DataLoader(dataset_weather_train,batch_size=10,shuffle = False )\n",
    "val_loader = torch.utils.data.DataLoader(dataset_weather_val,batch_size=1,shuffle = False )\n",
    "test_loader_weather = torch.utils.data.DataLoader(dataset_weather_test,batch_size=1,shuffle = False ) #bATCH SIZE =1 HERE FOR THE DATASET ONLY, ELSE TAKE WHATEVER BATCH SIZE IN INDIVIDUAL MODE"
   ]
  },
  {
   "cell_type": "code",
   "execution_count": 6,
   "id": "387d463f",
   "metadata": {},
   "outputs": [],
   "source": [
    "y = 0\n",
    "episode = 0\n",
    "for x_train, y_train in test_loader_weather:\n",
    "    episode+=1\n",
    "   #\n",
    "   #  print(episode)"
   ]
  },
  {
   "cell_type": "markdown",
   "id": "98e163da",
   "metadata": {},
   "source": [
    "## Initalize the Network"
   ]
  },
  {
   "cell_type": "code",
   "execution_count": 7,
   "id": "c9cc2f61",
   "metadata": {},
   "outputs": [],
   "source": [
    "model_weather = Net_Individual(input_dimension=3,nodes_second = Nodes_Second,nodes_third = Nodes_Third,nodes_output = 1)    \n",
    "optimizer = torch.optim.Adam(model_weather.parameters(), lr=0.01, betas=(0.9, 0.999), eps=1e-08, weight_decay=0, amsgrad=False)\n",
    "criterion = nn.BCEWithLogitsLoss()\n"
   ]
  },
  {
   "cell_type": "markdown",
   "id": "27793d84",
   "metadata": {},
   "source": [
    "## Training"
   ]
  },
  {
   "cell_type": "code",
   "execution_count": null,
   "id": "589d4709",
   "metadata": {},
   "outputs": [
    {
     "name": "stdout",
     "output_type": "stream",
     "text": [
      "Epoch 75, val_loss 0.022522482173093383\n"
     ]
    },
    {
     "data": {
      "image/png": "[encoded data removed]",
      "text/plain": [
       "<Figure size 432x288 with 1 Axes>"
      ]
     },
     "metadata": {
      "needs_background": "light"
     },
     "output_type": "display_data"
    }
   ],
   "source": [
    "\n",
    "\n",
    "losses = []\n",
    "val_losses = []\n",
    "\n",
    "for epoch in range(EPOCH):\n",
    "\n",
    "    loss = 0\n",
    "    val_loss = 0 \n",
    "\n",
    "    for x_batch, y_batch in train_loader:\n",
    "\n",
    "        x_batch = x_batch[:,2:5]\n",
    "            \n",
    "        optimizer.zero_grad()\n",
    "        output = model_weather(x_batch).squeeze(1)\n",
    "\n",
    "        output_loss = criterion(output,y_batch)\n",
    "        output_loss.backward()\n",
    "        optimizer.step()\n",
    "            \n",
    "        loss += output_loss.detach().numpy()\n",
    "    losses.append(loss/len(train_loader))\n",
    "            \n",
    "    with torch.no_grad():\n",
    "        for x_val, y_val in val_loader:\n",
    "            model_weather.eval() # not useful for now\n",
    "            x_val = x_val[:,2:5]\n",
    "            yhat = model_weather(x_val).squeeze(1)\n",
    "            val_loss += criterion(yhat,y_val)\n",
    "        val_losses.append(val_loss.item()/len(val_loader))\n",
    "\n",
    "\n",
    "    if np.mod(epoch,1)==0: \n",
    "        clear_output()\n",
    "        print(\"Epoch {}, val_loss {}\".format(epoch, val_loss.item()/len(val_loader))) \n",
    "        fig = plt.figure()\n",
    "        ax = fig.add_subplot(111)\n",
    "        plt.plot(np.arange(len(val_losses)), val_losses)\n",
    "        plt.ylabel('Loss')\n",
    "        plt.xlabel('Epoch #')\n",
    "        plt.show()\n",
    "            \n",
    "            \n",
    "\n"
   ]
  },
  {
   "cell_type": "markdown",
   "id": "da460692",
   "metadata": {},
   "source": [
    "## Accuracy Score"
   ]
  },
  {
   "cell_type": "code",
   "execution_count": null,
   "id": "c53e0b96",
   "metadata": {},
   "outputs": [],
   "source": [
    "checkUP = Checkup() \n",
    "EPSILON = 0.3\n",
    "checkUP.Display_Score(model_weather,test_loader_weather, EPSILON,True,False)"
   ]
  },
  {
   "cell_type": "markdown",
   "id": "8560e6b5",
   "metadata": {},
   "source": [
    "# Spatial Task"
   ]
  },
  {
   "cell_type": "markdown",
   "id": "63e29c3c",
   "metadata": {},
   "source": [
    "## Generate the Dataset"
   ]
  },
  {
   "cell_type": "code",
   "execution_count": null,
   "id": "8570b3a7",
   "metadata": {},
   "outputs": [],
   "source": [
    "set_seed(seed=SEED)\n",
    "experiment = Experiment(width = WIDTH,batch_size=BATCH_SIZE,size_output_multi=2)\n",
    "dataset_train,dataset_space_train,dataset_weather_train,dataset_val,dataset_space_val,dataset_weather_val,dataset_test,dataset_space_test,dataset_weather_test= experiment.Generate_data()\n",
    "train_loader = torch.utils.data.DataLoader(dataset_space_train,batch_size=10,shuffle = False )\n",
    "val_loader = torch.utils.data.DataLoader(dataset_space_val,batch_size=1,shuffle = False )\n",
    "test_loader_space = torch.utils.data.DataLoader(dataset_space_test,batch_size=1,shuffle = False ) #bATCH SIZE =1 HERE FOR THE DATASET ONLY, ELSE TAKE WHATEVER BATCH SIZE IN INDIVIDUAL MODE\n"
   ]
  },
  {
   "cell_type": "markdown",
   "id": "e31ffeab",
   "metadata": {},
   "source": [
    "## Initalize the Network"
   ]
  },
  {
   "cell_type": "code",
   "execution_count": null,
   "id": "ea10f4bc",
   "metadata": {},
   "outputs": [],
   "source": [
    "\n",
    "model_space = Net_Individual(input_dimension=2,nodes_second = Nodes_Second,nodes_third = Nodes_Third,nodes_output = 1)    \n",
    "\n",
    "\n",
    "model_space.fc2[0].weight = model_weather.fc2[0].weight\n",
    "model_space.fc3[0].weight = model_weather.fc3[0].weight\n",
    "\n",
    "optimizer = torch.optim.Adam(model_space.parameters(), lr=0.01, betas=(0.9, 0.999), eps=1e-08, weight_decay=0, amsgrad=False)\n",
    "criterion = nn.BCEWithLogitsLoss()\n",
    "\n",
    "for param in model_space.fc2.parameters():\n",
    "    param.requires_grad = False\n",
    "\n",
    "\n",
    "for param in model_space.fc3.parameters():\n",
    "    param.requires_grad = False\n",
    "\n"
   ]
  },
  {
   "cell_type": "markdown",
   "id": "3929f009",
   "metadata": {},
   "source": [
    "## Training"
   ]
  },
  {
   "cell_type": "code",
   "execution_count": null,
   "id": "90f3589f",
   "metadata": {},
   "outputs": [],
   "source": [
    "\n",
    "\n",
    "losses = []\n",
    "val_losses = []\n",
    "\n",
    "for epoch in range(EPOCH):\n",
    "\n",
    "    loss = 0\n",
    "    val_loss = 0 \n",
    "\n",
    "    for x_batch, y_batch in train_loader:\n",
    "\n",
    "        x_batch = x_batch[:,0:2]\n",
    "            \n",
    "        optimizer.zero_grad()\n",
    "        output = model_space(x_batch).squeeze(1)\n",
    "\n",
    "        output_loss = criterion(output,y_batch)\n",
    "        output_loss.backward()\n",
    "        optimizer.step()\n",
    "            \n",
    "        loss += output_loss.detach().numpy()\n",
    "    losses.append(loss/len(train_loader))\n",
    "            \n",
    "    with torch.no_grad():\n",
    "        for x_val, y_val in val_loader:\n",
    "            model_space.eval() # not useful for now\n",
    "            x_val = x_val[:,0:2]\n",
    "            yhat = model_space(x_val).squeeze(1)\n",
    "            val_loss += criterion(yhat,y_val)\n",
    "        val_losses.append(val_loss.item()/len(val_loader))\n",
    "\n",
    "\n",
    "    if np.mod(epoch,1)==0: \n",
    "        \n",
    "        clear_output()\n",
    "        print(\"Epoch {}, val_loss {}\".format(epoch, val_loss.item()/len(val_loader))) \n",
    "        fig = plt.figure()\n",
    "        ax = fig.add_subplot(111)\n",
    "        plt.plot(np.arange(len(val_losses)), val_losses)\n",
    "        plt.ylabel('Loss')\n",
    "        plt.xlabel('Epoch #')\n",
    "        plt.show()\n",
    "            \n",
    "            \n",
    "\n"
   ]
  },
  {
   "cell_type": "code",
   "execution_count": null,
   "id": "e02f6968",
   "metadata": {},
   "outputs": [],
   "source": [
    "print(model_space)"
   ]
  },
  {
   "cell_type": "code",
   "execution_count": null,
   "id": "4def8aa7",
   "metadata": {},
   "outputs": [],
   "source": [
    "y = 0\n",
    "episode = 0\n",
    "for x_test,y_test in test_loader_space:\n",
    "    with torch.no_grad():\n",
    "        pumpkin_seed = np.int(x_test[0][5])\n",
    "        x_test = x_test[:,0:2]\n",
    "        yhat = torch.nn.Sigmoid()(model_space(x_test).squeeze(1))\n",
    "        print(\"pumpkin_seed\",pumpkin_seed)\n",
    "        print(y_test)\n",
    "        print(yhat )\n",
    "          "
   ]
  },
  {
   "cell_type": "markdown",
   "id": "0f59298c",
   "metadata": {},
   "source": [
    "## Accuracy Score"
   ]
  },
  {
   "cell_type": "code",
   "execution_count": null,
   "id": "71eb42ab",
   "metadata": {},
   "outputs": [],
   "source": [
    "checkUP = Checkup() \n",
    "EPSILON = 0.3\n",
    "checkUP.Display_Score(model_space,test_loader_space, EPSILON,True,False)"
   ]
  },
  {
   "cell_type": "markdown",
   "id": "064e5388",
   "metadata": {},
   "source": [
    "# Representational Space Analysis"
   ]
  },
  {
   "cell_type": "markdown",
   "id": "be785879",
   "metadata": {},
   "source": [
    "## Sample activation outputs"
   ]
  },
  {
   "cell_type": "code",
   "execution_count": null,
   "id": "1b92d41d",
   "metadata": {},
   "outputs": [],
   "source": [
    "Liste_models = [model_weather,model_space]\n",
    "\n",
    "\n",
    "#Liste_models = [Model_space]\n",
    "activation_hook = Activation_Hook()\n",
    "\n",
    "\n",
    "Names_hook = [\"fc1\",\"fc2\",\"fc3\"]\n",
    "episode  = 0\n",
    "\n",
    "Liste_activation = [[[] for i in range(len(Names_hook))] for j in range(len( Liste_models ))]\n",
    "Liste_test_loader = [test_loader_weather,test_loader_space]\n",
    "\n",
    "\n",
    "\n",
    "for num_model in range(len(Liste_models)):\n",
    "    print(\"num_model\",num_model)\n",
    "    model = Liste_models[num_model]\n",
    "    activation_hook.registration(model)\n",
    "    episode = 0\n",
    "    for x_test,y_test in Liste_test_loader[num_model]:\n",
    "        with torch.no_grad():\n",
    "            pumpkin_seed = np.int(x_test[0][5])\n",
    "\n",
    "            if num_model ==0:\n",
    "                x_test = x_test[:,2:5]\n",
    "            if num_model ==1:\n",
    "                x_test = x_test[:,0:2]\n",
    "\n",
    "            yhat = torch.nn.Sigmoid()(model(x_test).squeeze(1))\n",
    "            for h in range(len(Names_hook)):\n",
    "\n",
    "                b = torch.flatten(activation_hook.activation[Names_hook[h]])\n",
    "    \n",
    "                Liste_activation[num_model][h].append(b)  # If concatenate list directly with Liste_activation[agent_number][h] += torch.flatten(agent.activation[Names_hook[h]]) takes much more time\n",
    "        \n",
    "        episode += 1\n",
    "    activation_hook.detach()\n",
    "\n"
   ]
  },
  {
   "cell_type": "code",
   "execution_count": null,
   "id": "d69be065",
   "metadata": {},
   "outputs": [],
   "source": [
    "class Manifold_analysis():\n",
    "    \n",
    "    def __init__(self,length_trial):\n",
    "        \n",
    "        self.Names_hook = [\"fc1\",\"Conv_1\",\"Conv_2\",\"Conv_3\"]\n",
    "        self.length_trial = length_trial\n",
    "\n",
    "\n",
    "    def length_format(self,Activation):\n",
    "        if len(Activation) < self.length_trial:\n",
    "            print(\"Error: the trial is not long enough\")\n",
    "        else: \n",
    "            return Activation[:][:self.length_trial]\n",
    "\n",
    "        \n",
    "        \n",
    "    def prepro(self,Activation,Prepro_length):\n",
    "        \n",
    "        if Prepro_length:\n",
    "            activation = self.length_format(Activation)\n",
    "        else:\n",
    "            activation = Activation\n",
    "\n",
    "        Liste_activation = activation[0].unsqueeze(0)\n",
    "        for i in range(1,len(activation)-1):\n",
    "            Liste_activation = torch.cat((Liste_activation,activation[i].unsqueeze(0)),0)  # if no unsqueeze then does not have the right shape (steps,nodes)\n",
    "       # Liste_activation = Liste_activation.squeeze(1)\n",
    "       # print(\"Shape of the activation list is: \", Liste_activation.shape)\n",
    "        return Liste_activation.cpu().detach().numpy()"
   ]
  },
  {
   "cell_type": "markdown",
   "id": "61421436",
   "metadata": {},
   "source": [
    "## Preprocessing"
   ]
  },
  {
   "cell_type": "code",
   "execution_count": null,
   "id": "b2bc5830",
   "metadata": {},
   "outputs": [],
   "source": [
    "analysis = Manifold_analysis(length_trial = len(Liste_activation))\n",
    "Prepro_length = False\n",
    "activity_layer = [[[] for i in range(len(Names_hook))] for j in range(len( Liste_models))] \n",
    "\n",
    "for num_model in range(len(Liste_models)):\n",
    "    for layer in range(len(Names_hook)):\n",
    "        activity_layer[num_model][layer] = analysis.prepro(Liste_activation[num_model][layer],Prepro_length)"
   ]
  },
  {
   "cell_type": "markdown",
   "id": "7aad1b1c",
   "metadata": {},
   "source": [
    "## ISOMAP Analysis"
   ]
  },
  {
   "cell_type": "code",
   "execution_count": null,
   "id": "f46fb1b0",
   "metadata": {},
   "outputs": [],
   "source": [
    "Name_agent_number = [\"Conceptual\",\"Spatial\"]\n",
    "embedding = Isomap(n_neighbors=15,n_components=3)\n",
    "i = 1\n",
    "fig = plt.figure(figsize=(40, 30))\n",
    "\n",
    "for agent_number in range(len(Liste_models)):\n",
    "    for layer in range(len(Names_hook)):\n",
    "        ax = fig.add_subplot(len(Liste_models), len(Names_hook),i,projection='3d')\n",
    "        ax.set_title(\"Agent %s \\n Layer :%s\" % (Name_agent_number[agent_number], Names_hook[layer]))\n",
    "        \n",
    "        X = embedding.fit_transform(activity_layer[agent_number][layer])\n",
    "        ax.scatter3D(X[:, 0], X[:, 1], X[:, 2],label = episode)\n",
    "        \n",
    "        i+=1\n",
    "plt.legend(loc='upper left')\n",
    "plt.show()\n",
    "\n"
   ]
  },
  {
   "cell_type": "code",
   "execution_count": null,
   "id": "823d91ee",
   "metadata": {},
   "outputs": [],
   "source": []
  }
 ],
 "metadata": {
  "interpreter": {
   "hash": "3cd8fba5e2a7e5201efd12f596ba02da03390e92eb7b5a4f25cd4f2446eed5e6"
  },
  "kernelspec": {
   "display_name": "Python 3.7.11 64-bit ('atari1.0': conda)",
   "language": "python",
   "name": "python3711jvsc74a57bd03cd8fba5e2a7e5201efd12f596ba02da03390e92eb7b5a4f25cd4f2446eed5e6"
  },
  "language_info": {
   "codemirror_mode": {
    "name": "ipython",
    "version": 3
   },
   "file_extension": ".py",
   "mimetype": "text/x-python",
   "name": "python",
   "nbconvert_exporter": "python",
   "pygments_lexer": "ipython3",
   "version": "3.7.11"
  }
 },
 "nbformat": 4,
 "nbformat_minor": 5
}
