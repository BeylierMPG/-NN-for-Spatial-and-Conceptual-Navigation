{
 "cells": [
  {
   "cell_type": "code",
   "execution_count": 1,
   "id": "48ce52a3",
   "metadata": {},
   "outputs": [],
   "source": [
    "import torch\n",
    "import numpy as np\n",
    "import random\n",
    "from torch.utils.data import DataLoader\n",
    "from torch.utils.data import Dataset, TensorDataset\n",
    "from torch.utils.data.dataset import random_split\n",
    "\n",
    "import torch.nn as nn\n",
    "import time\n",
    "from matplotlib import pyplot as plt\n",
    "from mpl_toolkits.mplot3d import Axes3D\n",
    "from matplotlib import animation\n",
    "from IPython.display import HTML\n",
    "from tabulate import tabulate\n",
    "from IPython.display import clear_output\n",
    "\n",
    "\n",
    "\n",
    "import sys\n",
    "sys.path.append(\"/Users/charlottebeylier/Documents/PhD/Spatial and Conceptual Learning/github_code/Mono_Multi_TASK/Models\")\n",
    "from Networks_v2 import Net_Individual\n",
    "\n",
    "sys.path.append(\"/Users/charlottebeylier/Documents/PhD/Spatial and Conceptual Learning/github_code/Mono_Multi_TASK/Experimental_setup\")\n",
    "from Experiment_v5 import Experiment\n",
    "sys.path.append(\"/Users/charlottebeylier/Documents/PhD/Spatial and Conceptual Learning/github_code/Mono_Multi_TASK/Training\")\n",
    "from Training_Networks_frozen_weights import Training_frozen_weights\n",
    "sys.path.append(\"/Users/charlottebeylier/Documents/PhD/Spatial and Conceptual Learning/github_code/Mono_Multi_TASK/Analysis\")\n",
    "from Check import Checkup\n",
    "\n",
    "\n",
    "\n",
    "sys.path.append(\"/Users/charlottebeylier/Documents/PhD/Atari1.0/Reinforcement-Learning_modif/cgames/02_space_invader/Analysis\")\n",
    "from Manifold_Analysis import Manifold_analysis\n",
    "\n",
    "\n",
    "\n",
    "from sklearn.preprocessing import scale\n",
    "from sklearn.datasets import load_iris\n",
    "from sklearn.decomposition import PCA, IncrementalPCA\n",
    "from sklearn.manifold import MDS\n",
    "from sklearn.manifold import Isomap\n",
    "from sklearn.metrics import pairwise_distances\n",
    "\n",
    "from matplotlib.ticker import NullFormatter\n",
    "from collections import OrderedDict\n",
    "from functools import partial\n",
    "from sklearn import manifold, datasets"
   ]
  },
  {
   "cell_type": "code",
   "execution_count": 2,
   "id": "c1fb1fde",
   "metadata": {},
   "outputs": [
    {
     "name": "stdout",
     "output_type": "stream",
     "text": [
      "Device:  cpu\n",
      "Random seed 2021 has been set.\n"
     ]
    },
    {
     "data": {
      "text/plain": [
       "<torch._C.Generator at 0x7fde83e7bf10>"
      ]
     },
     "execution_count": 2,
     "metadata": {},
     "output_type": "execute_result"
    }
   ],
   "source": [
    "# if gpu is to be used\n",
    "device = torch.device(\"cuda\" if torch.cuda.is_available() else \"cpu\")\n",
    "print(\"Device: \", device)\n",
    "\n",
    "def set_seed(seed=None, seed_torch=True):\n",
    "    if seed is None:\n",
    "        seed = np.random.choice(2 ** 32)\n",
    "    random.seed(seed)\n",
    "    np.random.seed(seed)\n",
    "    if seed_torch:\n",
    "        torch.manual_seed(seed)\n",
    "\n",
    "    print(f'Random seed {seed} has been set.')\n",
    "\n",
    "SEED = 2021\n",
    "set_seed(seed=SEED)\n",
    "# if gpu is to be used\n",
    "#device = torch.device(\"cuda\" if torch.cuda.is_available() else \"cpu\")\n",
    "#print(\"Device: \", device)\n",
    "\n",
    "G_SEED = torch.Generator()\n",
    "G_SEED.manual_seed(SEED)"
   ]
  },
  {
   "cell_type": "markdown",
   "id": "8c8afc7d",
   "metadata": {},
   "source": [
    "## Generate the Dataset"
   ]
  },
  {
   "cell_type": "code",
   "execution_count": 5,
   "id": "f3795349",
   "metadata": {},
   "outputs": [],
   "source": [
    "WIDTH = 100\n",
    "BATCH_SIZE = 32\n",
    "Nodes_Second = 10\n",
    "Nodes_Third = 10\n",
    "EPOCH = 50\n",
    "ITERATION = 10"
   ]
  },
  {
   "cell_type": "code",
   "execution_count": 4,
   "id": "90a4a7bb",
   "metadata": {},
   "outputs": [
    {
     "name": "stdout",
     "output_type": "stream",
     "text": [
      "Random seed 2021 has been set.\n",
      "Test size dataset space torch.Size([999, 6])\n",
      "Test size dataset weather torch.Size([999, 6])\n",
      "Train size dataset space torch.Size([7000, 6])\n",
      "Train size dataset weather torch.Size([7000, 6])\n"
     ]
    }
   ],
   "source": [
    "set_seed(seed=SEED)\n",
    "experiment = Experiment(width = WIDTH,batch_size=BATCH_SIZE,size_output_multi=2)\n",
    "dataset_train,dataset_space_train,dataset_weather_train,dataset_val,dataset_space_val,dataset_weather_val,dataset_test,dataset_space_test,dataset_weather_test= experiment.Generate_data()"
   ]
  },
  {
   "cell_type": "code",
   "execution_count": 6,
   "id": "fa87c0e5",
   "metadata": {},
   "outputs": [],
   "source": [
    "train_loader_weather = torch.utils.data.DataLoader(dataset_weather_train,batch_size=10,shuffle = False )\n",
    "val_loader_weather = torch.utils.data.DataLoader(dataset_weather_val,batch_size=1,shuffle = False )\n",
    "test_loader_weather = torch.utils.data.DataLoader(dataset_weather_test,batch_size=1,shuffle = False ) #bATCH SIZE =1 HERE FOR THE DATASET ONLY, ELSE TAKE WHATEVER BATCH SIZE IN INDIVIDUAL MODE"
   ]
  },
  {
   "cell_type": "code",
   "execution_count": 7,
   "id": "60e7777d",
   "metadata": {},
   "outputs": [],
   "source": [
    "train_loader_space = torch.utils.data.DataLoader(dataset_space_train,batch_size=BATCH_SIZE,shuffle = False )\n",
    "val_loader_space = torch.utils.data.DataLoader(dataset_space_val,batch_size=BATCH_SIZE,shuffle = False )\n",
    "test_loader_space = torch.utils.data.DataLoader(dataset_space_test,batch_size=1,shuffle = False ) #bATCH SIZE =1 HERE FOR THE DATASET ONLY, ELSE TAKE WHATEVER BATCH SIZE IN INDIVIDUAL MODE"
   ]
  },
  {
   "cell_type": "markdown",
   "id": "8a57533e",
   "metadata": {},
   "source": [
    "## Analysis setup"
   ]
  },
  {
   "cell_type": "code",
   "execution_count": 8,
   "id": "8aec91a3",
   "metadata": {},
   "outputs": [],
   "source": [
    "do_analysis = False\n",
    "type_an = frequence = np.NaN\n",
    "network_type = frequence = np.NaN\n",
    "frequence = np.NaN"
   ]
  },
  {
   "cell_type": "markdown",
   "id": "a5067d58",
   "metadata": {},
   "source": [
    "# Individual Networks"
   ]
  },
  {
   "cell_type": "code",
   "execution_count": 9,
   "id": "2c14b942",
   "metadata": {},
   "outputs": [],
   "source": [
    "option_interleaved = False"
   ]
  },
  {
   "cell_type": "code",
   "execution_count": 10,
   "id": "9f9832b5",
   "metadata": {},
   "outputs": [
    {
     "name": "stdout",
     "output_type": "stream",
     "text": [
      "Iteration 0\n",
      "Iteration 1\n",
      "Iteration 2\n",
      "Iteration 3\n",
      "Iteration 4\n",
      "Iteration 5\n",
      "Iteration 6\n",
      "Iteration 7\n",
      "Iteration 8\n",
      "Iteration 9\n"
     ]
    }
   ],
   "source": [
    "weather_losses = []\n",
    "\n",
    "for i in range(ITERATION):\n",
    "    print(\"Iteration\",i)\n",
    "    \n",
    "    Input_Dimension = 3\n",
    "    model_weather = Net_Individual(Input_Dimension ,Nodes_Second,Nodes_Third,1)  \n",
    "    optimizer_weather = torch.optim.Adam(model_weather.parameters(), lr=0.01, betas=(0.9, 0.999), eps=1e-08, weight_decay=0, amsgrad=False)\n",
    "    criterion = nn.BCEWithLogitsLoss()\n",
    "    spatial_task = False\n",
    "    \n",
    "    training = Training_frozen_weights()\n",
    "    model_weather,val_losses = training.training_individual(model_weather,optimizer_weather,criterion,EPOCH,train_loader_weather,val_loader_weather,test_loader_weather,spatial_task,option_interleaved,do_analysis,type_an,network_type,frequence)\n",
    "    weather_losses.append(val_losses)"
   ]
  },
  {
   "cell_type": "code",
   "execution_count": 11,
   "id": "14a8cf46",
   "metadata": {},
   "outputs": [
    {
     "name": "stdout",
     "output_type": "stream",
     "text": [
      "Iteration 0\n",
      "Iteration 1\n",
      "Iteration 2\n",
      "Iteration 3\n",
      "Iteration 4\n",
      "Iteration 5\n",
      "Iteration 6\n",
      "Iteration 7\n",
      "Iteration 8\n",
      "Iteration 9\n"
     ]
    }
   ],
   "source": [
    "spatial_losses = []\n",
    "\n",
    "for i in range(ITERATION):\n",
    "    print(\"Iteration\",i)\n",
    "    Input_Dimension = 2\n",
    "    model_space = Net_Individual(Input_Dimension ,Nodes_Second,Nodes_Third,1)    \n",
    "    optimizer_space = torch.optim.Adam(model_space.parameters(), lr=0.01, betas=(0.9, 0.999), eps=1e-08, weight_decay=0, amsgrad=False)\n",
    "    spatial_task = True\n",
    "    \n",
    "    training = Training_frozen_weights()\n",
    "    model_space,val_losses = training.training_individual(model_space,optimizer_space,criterion,EPOCH,train_loader_space,val_loader_space,test_loader_space,spatial_task,option_interleaved,do_analysis,type_an,network_type,frequence)\n",
    "    spatial_losses.append(val_losses)"
   ]
  },
  {
   "cell_type": "code",
   "execution_count": 12,
   "id": "b1e2702b",
   "metadata": {},
   "outputs": [],
   "source": [
    "spatial_losses_option_0 = torch.tensor(spatial_losses)\n",
    "weather_losses_option_0 = torch.tensor(weather_losses)"
   ]
  },
  {
   "cell_type": "markdown",
   "id": "506e7944",
   "metadata": {},
   "source": [
    "# Frozen weights"
   ]
  },
  {
   "cell_type": "code",
   "execution_count": 13,
   "id": "a4a428cc",
   "metadata": {},
   "outputs": [],
   "source": [
    "ITERATION = 10\n",
    "EPOCH = 50"
   ]
  },
  {
   "cell_type": "markdown",
   "id": "74875d42",
   "metadata": {},
   "source": [
    "# Interleaved Training"
   ]
  },
  {
   "cell_type": "code",
   "execution_count": 14,
   "id": "7f1b293b",
   "metadata": {},
   "outputs": [],
   "source": [
    "option_interleaved = True"
   ]
  },
  {
   "cell_type": "markdown",
   "id": "bca333ce",
   "metadata": {},
   "source": [
    "## Train the Models"
   ]
  },
  {
   "cell_type": "code",
   "execution_count": 15,
   "id": "3e852ae1",
   "metadata": {},
   "outputs": [
    {
     "name": "stdout",
     "output_type": "stream",
     "text": [
      "Iteration 0\n",
      "Iteration 1\n",
      "Iteration 2\n",
      "Iteration 3\n",
      "Iteration 4\n",
      "Iteration 5\n",
      "Iteration 6\n",
      "Iteration 7\n",
      "Iteration 8\n",
      "Iteration 9\n"
     ]
    }
   ],
   "source": [
    "weather_losses_g = []\n",
    "spatial_losses_g = []\n",
    "\n",
    "for i in range(ITERATION):\n",
    "    print(\"Iteration\",i)\n",
    "    weather_losses = []\n",
    "    spatial_losses = []\n",
    "    \n",
    "    Input_Dimension = 3\n",
    "    model_weather = Net_Individual(input_dimension=3,nodes_second = Nodes_Second,nodes_third = Nodes_Third,nodes_output = 1)  \n",
    "    optimizer_weather = torch.optim.Adam(model_weather.parameters(), lr=0.01, betas=(0.9, 0.999), eps=1e-08, weight_decay=0, amsgrad=False)\n",
    "    Input_Dimension = 2\n",
    "    model_space = Net_Individual(Input_Dimension ,Nodes_Second,Nodes_Third,1)    \n",
    "    optimizer_space = torch.optim.Adam(model_space.parameters(), lr=0.01, betas=(0.9, 0.999), eps=1e-08, weight_decay=0, amsgrad=False)\n",
    "\n",
    "    criterion = nn.BCEWithLogitsLoss()\n",
    "    for epoch in range(EPOCH):\n",
    "      \n",
    "        training = Training_frozen_weights()\n",
    "        spatial_task = False\n",
    "        model_weather,val_losses = training.training_individual(model_weather,optimizer_weather,criterion,1,train_loader_weather,val_loader_weather,test_loader_weather,spatial_task,option_interleaved,do_analysis,type_an,network_type,frequence)\n",
    "        weather_losses.append(val_losses)\n",
    "\n",
    "        spatial_task = True\n",
    "        model_space.fc2[0].weight = model_weather.fc2[0].weight\n",
    "        model_space.fc3[0].weight = model_weather.fc3[0].weight\n",
    "\n",
    "        for param in model_space.fc2.parameters():\n",
    "            param.requires_grad = False\n",
    "\n",
    "        for param in model_space.fc3.parameters():\n",
    "            param.requires_grad = False\n",
    "\n",
    "        model_space,val_losses = training.training_individual(model_space,optimizer_space,criterion,1,train_loader_space,val_loader_space,test_loader_space,spatial_task,option_interleaved,do_analysis,type_an,network_type,frequence)\n",
    "        spatial_losses.append(val_losses)\n",
    "        \n",
    "    weather_losses_tensor = torch.tensor(weather_losses).flatten()\n",
    "    spatial_losses_tensor = torch.tensor(spatial_losses).flatten()\n",
    "    \n",
    "    weather_losses_g.append(weather_losses_tensor.tolist())\n",
    "    spatial_losses_g.append(spatial_losses_tensor.tolist())\n",
    "       \n"
   ]
  },
  {
   "cell_type": "code",
   "execution_count": 16,
   "id": "6bcf732a",
   "metadata": {},
   "outputs": [],
   "source": [
    "spatial_losses_option_2 = torch.tensor(spatial_losses_g)\n",
    "weather_losses_option_2 = torch.tensor(weather_losses_g)"
   ]
  },
  {
   "cell_type": "markdown",
   "id": "691a4922",
   "metadata": {},
   "source": [
    "# Vanilla training"
   ]
  },
  {
   "cell_type": "code",
   "execution_count": 17,
   "id": "1fec70d6",
   "metadata": {},
   "outputs": [],
   "source": [
    "option_interleaved = False"
   ]
  },
  {
   "cell_type": "markdown",
   "id": "fa2bbcca",
   "metadata": {},
   "source": [
    "### Train Network"
   ]
  },
  {
   "cell_type": "code",
   "execution_count": 18,
   "id": "422194a6",
   "metadata": {},
   "outputs": [
    {
     "name": "stdout",
     "output_type": "stream",
     "text": [
      "Iteration 0\n",
      "Iteration 1\n",
      "Iteration 2\n",
      "Iteration 3\n",
      "Iteration 4\n",
      "Iteration 5\n",
      "Iteration 6\n",
      "Iteration 7\n",
      "Iteration 8\n",
      "Iteration 9\n"
     ]
    }
   ],
   "source": [
    "weather_losses = []\n",
    "spatial_losses = []\n",
    "\n",
    "\n",
    "\n",
    "for i in range(ITERATION):\n",
    "    print(\"Iteration\",i)\n",
    "    Input_Dimension = 3\n",
    "    model_weather = Net_Individual(Input_Dimension ,Nodes_Second,Nodes_Third,1)  \n",
    "    optimizer_weather = torch.optim.Adam(model_weather.parameters(), lr=0.01, betas=(0.9, 0.999), eps=1e-08, weight_decay=0, amsgrad=False)\n",
    "    criterion = nn.BCEWithLogitsLoss()\n",
    "    spatial_task = False\n",
    "    \n",
    "    training = Training_frozen_weights()\n",
    "    model_weather,val_losses = training.training_individual(model_weather,optimizer_weather,criterion,EPOCH,train_loader_weather,val_loader_weather,test_loader_weather,spatial_task,option_interleaved,do_analysis,type_an,network_type,frequence)\n",
    "    weather_losses.append(val_losses)\n",
    "    \n",
    "    \n",
    "    Input_Dimension = 2\n",
    "    model_space = Net_Individual(Input_Dimension ,Nodes_Second,Nodes_Third,1)    \n",
    "    optimizer_space = torch.optim.Adam(model_space.parameters(), lr=0.01, betas=(0.9, 0.999), eps=1e-08, weight_decay=0, amsgrad=False)\n",
    "    spatial_task = True\n",
    "    \n",
    "    model_space.fc2[0].weight = model_weather.fc2[0].weight\n",
    "    model_space.fc3[0].weight = model_weather.fc3[0].weight\n",
    "\n",
    "    for param in model_space.fc2.parameters():\n",
    "        param.requires_grad = False\n",
    "\n",
    "    for param in model_space.fc3.parameters():\n",
    "         param.requires_grad = False\n",
    "    \n",
    "    training = Training_frozen_weights()\n",
    "    model_space,val_losses = training.training_individual(model_space,optimizer_space,criterion,EPOCH,train_loader_space,val_loader_space,test_loader_space,spatial_task,option_interleaved,do_analysis,type_an,network_type,frequence)\n",
    "    spatial_losses.append(val_losses)\n",
    "    \n",
    "    \n",
    "    \n",
    "    "
   ]
  },
  {
   "cell_type": "code",
   "execution_count": 19,
   "id": "ff1d6cf7",
   "metadata": {},
   "outputs": [],
   "source": [
    "spatial_losses_option_1 = torch.tensor(spatial_losses)\n",
    "weather_losses_option_1 = torch.tensor(weather_losses)"
   ]
  },
  {
   "cell_type": "markdown",
   "id": "f5d1f4f5",
   "metadata": {},
   "source": [
    "## Display Dynamic"
   ]
  },
  {
   "cell_type": "code",
   "execution_count": 20,
   "id": "2d59dccd",
   "metadata": {},
   "outputs": [
    {
     "data": {
      "text/plain": [
       "<matplotlib.legend.Legend at 0x7fde311dadd0>"
      ]
     },
     "execution_count": 20,
     "metadata": {},
     "output_type": "execute_result"
    },
    {
     "data": {
      "image/png": "[encoded data removed]",
      "text/plain": [
       "<Figure size 432x288 with 1 Axes>"
      ]
     },
     "metadata": {
      "needs_background": "light"
     },
     "output_type": "display_data"
    }
   ],
   "source": [
    "epochs = [i for i in range(len(weather_losses_option_1[0]))]\n",
    "plt.figure()\n",
    "plt.title(\"Interleaved Training\")\n",
    "for i in range(ITERATION):\n",
    "    if i == 0:\n",
    "        plt.plot(epochs,weather_losses_option_1[i],\"orange\",label= \"Conceptual\")\n",
    "        plt.plot(epochs,spatial_losses_option_1[i] ,\"blue\",label= \"Spatial\")\n",
    "    else:\n",
    "        plt.plot(epochs,weather_losses_option_1[i],\"orange\")\n",
    "        plt.plot(epochs,spatial_losses_option_1[i] ,\"blue\")\n",
    "        \n",
    "plt.legend()"
   ]
  },
  {
   "cell_type": "code",
   "execution_count": 21,
   "id": "228f631e",
   "metadata": {},
   "outputs": [
    {
     "data": {
      "text/plain": [
       "<matplotlib.legend.Legend at 0x7fde902d87d0>"
      ]
     },
     "execution_count": 21,
     "metadata": {},
     "output_type": "execute_result"
    },
    {
     "data": {
      "image/png": "[encoded data removed]",
      "text/plain": [
       "<Figure size 432x288 with 1 Axes>"
      ]
     },
     "metadata": {
      "needs_background": "light"
     },
     "output_type": "display_data"
    }
   ],
   "source": [
    "epochs = [i for i in range(len(weather_losses_option_2[0]))]\n",
    "plt.figure()\n",
    "plt.title(\"Interleaved Training\")\n",
    "for i in range(ITERATION):\n",
    "    if i == 0:\n",
    "        plt.plot(epochs,weather_losses_option_2[i],\"orange\",label= \"Conceptual\")\n",
    "        plt.plot(epochs,spatial_losses_option_2[i] ,\"blue\",label= \"Spatial\")\n",
    "    else:\n",
    "        plt.plot(epochs,weather_losses_option_2[i],\"orange\")\n",
    "        plt.plot(epochs,spatial_losses_option_2[i] ,\"blue\")\n",
    "        \n",
    "plt.legend()"
   ]
  },
  {
   "cell_type": "markdown",
   "id": "a8e6a490",
   "metadata": {},
   "source": [
    "## Average comparison"
   ]
  },
  {
   "cell_type": "code",
   "execution_count": 22,
   "id": "81be89b0",
   "metadata": {},
   "outputs": [],
   "source": [
    "weather_mean_option_2 = torch.mean(weather_losses_option_2,0)\n",
    "spatial_mean_option_2 = torch.mean(spatial_losses_option_2,0)\n",
    "\n",
    "weather_mean_option_1 = torch.mean(weather_losses_option_1,0)\n",
    "spatial_mean_option_1 = torch.mean(spatial_losses_option_1,0)\n",
    "\n",
    "weather_mean_option_0 = torch.mean(weather_losses_option_0,0)\n",
    "spatial_mean_option_0 = torch.mean(spatial_losses_option_0,0)\n"
   ]
  },
  {
   "cell_type": "code",
   "execution_count": 23,
   "id": "38fed3f9",
   "metadata": {},
   "outputs": [],
   "source": [
    "weather_var_option_2 = torch.var(weather_losses_option_2,0)\n",
    "spatial_var_option_2 = torch.var(spatial_losses_option_2,0)\n",
    "\n",
    "\n",
    "weather_var_option_1 = torch.var(weather_losses_option_1,0)\n",
    "spatial_var_option_1 = torch.var(spatial_losses_option_1,0)\n",
    "\n",
    "weather_var_option_0 = torch.var(weather_losses_option_0,0)\n",
    "spatial_var_option_0 = torch.var(spatial_losses_option_0,0)"
   ]
  },
  {
   "cell_type": "code",
   "execution_count": 27,
   "id": "6a046dff",
   "metadata": {},
   "outputs": [
    {
     "data": {
      "text/plain": [
       "<matplotlib.legend.Legend at 0x7fde9031f150>"
      ]
     },
     "execution_count": 27,
     "metadata": {},
     "output_type": "execute_result"
    },
    {
     "data": {
      "image/png": "[encoded data removed]",
      "text/plain": [
       "<Figure size 648x504 with 1 Axes>"
      ]
     },
     "metadata": {
      "needs_background": "light"
     },
     "output_type": "display_data"
    }
   ],
   "source": [
    "plt.figure(figsize = (9,7))\n",
    "plt.plot(epochs,weather_mean_option_2,\"--\",label= \"Conceptual Interleaved\")\n",
    "plt.plot(epochs,spatial_mean_option_2,label= \"Spatial Interleaved\")\n",
    "plt.fill_between(epochs, weather_mean_option_2 - weather_var_option_2, weather_mean_option_2 + weather_var_option_2,color='gray', alpha=0.5)\n",
    "plt.fill_between(epochs, spatial_mean_option_2 - spatial_var_option_2, spatial_mean_option_2 + spatial_var_option_2,color='gray', alpha=0.5)\n",
    "\n",
    "\n",
    "plt.plot(epochs,weather_mean_option_1,\"--\",label= \"Conceptual Vanilla\")\n",
    "plt.plot(epochs,spatial_mean_option_1,label= \"Spatial Vanilla\")\n",
    "plt.fill_between(epochs, weather_mean_option_1 - weather_var_option_1, weather_mean_option_1 + weather_var_option_1,color='gray', alpha=0.5)\n",
    "plt.fill_between(epochs, spatial_mean_option_1 - spatial_var_option_1, spatial_mean_option_1 + spatial_var_option_1,color='gray', alpha=0.5)\n",
    "\n",
    "plt.plot(epochs,weather_mean_option_0,\"--\",label= \"Conceptual Independent\")\n",
    "plt.plot(epochs,spatial_mean_option_0,label= \"Spatial Independent\")\n",
    "plt.fill_between(epochs, weather_mean_option_0 - weather_var_option_0, weather_mean_option_0 + weather_var_option_0,color='gray', alpha=0.5)\n",
    "plt.fill_between(epochs, spatial_mean_option_0 - spatial_var_option_0, spatial_mean_option_0 + spatial_var_option_0,color='gray', alpha=0.5)\n",
    "\n",
    "plt.ylabel(\"Loss\")\n",
    "\n",
    "plt.xlabel(\"Epochs\")\n",
    "\n",
    "\n",
    "\n",
    "plt.legend()"
   ]
  },
  {
   "cell_type": "code",
   "execution_count": null,
   "id": "00f65623",
   "metadata": {},
   "outputs": [],
   "source": []
  },
  {
   "cell_type": "code",
   "execution_count": null,
   "id": "132e96af",
   "metadata": {},
   "outputs": [],
   "source": []
  },
  {
   "cell_type": "code",
   "execution_count": null,
   "id": "77702bbf",
   "metadata": {},
   "outputs": [],
   "source": []
  }
 ],
 "metadata": {
  "interpreter": {
   "hash": "3cd8fba5e2a7e5201efd12f596ba02da03390e92eb7b5a4f25cd4f2446eed5e6"
  },
  "kernelspec": {
   "display_name": "Python 3.7.11 64-bit ('atari1.0': conda)",
   "language": "python",
   "name": "python3711jvsc74a57bd03cd8fba5e2a7e5201efd12f596ba02da03390e92eb7b5a4f25cd4f2446eed5e6"
  },
  "language_info": {
   "codemirror_mode": {
    "name": "ipython",
    "version": 3
   },
   "file_extension": ".py",
   "mimetype": "text/x-python",
   "name": "python",
   "nbconvert_exporter": "python",
   "pygments_lexer": "ipython3",
   "version": "3.7.11"
  }
 },
 "nbformat": 4,
 "nbformat_minor": 5
}
