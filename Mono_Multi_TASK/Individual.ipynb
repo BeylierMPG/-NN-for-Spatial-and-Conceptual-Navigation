{
 "cells": [
  {
   "cell_type": "code",
   "execution_count": 26,
   "id": "2a46ed7f",
   "metadata": {},
   "outputs": [],
   "source": [
    "import torch\n",
    "import numpy as np\n",
    "import random\n",
    "from torch.utils.data import DataLoader\n",
    "from torch.utils.data import Dataset, TensorDataset\n",
    "from torch.utils.data.dataset import random_split\n",
    "\n",
    "import torch.nn as nn\n",
    "import time\n",
    "from matplotlib import pyplot as plt\n",
    "from Networks_v2 import Net_Multi,Net_Individual\n",
    "from Experiment_v5 import Experiment\n",
    "from IPython.display import clear_output\n",
    "from Check import Checkup\n"
   ]
  },
  {
   "cell_type": "markdown",
   "id": "55ddff40",
   "metadata": {},
   "source": [
    "# Reproducibility "
   ]
  },
  {
   "cell_type": "code",
   "execution_count": 35,
   "id": "396b6187",
   "metadata": {},
   "outputs": [
    {
     "name": "stdout",
     "output_type": "stream",
     "text": [
      "Device:  cpu\n",
      "Random seed 2021 has been set.\n"
     ]
    },
    {
     "data": {
      "text/plain": [
       "<torch._C.Generator at 0x7ff1dac104d0>"
      ]
     },
     "execution_count": 35,
     "metadata": {},
     "output_type": "execute_result"
    }
   ],
   "source": [
    "# if gpu is to be used\n",
    "device = torch.device(\"cuda\" if torch.cuda.is_available() else \"cpu\")\n",
    "print(\"Device: \", device)\n",
    "\n",
    "def set_seed(seed=None, seed_torch=True):\n",
    "    if seed is None:\n",
    "        seed = np.random.choice(2 ** 32)\n",
    "    random.seed(seed)\n",
    "    np.random.seed(seed)\n",
    "    if seed_torch:\n",
    "        torch.manual_seed(seed)\n",
    "\n",
    "    print(f'Random seed {seed} has been set.')\n",
    "\n",
    "SEED = 2021\n",
    "set_seed(seed=SEED)\n",
    "\n",
    "\n",
    "G_SEED = torch.Generator()\n",
    "G_SEED.manual_seed(SEED)"
   ]
  },
  {
   "cell_type": "markdown",
   "id": "2607330f",
   "metadata": {},
   "source": [
    "# Generate the Dataset"
   ]
  },
  {
   "cell_type": "code",
   "execution_count": 36,
   "id": "e328ce10",
   "metadata": {},
   "outputs": [],
   "source": [
    "WIDTH = 50\n",
    "EPOCH = 20\n",
    "BATCH_SIZE = 32\n"
   ]
  },
  {
   "cell_type": "code",
   "execution_count": 42,
   "id": "0f6147b0",
   "metadata": {},
   "outputs": [
    {
     "name": "stdout",
     "output_type": "stream",
     "text": [
      "Random seed 2021 has been set.\n",
      "torch.Size([4992, 2])\n",
      "torch.Size([2500])\n"
     ]
    }
   ],
   "source": [
    "set_seed(seed=SEED)\n",
    "experiment = Experiment(width = WIDTH,batch_size=BATCH_SIZE)\n",
    "dataset_train,dataset_space_train,dataset_weather_train,dataset_val,dataset_space_val,dataset_weather_val,dataset_test,dataset_space_test,dataset_weather_test= experiment.Generate_data()\n",
    "train_loader = torch.utils.data.DataLoader(dataset_weather_train,batch_size=10,shuffle = False )\n",
    "val_loader = torch.utils.data.DataLoader(dataset_weather_val,batch_size=10,shuffle = False )\n",
    "test_loader = torch.utils.data.DataLoader(dataset_weather_test,batch_size=10,shuffle = False ) #bATCH SIZE =1 HERE FOR THE DATASET ONLY, ELSE TAKE WHATEVER BATCH SIZE IN INDIVIDUAL MODE"
   ]
  },
  {
   "cell_type": "code",
   "execution_count": 44,
   "id": "387d463f",
   "metadata": {},
   "outputs": [
    {
     "name": "stdout",
     "output_type": "stream",
     "text": [
      "tensor([0., 1., 0., 0., 0., 0., 0., 1., 0., 0.])\n",
      "tensor([[0.5400, 0.2400, 0.3000, 0.8800, 0.2800, 0.0000],\n",
      "        [0.2400, 0.3200, 0.4000, 0.5800, 0.3800, 0.0000],\n",
      "        [0.4600, 0.8200, 0.5600, 0.2600, 0.6400, 0.0000],\n",
      "        [0.5800, 0.1000, 0.1800, 0.6800, 0.7400, 0.0000],\n",
      "        [0.1000, 0.1200, 0.7400, 0.5800, 0.4000, 0.0000],\n",
      "        [0.7000, 0.9400, 0.1400, 0.5800, 0.8600, 0.0000],\n",
      "        [0.1200, 0.4000, 0.6800, 0.1400, 0.1800, 0.0000],\n",
      "        [0.5600, 0.6400, 0.1400, 0.0000, 0.2000, 0.0000],\n",
      "        [0.9600, 0.9000, 0.0200, 0.5600, 0.8200, 0.0000],\n",
      "        [0.1000, 0.9000, 0.8200, 0.5000, 0.6200, 0.0000]])\n"
     ]
    }
   ],
   "source": [
    "y = 0\n",
    "\n",
    "for x_train, y_train in train_loader:\n",
    "    if y<1:\n",
    "        print(y_train)\n",
    "        print(x_train)\n",
    "    y+=1"
   ]
  },
  {
   "cell_type": "markdown",
   "id": "98e163da",
   "metadata": {},
   "source": [
    "# Initalize the Network"
   ]
  },
  {
   "cell_type": "code",
   "execution_count": 39,
   "id": "c9cc2f61",
   "metadata": {},
   "outputs": [],
   "source": [
    "\n",
    "model = Net_Individual(input_dimension=5,nodes_second = 20,nodes_third = 5,nodes_output = 1)    \n",
    "optimizer = torch.optim.Adam(model.parameters(), lr=0.01, betas=(0.9, 0.999), eps=1e-08, weight_decay=0, amsgrad=False)\n",
    "criterion = nn.BCEWithLogitsLoss()\n"
   ]
  },
  {
   "cell_type": "markdown",
   "id": "27793d84",
   "metadata": {},
   "source": [
    "# Training"
   ]
  },
  {
   "cell_type": "code",
   "execution_count": 40,
   "id": "589d4709",
   "metadata": {},
   "outputs": [
    {
     "name": "stdout",
     "output_type": "stream",
     "text": [
      "Epoch 19, val_loss 0.03640370722621908\n"
     ]
    },
    {
     "data": {
      "image/png": "[encoded data removed]",
      "text/plain": [
       "<Figure size 432x288 with 1 Axes>"
      ]
     },
     "metadata": {
      "needs_background": "light"
     },
     "output_type": "display_data"
    }
   ],
   "source": [
    "\n",
    "\n",
    "losses = []\n",
    "val_losses = []\n",
    "\n",
    "for epoch in range(EPOCH):\n",
    "\n",
    "    loss = 0\n",
    "    val_loss = 0 \n",
    "\n",
    "    for x_batch, y_batch in train_loader:\n",
    "\n",
    "        x_batch = x_batch[:,0:5]\n",
    "            \n",
    "        optimizer.zero_grad()\n",
    "        output = model(x_batch).squeeze(1)\n",
    "\n",
    "        output_loss = criterion(output,y_batch)\n",
    "        output_loss.backward()\n",
    "        optimizer.step()\n",
    "            \n",
    "        loss += output_loss.detach().numpy()\n",
    "    losses.append(loss/len(train_loader))\n",
    "            \n",
    "    with torch.no_grad():\n",
    "        for x_val, y_val in val_loader:\n",
    "            model.eval() # not useful for now\n",
    "            x_val = x_val[:,0:5]\n",
    "            yhat = model(x_val).squeeze(1)\n",
    "            val_loss += criterion(yhat,y_val)\n",
    "        val_losses.append(val_loss.item()/len(val_loader))\n",
    "\n",
    "\n",
    "    if np.mod(epoch,1)==0: \n",
    "        clear_output()\n",
    "        print(\"Epoch {}, val_loss {}\".format(epoch, val_loss.item()/len(val_loader))) \n",
    "        fig = plt.figure()\n",
    "        ax = fig.add_subplot(111)\n",
    "        plt.plot(np.arange(len(val_losses)), val_losses)\n",
    "        plt.ylabel('Loss')\n",
    "        plt.xlabel('Epoch #')\n",
    "        plt.show()\n",
    "            \n",
    "            \n",
    "\n"
   ]
  },
  {
   "cell_type": "markdown",
   "id": "da460692",
   "metadata": {},
   "source": [
    "# Accuracy Score"
   ]
  },
  {
   "cell_type": "code",
   "execution_count": 41,
   "id": "c53e0b96",
   "metadata": {},
   "outputs": [
    {
     "name": "stdout",
     "output_type": "stream",
     "text": [
      "Data tensor([[0.3800, 0.7800, 0.5600, 0.4400, 0.7200],\n",
      "        [0.4600, 0.5200, 0.5400, 0.5400, 0.8600],\n",
      "        [0.5200, 0.5200, 0.7800, 0.9800, 0.0600],\n",
      "        [0.8000, 0.1000, 0.0800, 0.6000, 0.0600],\n",
      "        [0.8800, 0.5000, 0.8400, 0.6600, 0.7600],\n",
      "        [0.9200, 0.8400, 0.5000, 0.4400, 0.3600],\n",
      "        [0.0800, 0.8400, 0.2600, 0.5000, 0.4800],\n",
      "        [0.7200, 0.0600, 0.1000, 0.2200, 0.1800],\n",
      "        [0.4400, 0.7000, 0.4200, 0.4800, 0.6800],\n",
      "        [0.9400, 0.9200, 0.8000, 0.0200, 0.3200],\n",
      "        [0.3200, 0.7000, 0.7600, 0.6400, 0.8200],\n",
      "        [0.6600, 0.4800, 0.0000, 0.2400, 0.1400],\n",
      "        [0.7200, 0.4800, 0.4000, 0.2600, 0.6400],\n",
      "        [0.7800, 0.2800, 0.0200, 0.5400, 0.0000],\n",
      "        [0.7600, 0.6000, 0.3800, 0.2400, 0.2200],\n",
      "        [0.5800, 0.0400, 0.5400, 0.0000, 0.7400],\n",
      "        [0.7800, 0.7600, 0.2000, 0.3400, 0.9000],\n",
      "        [0.2000, 0.1000, 0.0400, 0.8200, 0.4400],\n",
      "        [0.4200, 0.4000, 0.0800, 0.0600, 0.8800]])\n",
      "Target tensor([1., 0., 0., 0., 1., 1., 1., 1., 1., 0., 1., 1., 0., 0., 1., 0., 0., 0.,\n",
      "        0.])\n",
      "Prediction tensor([5.8617e-01, 6.5919e-03, 0.0000e+00, 1.1991e-22, 9.9924e-01, 1.0000e+00,\n",
      "        9.9977e-01, 1.0000e+00, 9.9172e-01, 1.9427e-14, 9.9997e-01, 9.9999e-01,\n",
      "        7.4792e-06, 1.0659e-22, 9.9993e-01, 2.2447e-25, 2.3448e-32, 2.4166e-35,\n",
      "        0.0000e+00])\n",
      "Score final :  97.31178494279543\n"
     ]
    }
   ],
   "source": [
    "checkUP = Checkup() \n",
    "EPSILON = 0.3\n",
    "checkUP.Display_Score(model,test_loader, EPSILON,True,False)"
   ]
  },
  {
   "cell_type": "code",
   "execution_count": null,
   "id": "8570b3a7",
   "metadata": {},
   "outputs": [],
   "source": []
  }
 ],
 "metadata": {
  "interpreter": {
   "hash": "3cd8fba5e2a7e5201efd12f596ba02da03390e92eb7b5a4f25cd4f2446eed5e6"
  },
  "kernelspec": {
   "display_name": "Python 3 (ipykernel)",
   "language": "python",
   "name": "python3"
  },
  "language_info": {
   "codemirror_mode": {
    "name": "ipython",
    "version": 3
   },
   "file_extension": ".py",
   "mimetype": "text/x-python",
   "name": "python",
   "nbconvert_exporter": "python",
   "pygments_lexer": "ipython3",
   "version": "3.7.11"
  }
 },
 "nbformat": 4,
 "nbformat_minor": 5
}
