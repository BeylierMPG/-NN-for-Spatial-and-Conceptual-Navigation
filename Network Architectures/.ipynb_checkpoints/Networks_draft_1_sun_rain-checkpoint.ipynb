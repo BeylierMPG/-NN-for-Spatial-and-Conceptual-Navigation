{
 "cells": [
  {
   "cell_type": "raw",
   "id": "c36f7ccb-127b-44f0-917e-95fb9c9ed80d",
   "metadata": {},
   "source": [
    "First hidden layer: linear unit\n",
    "Second hiden layer: GELU for task 1 (output mapping is non linear)and linear for task 2"
   ]
  },
  {
   "cell_type": "code",
   "execution_count": 1,
   "id": "19666aaa-d26c-4245-9443-045bab24e477",
   "metadata": {},
   "outputs": [],
   "source": [
    "import torch\n",
    "import torch.nn as nn\n",
    "import torch.nn.functional as F\n",
    "import time\n",
    "import numpy as np\n",
    "import cv2\n",
    "import random\n",
    "from matplotlib import pyplot as plt\n",
    "from torch.utils.data import DataLoader\n",
    "from torch.utils.data import Dataset, TensorDataset\n",
    "from torch.utils.data.dataset import random_split"
   ]
  },
  {
   "cell_type": "raw",
   "id": "4838208b-92d9-42d3-bf43-2d38b92ecd99",
   "metadata": {},
   "source": [
    "REPRODUCIBILITY AND DEVICE INIT"
   ]
  },
  {
   "cell_type": "code",
   "execution_count": 2,
   "id": "99162be9-47fb-4f4f-b854-33a7e00fd3ef",
   "metadata": {},
   "outputs": [],
   "source": [
    "# Set random seed\n",
    "\n",
    "# Call `set_seed` function to ensure reproducibility.\n",
    "\n",
    "def set_seed(seed=None, seed_torch=True):\n",
    "    if seed is None:\n",
    "        seed = np.random.choice(2 ** 32)\n",
    "    random.seed(seed)\n",
    "    np.random.seed(seed)\n",
    "    if seed_torch:\n",
    "        torch.manual_seed(seed)\n",
    "\n",
    "    print(f'Random seed {seed} has been set.')\n",
    "\n",
    "\n",
    "# When `DataLoader` is used\n",
    "def seed_worker(worker_id):\n",
    "    worker_seed = torch.initial_seed() % 2**32\n",
    "    np.random.seed(worker_seed)\n",
    "    random.seed(worker_seed)"
   ]
  },
  {
   "cell_type": "code",
   "execution_count": 3,
   "id": "77b7e1b8-a980-4f16-9e64-b19f5ad09820",
   "metadata": {},
   "outputs": [
    {
     "name": "stdout",
     "output_type": "stream",
     "text": [
      "Random seed 2021 has been set.\n"
     ]
    },
    {
     "data": {
      "text/plain": [
       "<torch._C.Generator at 0x7f844abb5f90>"
      ]
     },
     "execution_count": 3,
     "metadata": {},
     "output_type": "execute_result"
    }
   ],
   "source": [
    "SEED = 2021\n",
    "set_seed(seed=SEED)\n",
    "DEVICE = torch.device(\"cpu\")\n",
    "g_seed = torch.Generator()\n",
    "g_seed.manual_seed(SEED)"
   ]
  },
  {
   "cell_type": "raw",
   "id": "a64776e8-34e9-40ce-a6c6-46793f85abd8",
   "metadata": {},
   "source": [
    "\"VISUALIZATION TOOLS\""
   ]
  },
  {
   "cell_type": "code",
   "execution_count": 4,
   "id": "319714ab-3ae6-4d0e-956c-7672a0b80ce3",
   "metadata": {},
   "outputs": [],
   "source": [
    "def print_params(model):\n",
    "    for name, param in model.named_parameters():\n",
    "        if param.requires_grad:\n",
    "            print(name, param.data)"
   ]
  },
  {
   "cell_type": "code",
   "execution_count": 23,
   "id": "0b306775-0180-4035-80a3-da4525627281",
   "metadata": {},
   "outputs": [],
   "source": [
    "\n",
    "class Experiment:\n",
    "\n",
    "    def __init__(self):\n",
    "\n",
    "        # Set the width and height of the grid\n",
    "        self.width = 20\n",
    "        self.height = 20\n",
    "        \n",
    "        self.Target_position_grid = np.eye(self.width,dtype=float)\n",
    "        for i in range(self.width-1):\n",
    "            self.Target_position_grid[i,i-1] = 1\n",
    "            self.Target_position_grid[i,i+1] = 1\n",
    "            \n",
    "        self.Target_position_grid[self.width-1,self.width-1] = 1\n",
    "        self.Target_position_grid[self.width-1,self.width - 2] = 1\n",
    "\n",
    "\n",
    "    def data_generator(self):\n",
    "        x = np.random.randint(0,self.width)\n",
    "        y = np.random.randint(0,self.width)\n",
    " \n",
    "        sun = np.random.randn()\n",
    "        rain = np.random.randn()\n",
    "        seed = np.random.randint(0,2)\n",
    "        #data = torch.tensor([x/8,y/8,sun,rain])\n",
    "        data = [x,y,sun,rain,seed]  \n",
    "        return data\n",
    "    \n",
    "    \n",
    "    \n",
    "    def Create_Dataset(self,SIZE,BATCH_SIZE):\n",
    "        target = []\n",
    "        data = [self.data_generator() for i in range(SIZE)]\n",
    "        for a in data:\n",
    "            if a[4] == 0:\n",
    "                target.append(self.Target_position_grid[a[0],a[1]])\n",
    "            else:\n",
    "                if (a[2] == a[3] or a[2] == a[3]+1 or a[2] == a[3]-1):\n",
    "                    target.append(1.0)\n",
    "                else:\n",
    "                    target.append(0.0)\n",
    "                \n",
    "        \n",
    "        data, target = torch.tensor(data,dtype=torch.float32), torch.tensor(target,dtype=torch.float32)\n",
    "\n",
    "        dataset = TensorDataset(data, target)\n",
    "        train_dataset, val_dataset = random_split(dataset, [int(np.floor(0.8*SIZE)), SIZE-int(np.floor(0.8*SIZE))])\n",
    "        train_loader = DataLoader(dataset=train_dataset, \n",
    "                                  batch_size=BATCH_SIZE, \n",
    "                                  worker_init_fn=seed_worker,\n",
    "                                  generator=g_seed)\n",
    "        val_loader = DataLoader(dataset=val_dataset, \n",
    "                                batch_size=BATCH_SIZE, \n",
    "                                worker_init_fn=seed_worker,\n",
    "                                generator=g_seed)\n",
    "\n",
    "        return train_loader,val_loader\n",
    "\n",
    "#Proposition of 2 Networkds wooth diff number of neurons and layers\n",
    "\n",
    "class Net_Task1(torch.nn.Module):\n",
    "    def __init__(self,input_dimension, output_dimension):\n",
    "        super(Net_Task1, self).__init__()\n",
    "        self.fc1 = nn.Linear(in_features = input_dimension, out_features = 2)\n",
    "        self.fc2 = nn.Linear(in_features = 2, out_features = 2)\n",
    "        self.fc3 = nn.Linear(in_features = 2,  out_features = output_dimension)\n",
    "\n",
    "\n",
    "    def forward(self, x):\n",
    "        x = F.relu(self.fc1(x))\n",
    "        x = F.relu(self.fc2(x))\n",
    "        x = self.fc3(x)\n",
    "        return torch.sigmoid(x)\n",
    "\n",
    "\n",
    "class Net_Task2(torch.nn.Module):\n",
    "    def __init__(self,input_dimension, output_dimension):\n",
    "        super(Net_Task2, self).__init__()\n",
    "        self.fc1 = nn.Linear(in_features = input_dimension, out_features = 5)\n",
    "        self.fc2 = nn.Linear(in_features = 5, out_features = 5)\n",
    "        self.fc3 = nn.Linear(in_features = 5, out_features = 5)\n",
    "        self.fc4 = nn.Linear(in_features = 5, out_features = 5)\n",
    "        self.fc5 = nn.Linear(in_features = 5,  out_features = output_dimension)\n",
    "\n",
    "        #self.mask2 = torch.tensor([[1,0],[1,0],[0,1],[0,1]])\n",
    "        #self.mask3 = torch.tensor([[1,1,0,0],[0,0,1,1]]) \n",
    "\n",
    "\n",
    "    def forward(self, x):\n",
    "        x = F.relu(self.fc1(x))\n",
    "        x = F.relu(self.fc2(x))\n",
    "        x = F.relu(self.fc3(x))\n",
    "        x = F.relu(self.fc4(x))\n",
    "        x = self.fc5(x)\n",
    "        return torch.sigmoid(x)\n",
    "\n",
    "\n",
    "\n",
    "class Training(Experiment):\n",
    "\n",
    "  # The class initialisation function.\n",
    "    def __init__(self,model,opti,loss):\n",
    "        self.model = model\n",
    "        self.optimizer = opti\n",
    "        self.criterion = loss\n",
    "    \n",
    "    def train_network(self,data,target):\n",
    "        Loss = []  \n",
    "        #Compute the prediction\n",
    "        output = self.model.forward(data)\n",
    "        # Calculate the loss for this transition.\n",
    "        loss =  self.criterion(output,target.unsqueeze(1))\n",
    "        # Set all the gradients stored in the optimiser to zero.\n",
    "        self.optimizer.zero_grad()\n",
    "        # Compute the gradients based on this loss, i.e. the gradients of the loss with respect to the Q-network parameters.\n",
    "        loss.backward()    \n",
    "        # Take one gradient step to update the Q-network. \n",
    "        self.optimizer.step()\n",
    "        # Return the loss as a scalar\n",
    "        return loss\n"
   ]
  },
  {
   "cell_type": "code",
   "execution_count": 30,
   "id": "9b8b5a08-5d36-4740-88ff-12725823935f",
   "metadata": {
    "tags": []
   },
   "outputs": [],
   "source": [
    "torch.manual_seed(42)\n",
    "\n",
    "experiment = Experiment()\n",
    "\n",
    "Size_total_dataset = experiment.width * experiment.width\n",
    "Batch_size = 8\n",
    "n_epochs = 100\n",
    "learning_rate = 0.0001\n",
    "\n",
    "\n",
    "\n",
    "train_loader,val_loader = experiment.Create_Dataset(SIZE = Size_total_dataset,BATCH_SIZE = Batch_size)"
   ]
  },
  {
   "cell_type": "raw",
   "id": "969cb5c8-ceb3-40ed-8009-481ae55b6d25",
   "metadata": {},
   "source": [
    "First Network with 3 layers"
   ]
  },
  {
   "cell_type": "code",
   "execution_count": 31,
   "id": "2bd12ca1-3361-4c0a-b449-6c4ed6b21749",
   "metadata": {},
   "outputs": [
    {
     "name": "stdout",
     "output_type": "stream",
     "text": [
      "Random seed 2021 has been set.\n",
      "\n",
      " The model parameters before the update are: \n",
      "\n",
      "fc1.weight tensor([[-0.3305,  0.0120,  0.2169,  0.1931,  0.0630],\n",
      "        [-0.2994, -0.4076,  0.4139, -0.1840, -0.3585]])\n",
      "fc1.bias tensor([ 0.2769, -0.4321])\n",
      "fc2.weight tensor([[ 0.4557, -0.5315],\n",
      "        [ 0.3520, -0.1969]])\n",
      "fc2.bias tensor([ 0.0185, -0.2886])\n",
      "fc3.weight tensor([[0.4008, 0.3401]])\n",
      "fc3.bias tensor([0.4313])\n",
      "Size val_loader 10\n",
      "Size train_loader 40\n"
     ]
    },
    {
     "data": {
      "text/plain": [
       "<matplotlib.legend.Legend at 0x7f84687df940>"
      ]
     },
     "execution_count": 31,
     "metadata": {},
     "output_type": "execute_result"
    },
    {
     "data": {
      "image/png": "[encoded data removed]",
      "text/plain": [
       "<Figure size 432x288 with 1 Axes>"
      ]
     },
     "metadata": {
      "needs_background": "light"
     },
     "output_type": "display_data"
    }
   ],
   "source": [
    "### MAIN ###\n",
    "set_seed(seed=SEED)\n",
    "model = Net_Task1(input_dimension = 5, output_dimension = 1)\n",
    "optimizer = torch.optim.Adam(model.parameters(), lr = learning_rate)\n",
    "criterion = nn.BCELoss()\n",
    "experiment = Experiment()\n",
    "train = Training(model,optimizer,criterion)\n",
    "\n",
    "print('\\n The model parameters before the update are: \\n')\n",
    "print_params(model)\n",
    "\n",
    "print(\"Size val_loader\",len(val_loader))\n",
    "print(\"Size train_loader\",len(train_loader))\n",
    "\n",
    "losses = []\n",
    "val_losses = []\n",
    "\n",
    "for epoch in range(n_epochs):\n",
    "    loss = 0\n",
    "    val_loss = 0 \n",
    "    for x_batch, y_batch in train_loader:\n",
    "\n",
    "        loss += train.train_network(x_batch, y_batch).detach().numpy()\n",
    "    losses.append(loss/len(train_loader))\n",
    "        \n",
    "    with torch.no_grad():\n",
    "        for x_val, y_val in val_loader:\n",
    "\n",
    "            model.eval()\n",
    "\n",
    "            yhat = model(x_val)\n",
    "            val_loss += criterion( yhat,y_val.unsqueeze(1))\n",
    "        val_losses.append(val_loss.item()/len(val_loader))\n",
    "\n",
    "\n",
    "\n",
    "\n",
    "\n",
    "l_epoch = [i for i in range(len(losses))]\n",
    "l_epoch_val = [i for i in range(len(val_losses))]\n",
    "\n",
    "plt.figure()\n",
    "plt.plot(l_epoch,losses, '-', color='lightgrey', label='Train')\n",
    "plt.plot(l_epoch_val,val_losses, '-', label='Val')\n",
    "plt.xlabel(\"Epoch\")\n",
    "plt.ylabel(\"Loss\")\n",
    "plt.legend()\n",
    "\n"
   ]
  },
  {
   "cell_type": "markdown",
   "id": "19a6085f-aadc-41ac-bc5a-407195618512",
   "metadata": {},
   "source": [
    "2nd Network with 5 layers"
   ]
  },
  {
   "cell_type": "code",
   "execution_count": 32,
   "id": "ef05bf35-b21c-483f-bfdd-e28253c90c59",
   "metadata": {},
   "outputs": [
    {
     "name": "stdout",
     "output_type": "stream",
     "text": [
      "Random seed 2021 has been set.\n",
      "\n",
      " The model parameters before the update are: \n",
      "\n",
      "fc1.weight tensor([[-0.3305,  0.0120,  0.2169,  0.1931,  0.0630],\n",
      "        [-0.2994, -0.4076,  0.4139, -0.1840, -0.3585],\n",
      "        [ 0.2769, -0.4321,  0.2882, -0.3362,  0.2226],\n",
      "        [-0.1245,  0.0117, -0.1825,  0.2535,  0.2151],\n",
      "        [ 0.2728, -0.1756,  0.4421,  0.0022, -0.1133]])\n",
      "fc1.bias tensor([-0.4102,  0.3029, -0.3932, -0.2887, -0.1520])\n",
      "fc2.weight tensor([[ 0.1661,  0.1753,  0.2955,  0.0193,  0.2181],\n",
      "        [ 0.2942, -0.4276, -0.3745, -0.4319, -0.3163],\n",
      "        [ 0.2229,  0.3980,  0.1553, -0.3457,  0.2165],\n",
      "        [ 0.2514,  0.3976, -0.4069, -0.0642, -0.2301],\n",
      "        [ 0.3902,  0.2490,  0.0541,  0.0279,  0.1907]])\n",
      "fc2.bias tensor([-0.3510, -0.0451, -0.3350,  0.1596,  0.1386])\n",
      "fc3.weight tensor([[-0.3891, -0.0191,  0.2076,  0.2254,  0.4219],\n",
      "        [-0.4032, -0.1394, -0.1829, -0.3782, -0.4269],\n",
      "        [-0.3296,  0.2080, -0.3814, -0.2047, -0.2991],\n",
      "        [-0.3441,  0.4038, -0.0477, -0.1492,  0.4077],\n",
      "        [-0.2581, -0.1893, -0.1455, -0.2996, -0.2140]])\n",
      "fc3.bias tensor([-0.1078,  0.0333, -0.2632, -0.0174,  0.4405])\n",
      "fc4.weight tensor([[ 0.0072, -0.0524, -0.4403, -0.3258,  0.2278],\n",
      "        [ 0.2678, -0.4218,  0.0961,  0.0944, -0.1756],\n",
      "        [ 0.3493,  0.0661, -0.3411,  0.3765,  0.2067],\n",
      "        [-0.2122,  0.0345,  0.3254,  0.3419,  0.2122],\n",
      "        [ 0.1221, -0.0247,  0.0728, -0.3258,  0.0063]])\n",
      "fc4.bias tensor([-0.4371,  0.2587, -0.3110, -0.3000,  0.3583])\n",
      "fc5.weight tensor([[-0.1412, -0.2926, -0.3605,  0.2009, -0.3984]])\n",
      "fc5.bias tensor([0.3409])\n",
      "Size val_loader 10\n",
      "Size train_loader 40\n"
     ]
    },
    {
     "data": {
      "text/plain": [
       "<matplotlib.legend.Legend at 0x7f8458793970>"
      ]
     },
     "execution_count": 32,
     "metadata": {},
     "output_type": "execute_result"
    },
    {
     "data": {
      "image/png": "[encoded data removed]",
      "text/plain": [
       "<Figure size 432x288 with 1 Axes>"
      ]
     },
     "metadata": {
      "needs_background": "light"
     },
     "output_type": "display_data"
    }
   ],
   "source": [
    "### MAIN ###\n",
    "set_seed(seed=SEED)\n",
    "model = Net_Task2(input_dimension = 5, output_dimension = 1)\n",
    "optimizer = torch.optim.Adam(model.parameters(), lr = learning_rate)\n",
    "criterion = nn.BCELoss()\n",
    "experiment = Experiment()\n",
    "train = Training(model,optimizer,criterion)\n",
    "\n",
    "print('\\n The model parameters before the update are: \\n')\n",
    "print_params(model)\n",
    "\n",
    "print(\"Size val_loader\",len(val_loader))\n",
    "print(\"Size train_loader\",len(train_loader))\n",
    "\n",
    "losses = []\n",
    "val_losses = []\n",
    "\n",
    "for epoch in range(n_epochs):\n",
    "    loss = 0\n",
    "    val_loss = 0 \n",
    "    for x_batch, y_batch in train_loader:\n",
    "\n",
    "        loss += train.train_network(x_batch, y_batch).detach().numpy()\n",
    "    losses.append(loss/len(train_loader))\n",
    "        \n",
    "    with torch.no_grad():\n",
    "        for x_val, y_val in val_loader:\n",
    "\n",
    "            model.eval()\n",
    "\n",
    "            yhat = model(x_val)\n",
    "            val_loss += criterion( yhat,y_val.unsqueeze(1))\n",
    "        val_losses.append(val_loss.item()/len(val_loader))\n",
    "\n",
    "\n",
    "\n",
    "\n",
    "\n",
    "l_epoch = [i for i in range(len(losses))]\n",
    "l_epoch_val = [i for i in range(len(val_losses))]\n",
    "\n",
    "plt.figure()\n",
    "plt.plot(l_epoch,losses, '-', color='lightgrey', label='Train')\n",
    "plt.plot(l_epoch_val,val_losses, '-', label='Val')\n",
    "plt.xlabel(\"Epoch\")\n",
    "plt.ylabel(\"Loss\")\n",
    "plt.legend()\n",
    "\n",
    "\n"
   ]
  },
  {
   "cell_type": "code",
   "execution_count": 33,
   "id": "1db61e86-4e50-4527-8dc5-c14a58fb4580",
   "metadata": {},
   "outputs": [
    {
     "name": "stdout",
     "output_type": "stream",
     "text": [
      "tensor([[15.0000, 13.0000, -1.0011, -0.9090,  0.0000],\n",
      "        [17.0000,  0.0000, -0.2395,  1.0049,  1.0000],\n",
      "        [14.0000, 16.0000,  0.6752, -0.6831,  1.0000],\n",
      "        [15.0000, 11.0000,  0.3286, -0.5922,  1.0000],\n",
      "        [ 3.0000, 17.0000,  0.4353,  1.9520,  1.0000],\n",
      "        [15.0000, 19.0000, -0.8368,  1.3464,  0.0000],\n",
      "        [13.0000,  2.0000, -1.0280,  1.0398,  0.0000],\n",
      "        [13.0000, 12.0000, -1.8404, -0.4881,  0.0000]])\n",
      "tensor([0., 0., 0., 0., 0., 0., 0., 1.])\n",
      "tensor([[0.1001],\n",
      "        [0.0068],\n",
      "        [0.0454],\n",
      "        [0.0454],\n",
      "        [0.0010],\n",
      "        [0.0415],\n",
      "        [0.0408],\n",
      "        [0.1668]], grad_fn=<SigmoidBackward>)\n"
     ]
    }
   ],
   "source": [
    "yhat = model(x_val)\n",
    "print(x_val)\n",
    "print(y_val)\n",
    "print(yhat)"
   ]
  },
  {
   "cell_type": "code",
   "execution_count": null,
   "id": "5b3d96da-3b26-4538-859e-0f5d7fa193ac",
   "metadata": {},
   "outputs": [],
   "source": []
  },
  {
   "cell_type": "code",
   "execution_count": null,
   "id": "35098088-c2a1-450c-9a14-315a369e5508",
   "metadata": {},
   "outputs": [],
   "source": []
  },
  {
   "cell_type": "code",
   "execution_count": null,
   "id": "97329d67-b39c-4b52-ba20-2fccc0bdd9c6",
   "metadata": {},
   "outputs": [],
   "source": []
  }
 ],
 "metadata": {
  "kernelspec": {
   "display_name": "Python 3",
   "language": "python",
   "name": "python3"
  },
  "language_info": {
   "codemirror_mode": {
    "name": "ipython",
    "version": 3
   },
   "file_extension": ".py",
   "mimetype": "text/x-python",
   "name": "python",
   "nbconvert_exporter": "python",
   "pygments_lexer": "ipython3",
   "version": "3.8.2"
  }
 },
 "nbformat": 4,
 "nbformat_minor": 5
}
