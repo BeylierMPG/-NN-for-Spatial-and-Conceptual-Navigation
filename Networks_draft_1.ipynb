{
 "cells": [
  {
   "cell_type": "raw",
   "id": "c36f7ccb-127b-44f0-917e-95fb9c9ed80d",
   "metadata": {},
   "source": [
    "First hidden layer: linear unit\n",
    "Second hiden layer: GELU for task 1 (output mapping is non linear)and linear for task 2"
   ]
  },
  {
   "cell_type": "code",
   "execution_count": 14,
   "id": "0b306775-0180-4035-80a3-da4525627281",
   "metadata": {},
   "outputs": [],
   "source": [
    "import torch\n",
    "import torch.nn as nn\n",
    "import torch.nn.functional as F\n",
    "import time\n",
    "import numpy as np\n",
    "import cv2\n",
    "from matplotlib import pyplot as plt\n",
    "from torch.utils.data import DataLoader\n",
    "from torch.utils.data import Dataset, TensorDataset\n",
    "from torch.utils.data.dataset import random_split\n",
    "\n",
    "\n",
    "\n",
    "\n",
    "\n",
    "\n",
    "\n",
    "class Experiment:\n",
    "\n",
    "    def __init__(self):\n",
    "\n",
    "        # Set the width and height of the grid\n",
    "        self.width = 8\n",
    "        self.height = 8\n",
    "        \n",
    "        self.Target_position_grid = np.eye(self.width,dtype=float)\n",
    "        for i in range(self.width-1):\n",
    "            self.Target_position_grid[i,i-1] = 1\n",
    "            self.Target_position_grid[i,i+1] = 1\n",
    "            \n",
    "        self.Target_position_grid[self.width-1,self.width-1] = 1\n",
    "        self.Target_position_grid[self.width-1,self.width - 2] = 1\n",
    "\n",
    "\n",
    "    def data_generator(self):\n",
    "        x = np.random.randint(0,7)\n",
    "        y = np.random.randint(0,7)\n",
    " \n",
    "        sun = np.random.random_sample()\n",
    "        rain = np.random.random_sample()\n",
    "        #data = torch.tensor([x/8,y/8,sun,rain])\n",
    "        target = self.Target_position_grid[x,y]\n",
    "        data = [x,y]      \n",
    "        return data\n",
    "        \n",
    "    def Create_Dataset(self,SIZE,BATCH_SIZE):\n",
    "        \n",
    "        data = [self.data_generator() for i in range(SIZE)]\n",
    "        target =[self.Target_position_grid[a[0],a[1]] for a in data]\n",
    "        data, target = torch.tensor(data,dtype=torch.float32), torch.tensor(target,dtype=torch.float32)\n",
    "\n",
    "        dataset = TensorDataset(data, target)\n",
    "        train_dataset, val_dataset = random_split(dataset, [int(np.floor(0.8*SIZE)), int(np.floor(0.2*SIZE))])\n",
    "        train_loader = DataLoader(dataset=train_dataset, batch_size=BATCH_SIZE)\n",
    "        val_loader = DataLoader(dataset=val_dataset, batch_size=BATCH_SIZE)\n",
    "\n",
    "        return train_loader,val_loader\n",
    "\n",
    "#Proposition of 2 Networkds wooth diff number of neurons and layers\n",
    "\n",
    "class Net_Task1(torch.nn.Module):\n",
    "    def __init__(self,input_dimension, output_dimension):\n",
    "        super(Net_Task1, self).__init__()\n",
    "        self.fc1 = nn.Linear(in_features = input_dimension, out_features = 1)\n",
    "        self.fc2 = nn.Linear(in_features = 1, out_features = 2)\n",
    "        self.fc3 = nn.Linear(in_features = 2,  out_features = output_dimension)\n",
    "\n",
    "\n",
    "    def forward(self, x):\n",
    "        x = F.relu(self.fc1(x))\n",
    "        x = F.relu(self.fc2(x))\n",
    "        x = self.fc3(x)\n",
    "        return torch.sigmoid(x)\n",
    "\n",
    "\n",
    "class Net_Task2(torch.nn.Module):\n",
    "    def __init__(self,input_dimension, output_dimension):\n",
    "        super(Net_Task2, self).__init__()\n",
    "        self.fc1 = nn.Linear(in_features = input_dimension, out_features = 5)\n",
    "        self.fc2 = nn.Linear(in_features = 5, out_features = 5)\n",
    "        self.fc3 = nn.Linear(in_features = 5, out_features = 5)\n",
    "        self.fc4 = nn.Linear(in_features = 5, out_features = 5)\n",
    "        self.fc5 = nn.Linear(in_features = 5,  out_features = output_dimension)\n",
    "\n",
    "        #self.mask2 = torch.tensor([[1,0],[1,0],[0,1],[0,1]])\n",
    "        #self.mask3 = torch.tensor([[1,1,0,0],[0,0,1,1]]) \n",
    "\n",
    "\n",
    "    def forward(self, x):\n",
    "        x = F.relu(self.fc1(x))\n",
    "        x = F.relu(self.fc2(x))\n",
    "        x = F.relu(self.fc3(x))\n",
    "        x = F.relu(self.fc4(x))\n",
    "        x = self.fc5(x)\n",
    "        return torch.sigmoid(x)\n",
    "\n",
    "\n",
    "\n",
    "class Training(Experiment):\n",
    "\n",
    "  # The class initialisation function.\n",
    "    def __init__(self,model,opti,loss):\n",
    "        self.model = model\n",
    "        self.optimizer = opti\n",
    "        self.criterion = loss\n",
    "    \n",
    "    def train_network(self,data,target):\n",
    "        Loss = []  \n",
    "        #Compute the prediction\n",
    "        output = self.model.forward(data)\n",
    "        # Calculate the loss for this transition.\n",
    "        loss =  self.criterion(output,target.unsqueeze(1))\n",
    "        # Set all the gradients stored in the optimiser to zero.\n",
    "        self.optimizer.zero_grad()\n",
    "        # Compute the gradients based on this loss, i.e. the gradients of the loss with respect to the Q-network parameters.\n",
    "        loss.backward()    \n",
    "        # Take one gradient step to update the Q-network. \n",
    "        self.optimizer.step()\n",
    "        # Return the loss as a scalar\n",
    "        return loss\n"
   ]
  },
  {
   "cell_type": "code",
   "execution_count": 25,
   "id": "9b8b5a08-5d36-4740-88ff-12725823935f",
   "metadata": {},
   "outputs": [],
   "source": [
    "torch.manual_seed(42)\n",
    "\n",
    "Size_total_dataset = 1000\n",
    "Batch_size = 32\n",
    "n_epochs = 100\n",
    "learning_rate = 0.001\n",
    "\n",
    "\n",
    "experiment = Experiment()\n",
    "train_loader,val_loader = experiment.Create_Dataset(SIZE = Size_total_dataset,BATCH_SIZE = Batch_size)"
   ]
  },
  {
   "cell_type": "raw",
   "id": "969cb5c8-ceb3-40ed-8009-481ae55b6d25",
   "metadata": {},
   "source": [
    "First Network with 3 layers"
   ]
  },
  {
   "cell_type": "code",
   "execution_count": 26,
   "id": "2bd12ca1-3361-4c0a-b449-6c4ed6b21749",
   "metadata": {},
   "outputs": [
    {
     "name": "stdout",
     "output_type": "stream",
     "text": [
      "Size val_loader 7\n",
      "Size train_loader 25\n"
     ]
    },
    {
     "data": {
      "text/plain": [
       "<matplotlib.legend.Legend at 0x7f9568576190>"
      ]
     },
     "execution_count": 26,
     "metadata": {},
     "output_type": "execute_result"
    },
    {
     "data": {
      "image/png": "[encoded data removed]",
      "text/plain": [
       "<Figure size 432x288 with 1 Axes>"
      ]
     },
     "metadata": {
      "needs_background": "light"
     },
     "output_type": "display_data"
    }
   ],
   "source": [
    "### MAIN ###\n",
    "\n",
    "model = Net_Task1(input_dimension = 2, output_dimension = 1)\n",
    "optimizer = torch.optim.Adam(model.parameters(), lr = learning_rate)\n",
    "criterion = nn.BCELoss()\n",
    "experiment = Experiment()\n",
    "train = Training(model,optimizer,criterion)\n",
    "\n",
    "\n",
    "print(\"Size val_loader\",len(val_loader))\n",
    "print(\"Size train_loader\",len(train_loader))\n",
    "\n",
    "losses = []\n",
    "val_losses = []\n",
    "\n",
    "for epoch in range(n_epochs):\n",
    "    loss = 0\n",
    "    val_loss = 0 \n",
    "    for x_batch, y_batch in train_loader:\n",
    "\n",
    "        loss += train.train_network(x_batch, y_batch).detach().numpy()\n",
    "    losses.append(loss/len(train_loader))\n",
    "        \n",
    "    with torch.no_grad():\n",
    "        for x_val, y_val in val_loader:\n",
    "\n",
    "            model.eval()\n",
    "\n",
    "            yhat = model(x_val)\n",
    "            val_loss += criterion( yhat,y_val.unsqueeze(1))\n",
    "        val_losses.append(val_loss.item()/len(val_loader))\n",
    "\n",
    "\n",
    "\n",
    "\n",
    "\n",
    "l_epoch = [i for i in range(len(losses))]\n",
    "l_epoch_val = [i for i in range(len(val_losses))]\n",
    "\n",
    "plt.figure()\n",
    "plt.plot(l_epoch,losses, '-', color='lightgrey', label='Train')\n",
    "plt.plot(l_epoch_val,val_losses, '-', label='Val')\n",
    "plt.xlabel(\"Epoch\")\n",
    "plt.ylabel(\"Loss\")\n",
    "plt.legend()\n"
   ]
  },
  {
   "cell_type": "markdown",
   "id": "19a6085f-aadc-41ac-bc5a-407195618512",
   "metadata": {},
   "source": [
    "2nd Network with 5 layers"
   ]
  },
  {
   "cell_type": "code",
   "execution_count": 27,
   "id": "ef05bf35-b21c-483f-bfdd-e28253c90c59",
   "metadata": {},
   "outputs": [
    {
     "name": "stdout",
     "output_type": "stream",
     "text": [
      "Size val_loader 7\n",
      "Size train_loader 25\n"
     ]
    },
    {
     "data": {
      "text/plain": [
       "<matplotlib.legend.Legend at 0x7f9579421e20>"
      ]
     },
     "execution_count": 27,
     "metadata": {},
     "output_type": "execute_result"
    },
    {
     "data": {
      "image/png": "[encoded data removed]",
      "text/plain": [
       "<Figure size 432x288 with 1 Axes>"
      ]
     },
     "metadata": {
      "needs_background": "light"
     },
     "output_type": "display_data"
    }
   ],
   "source": [
    "### MAIN ###\n",
    "\n",
    "\n",
    "\n",
    "model = Net_Task2(input_dimension = 2, output_dimension = 1)\n",
    "optimizer = torch.optim.Adam(model.parameters(), lr = learning_rate)\n",
    "criterion = nn.BCELoss()\n",
    "experiment = Experiment()\n",
    "train = Training(model,optimizer,criterion)\n",
    "\n",
    "\n",
    "print(\"Size val_loader\",len(val_loader))\n",
    "print(\"Size train_loader\",len(train_loader))\n",
    "\n",
    "losses = []\n",
    "val_losses = []\n",
    "\n",
    "for epoch in range(n_epochs):\n",
    "    loss = 0\n",
    "    val_loss = 0 \n",
    "    for x_batch, y_batch in train_loader:\n",
    "\n",
    "        loss += train.train_network(x_batch, y_batch).detach().numpy()\n",
    "    losses.append(loss/len(train_loader))\n",
    "        \n",
    "    with torch.no_grad():\n",
    "        for x_val, y_val in val_loader:\n",
    "\n",
    "            model.eval()\n",
    "\n",
    "            yhat = model(x_val)\n",
    "            val_loss += criterion( yhat,y_val.unsqueeze(1))\n",
    "        val_losses.append(val_loss.item()/len(val_loader))\n",
    "\n",
    "\n",
    "l_epoch = [i for i in range(len(losses))]\n",
    "l_epoch_val = [i for i in range(len(val_losses))]\n",
    "\n",
    "plt.figure()\n",
    "plt.plot(l_epoch,losses, '-', color='lightgrey', label='Train')\n",
    "plt.plot(l_epoch_val,val_losses, '-', label='Val')\n",
    "plt.xlabel(\"Epoch\")\n",
    "plt.ylabel(\"Loss\")\n",
    "plt.legend()\n",
    "\n",
    "\n",
    "\n",
    "\n"
   ]
  },
  {
   "cell_type": "code",
   "execution_count": null,
   "id": "1db61e86-4e50-4527-8dc5-c14a58fb4580",
   "metadata": {},
   "outputs": [],
   "source": []
  }
 ],
 "metadata": {
  "kernelspec": {
   "display_name": "Python 3",
   "language": "python",
   "name": "python3"
  },
  "language_info": {
   "codemirror_mode": {
    "name": "ipython",
    "version": 3
   },
   "file_extension": ".py",
   "mimetype": "text/x-python",
   "name": "python",
   "nbconvert_exporter": "python",
   "pygments_lexer": "ipython3",
   "version": "3.8.2"
  }
 },
 "nbformat": 4,
 "nbformat_minor": 5
}
