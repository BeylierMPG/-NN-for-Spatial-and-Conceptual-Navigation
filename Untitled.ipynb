{
 "cells": [
  {
   "cell_type": "code",
   "execution_count": 1,
   "metadata": {},
   "outputs": [],
   "source": [
    "import torch\n",
    "import torch.nn as nn\n",
    "import torch.nn.functional as F\n",
    "import time\n",
    "import numpy as np\n",
    "import cv2\n",
    "import random\n",
    "from matplotlib import pyplot as plt\n",
    "from torch.utils.data import DataLoader\n",
    "from torch.utils.data import Dataset, TensorDataset\n",
    "from torch.utils.data.dataset import random_split"
   ]
  },
  {
   "cell_type": "code",
   "execution_count": 2,
   "metadata": {},
   "outputs": [],
   "source": [
    "def print_params(model):\n",
    "    for name, param in model.named_parameters():\n",
    "        if param.requires_grad:\n",
    "            print(name, param.data)"
   ]
  },
  {
   "cell_type": "code",
   "execution_count": 3,
   "metadata": {},
   "outputs": [],
   "source": [
    "def layers_connexion(model):\n",
    "    Layers = 0\n",
    "    Connexions = []\n",
    "    Nodes = []\n",
    "    for name, param in model.named_parameters():\n",
    "        if param.requires_grad:\n",
    "            if \"bias\" in name:\n",
    "                Layers += 1\n",
    "                Nodes.append(len(param.detach().numpy()))\n",
    "            else:\n",
    "                a = param.detach().numpy()\n",
    "            #Replace weight value by binary number\n",
    "                a = np.select( [a != 0.0, a== 0.0], [1,0],default = a)\n",
    "                Connexions.append(a)\n",
    "    return(Layers, Connexions, Nodes)"
   ]
  },
  {
   "cell_type": "code",
   "execution_count": 4,
   "metadata": {},
   "outputs": [],
   "source": [
    "class Net_Task2(torch.nn.Module):\n",
    "    def __init__(self,input_dimension, output_dimension):\n",
    "        super(Net_Task2, self).__init__()\n",
    "        self.fc1 = nn.Linear(in_features = input_dimension, out_features = 5)\n",
    "        self.fc2 = nn.Linear(in_features = 5, out_features = 5)\n",
    "        self.fc3 = nn.Linear(in_features = 5, out_features = 5)\n",
    "        #self.fc4 = nn.Linear(in_features = 5, out_features = 5)\n",
    "        #self.fc5 = nn.Linear(in_features = 5,  out_features = output_dimension)\n",
    "        self.fc4 = nn.Linear(in_features = 5,  out_features = output_dimension)\n",
    "\n",
    "        #self.mask2 = torch.tensor([[1,0],[1,0],[0,1],[0,1]])\n",
    "        #self.mask3 = torch.tensor([[1,1,0,0],[0,0,1,1]]) \n",
    "\n",
    "\n",
    "    def forward(self, x):\n",
    "        x = F.relu(self.fc1(x))\n",
    "        x = F.relu(self.fc2(x))\n",
    "        x = F.relu(self.fc3(x))\n",
    "        #x = F.relu(self.fc4(x))\n",
    "        #x = self.fc5(x)\n",
    "        x = self.fc4(x)\n",
    "        return torch.sigmoid(x)\n",
    "\n"
   ]
  },
  {
   "cell_type": "code",
   "execution_count": 5,
   "metadata": {},
   "outputs": [
    {
     "name": "stdout",
     "output_type": "stream",
     "text": [
      "\n",
      " The model parameters before the update are: \n",
      "\n",
      "fc1.weight tensor([[-0.4344, -0.2115, -0.2190,  0.2415, -0.0734],\n",
      "        [ 0.2159,  0.0501,  0.2763,  0.0893, -0.2741],\n",
      "        [ 0.3849, -0.0502,  0.4422,  0.3927, -0.3801],\n",
      "        [-0.3515,  0.2468, -0.0534,  0.1329,  0.1647],\n",
      "        [ 0.0037, -0.2082, -0.4079, -0.3829, -0.0110]])\n",
      "fc1.bias tensor([-0.4464,  0.2394, -0.1512, -0.2154, -0.1510])\n",
      "fc2.weight tensor([[ 0.1901, -0.2276,  0.4001,  0.1544, -0.4074],\n",
      "        [-0.1368,  0.2532, -0.2984, -0.0328,  0.2766],\n",
      "        [-0.3563, -0.0540,  0.2982, -0.0195,  0.4054],\n",
      "        [ 0.3989, -0.3627, -0.2894, -0.0603,  0.1493],\n",
      "        [-0.3135,  0.2428,  0.0163,  0.3757,  0.2823]])\n",
      "fc2.bias tensor([0.1538, 0.2531, 0.3358, 0.3895, 0.1741])\n",
      "fc3.weight tensor([[-0.0602, -0.3792,  0.3663, -0.4168,  0.3950],\n",
      "        [-0.1624, -0.4078,  0.3287,  0.0453, -0.3424],\n",
      "        [ 0.0242,  0.2901, -0.2508,  0.1302,  0.4125],\n",
      "        [ 0.3521,  0.0950, -0.2640, -0.1562, -0.4111],\n",
      "        [ 0.3906, -0.1636,  0.2741,  0.2601, -0.3309]])\n",
      "fc3.bias tensor([-0.2668,  0.3712,  0.0540, -0.4010, -0.4380])\n",
      "fc4.weight tensor([[-0.1174, -0.0161,  0.3742, -0.0383,  0.3871]])\n",
      "fc4.bias tensor([-0.2546])\n"
     ]
    }
   ],
   "source": [
    "model = Net_Task2(input_dimension = 5, output_dimension = 1)\n",
    "print('\\n The model parameters before the update are: \\n')\n",
    "print_params(model)"
   ]
  },
  {
   "cell_type": "code",
   "execution_count": 6,
   "metadata": {},
   "outputs": [],
   "source": [
    "\n",
    "class Experiment:\n",
    "\n",
    "    def __init__(self):\n",
    "\n",
    "        # Set the width and height of the grid\n",
    "        self.width = 8\n",
    "        self.height = 8\n",
    "\n",
    "\n",
    "    def Target_position(self):\n",
    "        Target_position_grid = torch.eye(self.width,dtype=torch.int32)\n",
    "        for i in range(self.width-1):\n",
    "            Target_position_grid[i,i-1] = 1\n",
    "            Target_position_grid[i,i+1] = 1\n",
    "            \n",
    "        Target_position_grid[self.width-1,self.width-1] = 1\n",
    "        Target_position_grid[self.width-1,self.width - 2] = 1\n",
    "\n",
    "        return Target_position_grid\n",
    "\n",
    "    def data_target_generator(self):\n",
    "        x = np.random.randint(0,7)\n",
    "        y = np.random.randint(0,7)\n",
    "        print(x)\n",
    "        print(y)\n",
    "        sun = np.random.random_sample()\n",
    "        rain = np.random.random_sample()\n",
    "        print(sun)\n",
    "        data = torch.tensor([x,y,sun,rain])\n",
    "        target = self.Target_position()[x,y]\n",
    "\n",
    "        return(data,target)"
   ]
  },
  {
   "cell_type": "code",
   "execution_count": 7,
   "metadata": {},
   "outputs": [],
   "source": [
    "class GridWorld:\n",
    "    def __init__(self, display, magnification=800):\n",
    "        # Set whether the environment should be displayed after every step\n",
    "        self.display = display\n",
    "        # Set the magnification factor of the display\n",
    "        self.magnification = magnification\n",
    "        # Set the width and height of the environment\n",
    "        self.width = 8\n",
    "        self.height = 8\n",
    "        # Create an image which will be used to display the environment\n",
    "        self.image = np.zeros([int(self.magnification), int(self.magnification), 3], dtype=np.uint8)\n",
    "\n",
    "        self.experiment = Experiment()\n",
    "\n",
    "\n",
    "    def draw(self):\n",
    "        # Create the background image\n",
    "        window_top_left = (0, 0)\n",
    "        window_bottom_right = (self.magnification * self.height, self.magnification * self.width)\n",
    "        cv2.rectangle(self.image, window_top_left, window_bottom_right, (246, 238, 229), thickness=cv2.FILLED)\n",
    "        # Set the space where we have to plant the seed in the location task\n",
    "        Target_position_grid = self.experiment.Target_position()\n",
    "        for i in range(self.width):\n",
    "            for j in range(self.height):\n",
    "                if Target_position_grid[i,j] == 1:\n",
    "                    top_left = [int(((self.magnification/self.width )*i)),int((self.magnification/self.width) *j)]\n",
    "           \n",
    "                    bottom_right = [int((self.magnification/self.width) *(i+1)), int((self.magnification/self.width) *(j+1))]\n",
    "                    cv2.rectangle(self.image,top_left,bottom_right,(255,0,0),thickness=cv2.FILLED)\n",
    "        cv2.imshow(\"Environment\", self.image)\n",
    "        # This line is necessary to give time for the image to be rendered on the screen\n",
    "        cv2.waitKey(1)\n",
    "        \n",
    "\n"
   ]
  },
  {
   "cell_type": "code",
   "execution_count": null,
   "metadata": {
    "tags": []
   },
   "outputs": [],
   "source": [
    "display_on = True\n",
    "environment = GridWorld(display = display_on,magnification=800) # Create an agent\n",
    "\n",
    "# Determine the time at which training will stop, i.e. in 10 minutes (600 seconds) time\n",
    "start_time = time.time() \n",
    "end_time = start_time + 600\n",
    "while time.time() < end_time:\n",
    "# Optionally, show the environment\n",
    "    if display_on:\n",
    "        environment.draw()"
   ]
  },
  {
   "cell_type": "code",
   "execution_count": 34,
   "metadata": {},
   "outputs": [],
   "source": [
    "class Network_Visualization:\n",
    "    def __init__(self,display,magnification,Model):\n",
    "        self.layers,self.connexions,self.nodes = layers_connexion(model)\n",
    "        # Set whether the environment should be displayed after every step\n",
    "        self.display = display\n",
    "        # Set the magnification factor of the display\n",
    "        self.magnification = magnification\n",
    "        # Create an image which will be used to display the environment\n",
    "        self.image = np.zeros([int(self.magnification), int(self.magnification), 3], dtype=np.uint8)\n",
    "        # Set the width and height of the environment\n",
    "        self.width = 5\n",
    "        self.height = 5\n",
    "        self.rayon = 1\n",
    "            \n",
    "        # Init y coordinates of each layers\n",
    "        self.b = np.linspace(0+self.magnification *(4* self.rayon),\n",
    "                        self.magnification * (self.width-4*self.rayon),\n",
    "                        self.layers)\n",
    "        # Init coordinates of each nodes, i//self.layers allow to have the same y coordinates for every nodes of the same layer\n",
    "        self.Nodes_coordinates = []\n",
    "        \n",
    "    def draw(self):\n",
    "        # Create the background image\n",
    "        window_top_left = (0, 0)\n",
    "        window_bottom_right = (self.magnification * self.height, self.magnification * self.width)\n",
    "        #print(\"window_bottom_right\",window_bottom_right)\n",
    "        cv2.rectangle(self.image, window_top_left, window_bottom_right, (0, 238, 229), thickness=cv2.FILLED)\n",
    "        for i in range(self.layers):\n",
    "            a = np.linspace(0+self.magnification *(4* self.rayon),\n",
    "                            self.magnification * (self.width-4*self.rayon),\n",
    "                            self.nodes[i])\n",
    "            coordinates = [[int(a[i]),int(self.b[i//self.layers])] for i in range(len(a))]\n",
    "            self.Nodes_coordinates.append(coordinates)     \n",
    "            \n",
    "        \n",
    "        for i in range(self.layers - 2):\n",
    "            #print(\"layer number.  \",i)\n",
    "            for j in range(len(self.Nodes_coordinates[i])):\n",
    "                #print(\"self.Nodes_coordinates[i][j]\",self.Nodes_coordinates[i][j])\n",
    "                cv2.circle(self.image,center= self.Nodes_coordinates[i][j], \n",
    "                           radius = self.rayon, \n",
    "                           color = (0, 0, 255) , \n",
    "                           thickness = 9 )\n",
    "\n",
    "              #  for k in range(len(self.connexions[i][j])):\n",
    "               #     if self.connexions[i][j][k] != 0:\n",
    "                #        print(\"g\",np.array(self.Nodes_coordinates[i][j]) + self.magnification*self.rayon)\n",
    "                 #       print(np.array(self.Nodes_coordinates[i+1][j]) - self.magnification*self.rayon)\n",
    "                  #      cv2.line(self.image, \n",
    "                   #              pt1 = np.array(self.Nodes_coordinates[i][j]) + self.magnification*self.rayon, \n",
    "                    #             pt2 = np.array(self.Nodes_coordinates[i+1][j]) - self.magnification*self.rayon,\n",
    "                     #            color = (0, 255, 0), \n",
    "                      #           thickness = 9)\n",
    "\n",
    "        cv2.imshow(\"Environment4\", self.image)\n",
    "        # This line is necessary to give time for the image to be rendered on the screen\n",
    "        cv2.waitKey(1)\n",
    "        "
   ]
  },
  {
   "cell_type": "code",
   "execution_count": 22,
   "metadata": {},
   "outputs": [],
   "source": [
    "display_on = True\n",
    "visu = Network_Visualization(display = display_on,magnification=800,Model = model)"
   ]
  },
  {
   "cell_type": "code",
   "execution_count": null,
   "metadata": {},
   "outputs": [],
   "source": [
    "display_on = True\n",
    "visu = Network_Visualization(display = display_on,magnification=100,Model = model)\n",
    "\n",
    "# Determine the time at which training will stop, i.e. in 10 minutes (600 seconds) time\n",
    "start_time = time.time() \n",
    "end_time = start_time + 600\n",
    "while time.time() < end_time:\n",
    "# Optionally, show the environment\n",
    "    if display_on:\n",
    "        visu.draw()"
   ]
  },
  {
   "cell_type": "code",
   "execution_count": 11,
   "metadata": {},
   "outputs": [],
   "source": [
    "h = [[0, 6720.0], [0, 6720.0], [0, 6720.0], [0, 6720.0], [0, 6720.0], [0, 6560.0], [0, 6560.0], [0, 6560.0], [0, 6560.0], [0, 6560.0], [0, 6400.0], [0, 6400.0], [0, 6400.0], [0, 6400.0], [0, 6400.0], [0, 6240.0], [0, 6240.0], [0, 6240.0], [0, 6240.0], [0, 6240.0], [0, 6080.0]]"
   ]
  },
  {
   "cell_type": "code",
   "execution_count": null,
   "metadata": {},
   "outputs": [],
   "source": [
    "print(h[:])"
   ]
  },
  {
   "cell_type": "code",
   "execution_count": null,
   "metadata": {},
   "outputs": [],
   "source": [
    "      z_ = np.select( (z_==1,z_==2, z_==3),\n",
    "                (150, 120, 110),\n",
    "                default=z_)"
   ]
  }
 ],
 "metadata": {
  "kernelspec": {
   "display_name": "Python 3",
   "language": "python",
   "name": "python3"
  },
  "language_info": {
   "codemirror_mode": {
    "name": "ipython",
    "version": 3
   },
   "file_extension": ".py",
   "mimetype": "text/x-python",
   "name": "python",
   "nbconvert_exporter": "python",
   "pygments_lexer": "ipython3",
   "version": "3.8.2"
  }
 },
 "nbformat": 4,
 "nbformat_minor": 4
}
