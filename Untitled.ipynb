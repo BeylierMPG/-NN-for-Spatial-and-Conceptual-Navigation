{
 "cells": [
  {
   "cell_type": "code",
   "execution_count": 1,
   "metadata": {},
   "outputs": [],
   "source": [
    "import torch\n",
    "import torch.nn as nn\n",
    "import torch.nn.functional as F\n",
    "import time\n",
    "import numpy as np\n",
    "import cv2\n",
    "import random\n",
    "from matplotlib import pyplot as plt\n",
    "from torch.utils.data import DataLoader\n",
    "from torch.utils.data import Dataset, TensorDataset\n",
    "from torch.utils.data.dataset import random_split"
   ]
  },
  {
   "cell_type": "code",
   "execution_count": 145,
   "metadata": {},
   "outputs": [],
   "source": [
    "def print_params(model):\n",
    "    for name, param in model.named_parameters():\n",
    "        if param.requires_grad:\n",
    "            print(name, param.data)"
   ]
  },
  {
   "cell_type": "code",
   "execution_count": 169,
   "metadata": {},
   "outputs": [],
   "source": [
    "def layers_connexion(model):\n",
    "    Layers = 0\n",
    "    Connexions = []\n",
    "    Nodes = []\n",
    "    for name, param in model.named_parameters():\n",
    "        if param.requires_grad:\n",
    "            if \"bias\" in name:\n",
    "                Layers += 1\n",
    "                Nodes.append(len(param.detach().numpy()))\n",
    "      \n",
    "            a = param.detach().numpy()\n",
    "            #Replace weight value by binary number\n",
    "            a = np.select( [a != 0.0, a== 0.0], [1,0],default = a)\n",
    "            Connexions.append(a)\n",
    "    return(Layers, Connexions, Nodes)"
   ]
  },
  {
   "cell_type": "code",
   "execution_count": null,
   "metadata": {},
   "outputs": [],
   "source": [
    "x = np.arange(10)\n",
    ">>> condlist = [x<3, x>5]\n",
    ">>> choicelist = [x, x**2]\n",
    ">>> np.select(condlist, choicelist)\n",
    "array([ 0,  1,  2, ..., 49, 64, 81])"
   ]
  },
  {
   "cell_type": "code",
   "execution_count": 147,
   "metadata": {},
   "outputs": [],
   "source": [
    "class Net_Task2(torch.nn.Module):\n",
    "    def __init__(self,input_dimension, output_dimension):\n",
    "        super(Net_Task2, self).__init__()\n",
    "        self.fc1 = nn.Linear(in_features = input_dimension, out_features = 5)\n",
    "        self.fc2 = nn.Linear(in_features = 5, out_features = 5)\n",
    "        self.fc3 = nn.Linear(in_features = 5, out_features = 5)\n",
    "        #self.fc4 = nn.Linear(in_features = 5, out_features = 5)\n",
    "        #self.fc5 = nn.Linear(in_features = 5,  out_features = output_dimension)\n",
    "        self.fc4 = nn.Linear(in_features = 5,  out_features = output_dimension)\n",
    "\n",
    "        #self.mask2 = torch.tensor([[1,0],[1,0],[0,1],[0,1]])\n",
    "        #self.mask3 = torch.tensor([[1,1,0,0],[0,0,1,1]]) \n",
    "\n",
    "\n",
    "    def forward(self, x):\n",
    "        x = F.relu(self.fc1(x))\n",
    "        x = F.relu(self.fc2(x))\n",
    "        x = F.relu(self.fc3(x))\n",
    "        #x = F.relu(self.fc4(x))\n",
    "        #x = self.fc5(x)\n",
    "        x = self.fc4(x)\n",
    "        return torch.sigmoid(x)\n",
    "\n"
   ]
  },
  {
   "cell_type": "code",
   "execution_count": 148,
   "metadata": {},
   "outputs": [
    {
     "name": "stdout",
     "output_type": "stream",
     "text": [
      "\n",
      " The model parameters before the update are: \n",
      "\n",
      "fc1.weight tensor([[ 0.0427,  0.0192,  0.2122, -0.1745, -0.3084],\n",
      "        [ 0.3962, -0.3745,  0.0952,  0.2807,  0.3695],\n",
      "        [ 0.1187,  0.2021,  0.2671,  0.0859, -0.0233],\n",
      "        [ 0.1345,  0.3104, -0.4028,  0.1553, -0.0070],\n",
      "        [-0.1101,  0.2904,  0.3111,  0.1750, -0.4056]])\n",
      "fc1.bias tensor([-0.1173, -0.0868, -0.2641, -0.2727, -0.1364])\n",
      "fc2.weight tensor([[-0.4335,  0.3152, -0.0646,  0.0152, -0.1661],\n",
      "        [ 0.0949,  0.1424, -0.1242,  0.0577, -0.3496],\n",
      "        [ 0.3637, -0.1843,  0.2556,  0.2001,  0.1719],\n",
      "        [-0.3879, -0.1651,  0.4167, -0.2686,  0.2394],\n",
      "        [ 0.2162,  0.4365,  0.0238, -0.2519, -0.3799]])\n",
      "fc2.bias tensor([ 0.4255,  0.1916,  0.0323,  0.3765, -0.0482])\n",
      "fc3.weight tensor([[ 0.4234, -0.3349, -0.0215,  0.1566,  0.1681],\n",
      "        [-0.3460,  0.1969,  0.1452, -0.0255, -0.0222],\n",
      "        [ 0.4434, -0.1257, -0.1109,  0.1431, -0.3025],\n",
      "        [-0.3481, -0.2419,  0.0769, -0.2984, -0.0952],\n",
      "        [-0.3580, -0.1628, -0.2974, -0.0212, -0.4173]])\n",
      "fc3.bias tensor([-0.0134, -0.1714,  0.2567,  0.0921, -0.3033])\n",
      "fc4.weight tensor([[-0.1879,  0.0455, -0.3411, -0.4404, -0.0405]])\n",
      "fc4.bias tensor([-0.1584])\n"
     ]
    }
   ],
   "source": [
    "model = Net_Task2(input_dimension = 5, output_dimension = 1)\n",
    "print('\\n The model parameters before the update are: \\n')\n",
    "print_params(model)"
   ]
  },
  {
   "cell_type": "code",
   "execution_count": 144,
   "metadata": {},
   "outputs": [],
   "source": [
    "\n",
    "class Experiment:\n",
    "\n",
    "    def __init__(self):\n",
    "\n",
    "        # Set the width and height of the grid\n",
    "        self.width = 8\n",
    "        self.height = 8\n",
    "\n",
    "\n",
    "    def Target_position(self):\n",
    "        Target_position_grid = torch.eye(self.width,dtype=torch.int32)\n",
    "        for i in range(self.width-1):\n",
    "            Target_position_grid[i,i-1] = 1\n",
    "            Target_position_grid[i,i+1] = 1\n",
    "            \n",
    "        Target_position_grid[self.width-1,self.width-1] = 1\n",
    "        Target_position_grid[self.width-1,self.width - 2] = 1\n",
    "\n",
    "        return Target_position_grid\n",
    "\n",
    "    def data_target_generator(self):\n",
    "        x = np.random.randint(0,7)\n",
    "        y = np.random.randint(0,7)\n",
    "        print(x)\n",
    "        print(y)\n",
    "        sun = np.random.random_sample()\n",
    "        rain = np.random.random_sample()\n",
    "        print(sun)\n",
    "        data = torch.tensor([x,y,sun,rain])\n",
    "        target = self.Target_position()[x,y]\n",
    "\n",
    "        return(data,target)"
   ]
  },
  {
   "cell_type": "code",
   "execution_count": 56,
   "metadata": {},
   "outputs": [],
   "source": [
    "class GridWorld:\n",
    "    def __init__(self, display, magnification=800):\n",
    "        # Set whether the environment should be displayed after every step\n",
    "        self.display = display\n",
    "        # Set the magnification factor of the display\n",
    "        self.magnification = magnification\n",
    "        # Set the width and height of the environment\n",
    "        self.width = 8\n",
    "        self.height = 8\n",
    "        # Create an image which will be used to display the environment\n",
    "        self.image = np.zeros([int(self.magnification), int(self.magnification), 3], dtype=np.uint8)\n",
    "\n",
    "        self.experiment = Experiment()\n",
    "\n",
    "\n",
    "    def draw(self):\n",
    "        # Create the background image\n",
    "        window_top_left = (0, 0)\n",
    "        window_bottom_right = (self.magnification * self.height, self.magnification * self.width)\n",
    "        cv2.rectangle(self.image, window_top_left, window_bottom_right, (246, 238, 229), thickness=cv2.FILLED)\n",
    "        # Set the space where we have to plant the seed in the location task\n",
    "        Target_position_grid = self.experiment.Target_position()\n",
    "        for i in range(self.width):\n",
    "            for j in range(self.height):\n",
    "                if Target_position_grid[i,j] == 1:\n",
    "                    top_left = [int(((self.magnification/self.width )*i)),int((self.magnification/self.width) *j)]\n",
    "           \n",
    "                    bottom_right = [int((self.magnification/self.width) *(i+1)), int((self.magnification/self.width) *(j+1))]\n",
    "                    cv2.rectangle(self.image,top_left,bottom_right,(255,0,0),thickness=cv2.FILLED)\n",
    "        cv2.imshow(\"Environment\", self.image)\n",
    "        # This line is necessary to give time for the image to be rendered on the screen\n",
    "        cv2.waitKey(1)\n",
    "        \n",
    "\n"
   ]
  },
  {
   "cell_type": "code",
   "execution_count": 57,
   "metadata": {
    "collapsed": true,
    "jupyter": {
     "outputs_hidden": true
    },
    "tags": []
   },
   "outputs": [
    {
     "ename": "KeyboardInterrupt",
     "evalue": "",
     "output_type": "error",
     "traceback": [
      "\u001b[0;31m---------------------------------------------------------------------------\u001b[0m",
      "\u001b[0;31mKeyboardInterrupt\u001b[0m                         Traceback (most recent call last)",
      "\u001b[0;32m<ipython-input-57-009f3f08d9d0>\u001b[0m in \u001b[0;36m<module>\u001b[0;34m\u001b[0m\n\u001b[1;32m      8\u001b[0m \u001b[0;31m# Optionally, show the environment\u001b[0m\u001b[0;34m\u001b[0m\u001b[0;34m\u001b[0m\u001b[0;34m\u001b[0m\u001b[0m\n\u001b[1;32m      9\u001b[0m     \u001b[0;32mif\u001b[0m \u001b[0mdisplay_on\u001b[0m\u001b[0;34m:\u001b[0m\u001b[0;34m\u001b[0m\u001b[0;34m\u001b[0m\u001b[0m\n\u001b[0;32m---> 10\u001b[0;31m         \u001b[0menvironment\u001b[0m\u001b[0;34m.\u001b[0m\u001b[0mdraw\u001b[0m\u001b[0;34m(\u001b[0m\u001b[0;34m)\u001b[0m\u001b[0;34m\u001b[0m\u001b[0;34m\u001b[0m\u001b[0m\n\u001b[0m",
      "\u001b[0;32m<ipython-input-56-c2f0e655a25d>\u001b[0m in \u001b[0;36mdraw\u001b[0;34m(self)\u001b[0m\n\u001b[1;32m     30\u001b[0m         \u001b[0mcv2\u001b[0m\u001b[0;34m.\u001b[0m\u001b[0mimshow\u001b[0m\u001b[0;34m(\u001b[0m\u001b[0;34m\"Environment\"\u001b[0m\u001b[0;34m,\u001b[0m \u001b[0mself\u001b[0m\u001b[0;34m.\u001b[0m\u001b[0mimage\u001b[0m\u001b[0;34m)\u001b[0m\u001b[0;34m\u001b[0m\u001b[0;34m\u001b[0m\u001b[0m\n\u001b[1;32m     31\u001b[0m         \u001b[0;31m# This line is necessary to give time for the image to be rendered on the screen\u001b[0m\u001b[0;34m\u001b[0m\u001b[0;34m\u001b[0m\u001b[0;34m\u001b[0m\u001b[0m\n\u001b[0;32m---> 32\u001b[0;31m         \u001b[0mcv2\u001b[0m\u001b[0;34m.\u001b[0m\u001b[0mwaitKey\u001b[0m\u001b[0;34m(\u001b[0m\u001b[0;36m1\u001b[0m\u001b[0;34m)\u001b[0m\u001b[0;34m\u001b[0m\u001b[0;34m\u001b[0m\u001b[0m\n\u001b[0m\u001b[1;32m     33\u001b[0m \u001b[0;34m\u001b[0m\u001b[0m\n\u001b[1;32m     34\u001b[0m \u001b[0;34m\u001b[0m\u001b[0m\n",
      "\u001b[0;31mKeyboardInterrupt\u001b[0m: "
     ]
    }
   ],
   "source": [
    "display_on = True\n",
    "environment = GridWorld(display = display_on,magnification=800) # Create an agent\n",
    "\n",
    "# Determine the time at which training will stop, i.e. in 10 minutes (600 seconds) time\n",
    "start_time = time.time() \n",
    "end_time = start_time + 600\n",
    "while time.time() < end_time:\n",
    "# Optionally, show the environment\n",
    "    if display_on:\n",
    "        environment.draw()"
   ]
  },
  {
   "cell_type": "code",
   "execution_count": 285,
   "metadata": {},
   "outputs": [],
   "source": [
    "class Network_Visualization:\n",
    "    def __init__(self,display,magnification,Model):\n",
    "        self.layers,self.connexions,self.nodes = layers_connexion(model)\n",
    "        # Set whether the environment should be displayed after every step\n",
    "        self.display = display\n",
    "        # Set the magnification factor of the display\n",
    "        self.magnification = magnification\n",
    "        # Create an image which will be used to display the environment\n",
    "        self.image = np.zeros([int(self.magnification), int(self.magnification), 3], dtype=np.uint8)\n",
    "        # Set the width and height of the environment\n",
    "        self.width = 8\n",
    "        self.height = 8\n",
    "        self.rayon = 1\n",
    "            \n",
    "        # Init y coordinates of each layers\n",
    "        self.b = np.linspace(0+self.magnification *(self.width+4* self.rayon),\n",
    "                        self.magnification * (self.width-4*self.rayon),\n",
    "                        self.layers)\n",
    "        # Init coordinates of each nodes, i//self.layers allow to have the same y coordinates for every nodes of the same layer\n",
    "        self.Nodes_coordinates = []\n",
    "        \n",
    "    def draw(self):\n",
    "        # Create the background image\n",
    "        window_top_left = (0, 0)\n",
    "        window_bottom_right = (self.magnification * self.height, self.magnification * self.width)\n",
    "        cv2.rectangle(self.image, window_top_left, window_bottom_right, (246, 238, 229), thickness=cv2.FILLED)\n",
    "        for i in range(self.layers):\n",
    "            a = np.linspace(0+self.magnification *(self.width+4* self.rayon),\n",
    "                            self.magnification * (self.width-4*self.rayon),\n",
    "                            self.nodes[i])\n",
    "            coordinates = [[int(a[i]),int(self.b[i//self.layers])] for i in range(len(a))]\n",
    "            self.Nodes_coordinates.append(coordinates)     \n",
    "            \n",
    "        \n",
    "        for i in range(self.layers - 1):\n",
    "            print(\"layer number.  \",i)\n",
    "            print(self.Nodes_coordinates[0])\n",
    "            for j in range(len(self.Nodes_coordinates[i])):\n",
    "                print(self.Nodes_coordinates[i][j])\n",
    "                cv2.circle(self.image,center= self.Nodes_coordinates[i][j], \n",
    "                           radius = self.rayon, \n",
    "                           color = (0, 0, 255) , \n",
    "                           thickness = 4 )\n",
    "                print(self.layers)\n",
    "                print(self.connexions[i][j])\n",
    "                print(len(self.connexions[i][j]))\n",
    "                for k in range(len(self.connexions[i][j])):\n",
    "                    if self.connexions[i][j][k] != 0:\n",
    "                        cv2.line(self.image, \n",
    "                                 pt1 = np.array(self.Nodes_coordinates[i][j]) + self.magnification*self.rayon, \n",
    "                                 pt2 = np.array(self.Nodes_coordinates[i+1][j]) - self.magnification*self.rayon,\n",
    "                                 color = (0, 255, 0), \n",
    "                                 thickness = 3)\n",
    "\n",
    "        cv2.imshow(\"Environment\", self.image)\n",
    "        # This line is necessary to give time for the image to be rendered on the screen\n",
    "        cv2.waitKey(1)\n",
    "        "
   ]
  },
  {
   "cell_type": "code",
   "execution_count": 150,
   "metadata": {},
   "outputs": [
    {
     "name": "stdout",
     "output_type": "stream",
     "text": [
      "<generator object Module.named_parameters at 0x7fdbb8930dd0>\n"
     ]
    }
   ],
   "source": [
    "print(model.named_parameters())"
   ]
  },
  {
   "cell_type": "code",
   "execution_count": 170,
   "metadata": {},
   "outputs": [],
   "source": [
    "layer,connexion,nodes = layers_connexion(model)"
   ]
  },
  {
   "cell_type": "code",
   "execution_count": 152,
   "metadata": {},
   "outputs": [
    {
     "name": "stdout",
     "output_type": "stream",
     "text": [
      "4\n"
     ]
    }
   ],
   "source": [
    "print(layer)"
   ]
  },
  {
   "cell_type": "code",
   "execution_count": 153,
   "metadata": {
    "tags": []
   },
   "outputs": [
    {
     "name": "stdout",
     "output_type": "stream",
     "text": [
      "8\n",
      "[[ 0.04269242  0.01919526  0.21216989 -0.17446175 -0.30842078]\n",
      " [ 0.3961733  -0.37452942  0.09521449  0.28072983  0.36946005]\n",
      " [ 0.11873388  0.2020697   0.26709896  0.0859071  -0.02328312]\n",
      " [ 0.13446862  0.3103981  -0.4028248   0.15532053 -0.00702295]\n",
      " [-0.11012241  0.29043126  0.31112736  0.174977   -0.40559343]]\n"
     ]
    }
   ],
   "source": [
    "print(len(connexion))\n",
    "print(connexion[0])"
   ]
  },
  {
   "cell_type": "code",
   "execution_count": 154,
   "metadata": {},
   "outputs": [
    {
     "name": "stdout",
     "output_type": "stream",
     "text": [
      "[5, 5, 5, 1]\n",
      "16\n"
     ]
    }
   ],
   "source": [
    "print(nodes)\n",
    "print(np.sum(nodes))"
   ]
  },
  {
   "cell_type": "code",
   "execution_count": 286,
   "metadata": {},
   "outputs": [],
   "source": [
    "visu = Network_Visualization(display = display_on,magnification=800,Model = model)"
   ]
  },
  {
   "cell_type": "code",
   "execution_count": 287,
   "metadata": {},
   "outputs": [
    {
     "name": "stdout",
     "output_type": "stream",
     "text": [
      "layer number.   0\n",
      "[[9600, 9600], [8000, 9600], [6400, 9600], [4800, 9600], [3200, 7466]]\n",
      "[9600, 9600]\n",
      "4\n",
      "[1. 1. 1. 1. 1.]\n",
      "5\n",
      "[8000, 9600]\n",
      "4\n",
      "[1. 1. 1. 1. 1.]\n",
      "5\n",
      "[6400, 9600]\n",
      "4\n",
      "[1. 1. 1. 1. 1.]\n",
      "5\n",
      "[4800, 9600]\n",
      "4\n",
      "[1. 1. 1. 1. 1.]\n",
      "5\n",
      "[3200, 7466]\n",
      "4\n",
      "[1. 1. 1. 1. 1.]\n",
      "5\n",
      "layer number.   1\n",
      "[[9600, 9600], [8000, 9600], [6400, 9600], [4800, 9600], [3200, 7466]]\n",
      "[9600, 9600]\n",
      "4\n",
      "1.0\n"
     ]
    },
    {
     "ename": "TypeError",
     "evalue": "object of type 'numpy.float64' has no len()",
     "output_type": "error",
     "traceback": [
      "\u001b[0;31m---------------------------------------------------------------------------\u001b[0m",
      "\u001b[0;31mTypeError\u001b[0m                                 Traceback (most recent call last)",
      "\u001b[0;32m<ipython-input-287-1a49ad951a49>\u001b[0m in \u001b[0;36m<module>\u001b[0;34m\u001b[0m\n\u001b[0;32m----> 1\u001b[0;31m \u001b[0mvisu\u001b[0m\u001b[0;34m.\u001b[0m\u001b[0mdraw\u001b[0m\u001b[0;34m(\u001b[0m\u001b[0;34m)\u001b[0m\u001b[0;34m\u001b[0m\u001b[0;34m\u001b[0m\u001b[0m\n\u001b[0m",
      "\u001b[0;32m<ipython-input-285-a8fc6e05ec43>\u001b[0m in \u001b[0;36mdraw\u001b[0;34m(self)\u001b[0m\n\u001b[1;32m     44\u001b[0m                 \u001b[0mprint\u001b[0m\u001b[0;34m(\u001b[0m\u001b[0mself\u001b[0m\u001b[0;34m.\u001b[0m\u001b[0mlayers\u001b[0m\u001b[0;34m)\u001b[0m\u001b[0;34m\u001b[0m\u001b[0;34m\u001b[0m\u001b[0m\n\u001b[1;32m     45\u001b[0m                 \u001b[0mprint\u001b[0m\u001b[0;34m(\u001b[0m\u001b[0mself\u001b[0m\u001b[0;34m.\u001b[0m\u001b[0mconnexions\u001b[0m\u001b[0;34m[\u001b[0m\u001b[0mi\u001b[0m\u001b[0;34m]\u001b[0m\u001b[0;34m[\u001b[0m\u001b[0mj\u001b[0m\u001b[0;34m]\u001b[0m\u001b[0;34m)\u001b[0m\u001b[0;34m\u001b[0m\u001b[0;34m\u001b[0m\u001b[0m\n\u001b[0;32m---> 46\u001b[0;31m                 \u001b[0mprint\u001b[0m\u001b[0;34m(\u001b[0m\u001b[0mlen\u001b[0m\u001b[0;34m(\u001b[0m\u001b[0mself\u001b[0m\u001b[0;34m.\u001b[0m\u001b[0mconnexions\u001b[0m\u001b[0;34m[\u001b[0m\u001b[0mi\u001b[0m\u001b[0;34m]\u001b[0m\u001b[0;34m[\u001b[0m\u001b[0mj\u001b[0m\u001b[0;34m]\u001b[0m\u001b[0;34m)\u001b[0m\u001b[0;34m)\u001b[0m\u001b[0;34m\u001b[0m\u001b[0;34m\u001b[0m\u001b[0m\n\u001b[0m\u001b[1;32m     47\u001b[0m                 \u001b[0;32mfor\u001b[0m \u001b[0mk\u001b[0m \u001b[0;32min\u001b[0m \u001b[0mrange\u001b[0m\u001b[0;34m(\u001b[0m\u001b[0mlen\u001b[0m\u001b[0;34m(\u001b[0m\u001b[0mself\u001b[0m\u001b[0;34m.\u001b[0m\u001b[0mconnexions\u001b[0m\u001b[0;34m[\u001b[0m\u001b[0mi\u001b[0m\u001b[0;34m]\u001b[0m\u001b[0;34m[\u001b[0m\u001b[0mj\u001b[0m\u001b[0;34m]\u001b[0m\u001b[0;34m)\u001b[0m\u001b[0;34m)\u001b[0m\u001b[0;34m:\u001b[0m\u001b[0;34m\u001b[0m\u001b[0;34m\u001b[0m\u001b[0m\n\u001b[1;32m     48\u001b[0m                     \u001b[0;32mif\u001b[0m \u001b[0mself\u001b[0m\u001b[0;34m.\u001b[0m\u001b[0mconnexions\u001b[0m\u001b[0;34m[\u001b[0m\u001b[0mi\u001b[0m\u001b[0;34m]\u001b[0m\u001b[0;34m[\u001b[0m\u001b[0mj\u001b[0m\u001b[0;34m]\u001b[0m\u001b[0;34m[\u001b[0m\u001b[0mk\u001b[0m\u001b[0;34m]\u001b[0m \u001b[0;34m!=\u001b[0m \u001b[0;36m0\u001b[0m\u001b[0;34m:\u001b[0m\u001b[0;34m\u001b[0m\u001b[0;34m\u001b[0m\u001b[0m\n",
      "\u001b[0;31mTypeError\u001b[0m: object of type 'numpy.float64' has no len()"
     ]
    }
   ],
   "source": [
    "visu.draw()"
   ]
  },
  {
   "cell_type": "code",
   "execution_count": 130,
   "metadata": {},
   "outputs": [],
   "source": [
    "h = [[0, 6720.0], [0, 6720.0], [0, 6720.0], [0, 6720.0], [0, 6720.0], [0, 6560.0], [0, 6560.0], [0, 6560.0], [0, 6560.0], [0, 6560.0], [0, 6400.0], [0, 6400.0], [0, 6400.0], [0, 6400.0], [0, 6400.0], [0, 6240.0], [0, 6240.0], [0, 6240.0], [0, 6240.0], [0, 6240.0], [0, 6080.0]]"
   ]
  },
  {
   "cell_type": "code",
   "execution_count": 135,
   "metadata": {},
   "outputs": [
    {
     "name": "stdout",
     "output_type": "stream",
     "text": [
      "[[0, 6720.0], [0, 6720.0], [0, 6720.0], [0, 6720.0], [0, 6720.0], [0, 6560.0], [0, 6560.0], [0, 6560.0], [0, 6560.0], [0, 6560.0], [0, 6400.0], [0, 6400.0], [0, 6400.0], [0, 6400.0], [0, 6400.0], [0, 6240.0], [0, 6240.0], [0, 6240.0], [0, 6240.0], [0, 6240.0], [0, 6080.0]]\n"
     ]
    }
   ],
   "source": [
    "print(h[:])"
   ]
  },
  {
   "cell_type": "code",
   "execution_count": null,
   "metadata": {},
   "outputs": [],
   "source": [
    "      z_ = np.select( (z_==1,z_==2, z_==3),\n",
    "                (150, 120, 110),\n",
    "                default=z_)"
   ]
  }
 ],
 "metadata": {
  "kernelspec": {
   "display_name": "Python 3",
   "language": "python",
   "name": "python3"
  },
  "language_info": {
   "codemirror_mode": {
    "name": "ipython",
    "version": 3
   },
   "file_extension": ".py",
   "mimetype": "text/x-python",
   "name": "python",
   "nbconvert_exporter": "python",
   "pygments_lexer": "ipython3",
   "version": "3.8.2"
  }
 },
 "nbformat": 4,
 "nbformat_minor": 4
}
