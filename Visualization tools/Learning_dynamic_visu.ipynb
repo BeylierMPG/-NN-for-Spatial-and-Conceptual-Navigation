{
 "cells": [
  {
   "cell_type": "code",
   "execution_count": 1,
   "metadata": {},
   "outputs": [],
   "source": [
    "import torch\n",
    "import torch.nn as nn\n",
    "import torch.nn.functional as F\n",
    "import time\n",
    "import numpy as np\n",
    "import cv2\n",
    "import random\n",
    "from matplotlib import pyplot as plt\n",
    "from torch.utils.data import DataLoader\n",
    "from torch.utils.data import Dataset, TensorDataset\n",
    "from torch.utils.data.dataset import random_split"
   ]
  },
  {
   "cell_type": "raw",
   "metadata": {},
   "source": [
    "print('Step {}, weight {}, weight.grad {}'.format(1, self.model.fc1.weight, self.model.fc1.weight.grad))"
   ]
  },
  {
   "cell_type": "code",
   "execution_count": 2,
   "metadata": {},
   "outputs": [],
   "source": [
    "def layers_connexion(model,input_size):\n",
    "    Layers = 1 #input layer\n",
    "    Connexions = []\n",
    "    Nodes = [input_size]\n",
    "    \n",
    "    for name, param in model.named_parameters():\n",
    "        if param.requires_grad:\n",
    "            if \"bias\" in name:\n",
    "                Layers += 1\n",
    "                Nodes.append(len(param.detach().numpy()))\n",
    "            else:\n",
    "                a = param.detach().numpy()\n",
    "            #Replace weight value by binary number\n",
    "                a = np.select( [a != 0.0, a== 0.0], [1,0],default = a)\n",
    "                a = np.array(a)\n",
    "                Connexions.append(a)\n",
    "    return(Layers, Connexions, Nodes)"
   ]
  },
  {
   "cell_type": "code",
   "execution_count": 3,
   "metadata": {},
   "outputs": [],
   "source": [
    "class Network_Visualization:\n",
    "    def __init__(self,display,magnification,Model,input_size):\n",
    "        self.layers,self.connexions,self.nodes = layers_connexion(model,input_size)\n",
    "        # Set whether the environment should be displayed after every step\n",
    "        self.display = display\n",
    "        # Set the magnification factor of the display\n",
    "        self.magnification = magnification\n",
    "        # Create an image which will be used to display the environment\n",
    "        self.image = np.zeros([int(self.magnification), int(self.magnification), 3], dtype=np.uint8)\n",
    "        # Set the width and height of the environment\n",
    "        self.width = 5\n",
    "        self.height = 5\n",
    "        self.rayon = 20\n",
    "            \n",
    "        # Init y coordinates of each layers\n",
    "        self.b = np.linspace(4* self.rayon,\n",
    "                        self.magnification-4*self.rayon,\n",
    "                        self.layers)\n",
    "        # Init coordinates of each nodes, i//self.layers allow to have the same y coordinates for every nodes of the same layer\n",
    "        self.Nodes_coordinates = []\n",
    "        \n",
    "    def draw(self,model):\n",
    "        # Create the background image\n",
    "        window_top_left = (0, 0)\n",
    "        window_bottom_right = (self.magnification , self.magnification )\n",
    "        cv2.rectangle(self.image, window_top_left, window_bottom_right, (255, 255, 255), thickness=cv2.FILLED)\n",
    "        for i in range(self.layers):\n",
    "            a = np.linspace(4* self.rayon,\n",
    "                            self.magnification-4*self.rayon,\n",
    "                            self.nodes[i])\n",
    "            coordinates = [[int(a[j]),int(self.b[i])] for j in range(len(a))]\n",
    "            self.Nodes_coordinates.append(coordinates)     \n",
    "            \n",
    "        #Draw the Nodes\n",
    "        \n",
    "        for i in range(self.layers):\n",
    "            for j in range(len(self.Nodes_coordinates[i])):\n",
    "                cv2.circle(self.image,center= self.Nodes_coordinates[i][j], \n",
    "                           radius = self.rayon, \n",
    "                           color =(139,139,0), \n",
    "                           thickness = 2 )\n",
    "        #Draw the connexions\n",
    "        for i in reversed(range(1, self.layers )):\n",
    "            g = self.connexions[i-1].shape\n",
    "            for j in range(g[0]):\n",
    "                for k in range(g[1]):\n",
    "                    if self.connexions[i-1][j][k] != 0:\n",
    "                      \n",
    "                        cv2.line(self.image, \n",
    "                                 pt1 = np.array(self.Nodes_coordinates[i-1][k]) + [0,self.rayon], \n",
    "                                 pt2 = np.array(self.Nodes_coordinates[i][j]) - [0,self.rayon],\n",
    "                                 color =  (238,229,142) , \n",
    "                                 thickness = 2)\n",
    "\n",
    "        cv2.imshow(\"Neural Network\", self.image)\n",
    "        # This line is necessary to give time for the image to be rendered on the screen\n",
    "        cv2.waitKey(1)\n",
    "        "
   ]
  },
  {
   "cell_type": "code",
   "execution_count": null,
   "metadata": {},
   "outputs": [],
   "source": []
  }
 ],
 "metadata": {
  "interpreter": {
   "hash": "e47b1a34c05c1e3b83a62d7885c9d1b5ef8a0522d3be0182d0a008ec409b2b3d"
  },
  "kernelspec": {
   "display_name": "Python 3.8.2 64-bit ('myenv': conda)",
   "name": "python3"
  },
  "language_info": {
   "codemirror_mode": {
    "name": "ipython",
    "version": 3
   },
   "file_extension": ".py",
   "mimetype": "text/x-python",
   "name": "python",
   "nbconvert_exporter": "python",
   "pygments_lexer": "ipython3",
   "version": "3.8.2"
  }
 },
 "nbformat": 4,
 "nbformat_minor": 4
}
