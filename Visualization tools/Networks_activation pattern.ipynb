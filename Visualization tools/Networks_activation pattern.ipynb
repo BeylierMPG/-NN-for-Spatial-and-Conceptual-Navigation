{
 "cells": [
  {
   "cell_type": "raw",
   "id": "c36f7ccb-127b-44f0-917e-95fb9c9ed80d",
   "metadata": {},
   "source": [
    "First hidden layer: linear unit\n",
    "Second hiden layer: GELU for task 1 (output mapping is non linear)and linear for task 2"
   ]
  },
  {
   "cell_type": "code",
   "execution_count": 1,
   "id": "19666aaa-d26c-4245-9443-045bab24e477",
   "metadata": {},
   "outputs": [],
   "source": [
    "import torch\n",
    "import torch.nn as nn\n",
    "import torch.nn.functional as F\n",
    "import time\n",
    "import numpy as np\n",
    "import cv2\n",
    "import random\n",
    "from matplotlib import pyplot as plt\n",
    "from torch.utils.data import DataLoader\n",
    "from torch.utils.data import Dataset, TensorDataset\n",
    "from torch.utils.data.dataset import random_split"
   ]
  },
  {
   "cell_type": "raw",
   "id": "4838208b-92d9-42d3-bf43-2d38b92ecd99",
   "metadata": {},
   "source": [
    "REPRODUCIBILITY AND DEVICE INIT"
   ]
  },
  {
   "cell_type": "code",
   "execution_count": 2,
   "id": "99162be9-47fb-4f4f-b854-33a7e00fd3ef",
   "metadata": {},
   "outputs": [],
   "source": [
    "# Set random seed\n",
    "\n",
    "# Call `set_seed` function to ensure reproducibility.\n",
    "\n",
    "def set_seed(seed=None, seed_torch=True):\n",
    "    if seed is None:\n",
    "        seed = np.random.choice(2 ** 32)\n",
    "    random.seed(seed)\n",
    "    np.random.seed(seed)\n",
    "    if seed_torch:\n",
    "        torch.manual_seed(seed)\n",
    "\n",
    "    print(f'Random seed {seed} has been set.')\n",
    "\n",
    "\n",
    "# When `DataLoader` is used\n",
    "def seed_worker(worker_id):\n",
    "    worker_seed = torch.initial_seed() % 2**32\n",
    "    np.random.seed(worker_seed)\n",
    "    random.seed(worker_seed)"
   ]
  },
  {
   "cell_type": "code",
   "execution_count": 3,
   "id": "77b7e1b8-a980-4f16-9e64-b19f5ad09820",
   "metadata": {},
   "outputs": [
    {
     "name": "stdout",
     "output_type": "stream",
     "text": [
      "Random seed 2021 has been set.\n"
     ]
    },
    {
     "data": {
      "text/plain": [
       "<torch._C.Generator at 0x7fd85a784730>"
      ]
     },
     "execution_count": 3,
     "metadata": {},
     "output_type": "execute_result"
    }
   ],
   "source": [
    "SEED = 2021\n",
    "set_seed(seed=SEED)\n",
    "DEVICE = torch.device(\"cpu\")\n",
    "g_seed = torch.Generator()\n",
    "g_seed.manual_seed(SEED)"
   ]
  },
  {
   "cell_type": "raw",
   "id": "a64776e8-34e9-40ce-a6c6-46793f85abd8",
   "metadata": {},
   "source": [
    "\"VISUALIZATION TOOLS\""
   ]
  },
  {
   "cell_type": "code",
   "execution_count": 4,
   "id": "319714ab-3ae6-4d0e-956c-7672a0b80ce3",
   "metadata": {},
   "outputs": [],
   "source": [
    "def print_params(model):\n",
    "    for name, param in model.named_parameters():\n",
    "        if param.requires_grad:\n",
    "            print(name, param.data)"
   ]
  },
  {
   "cell_type": "code",
   "execution_count": 5,
   "id": "0b306775-0180-4035-80a3-da4525627281",
   "metadata": {},
   "outputs": [],
   "source": [
    "\n",
    "class Experiment:\n",
    "\n",
    "    def __init__(self):\n",
    "\n",
    "        # Set the width and height of the grid\n",
    "        self.width = 8\n",
    "        self.height = 8\n",
    "        \n",
    "        self.Target_position_grid = np.eye(self.width,dtype=float)\n",
    "        for i in range(self.width-1):\n",
    "            self.Target_position_grid[i,i-1] = 1\n",
    "            self.Target_position_grid[i,i+1] = 1\n",
    "            \n",
    "        self.Target_position_grid[self.width-1,self.width-1] = 1\n",
    "        self.Target_position_grid[self.width-1,self.width - 2] = 1\n",
    "\n",
    "\n",
    "    def data_generator(self):\n",
    "        x = np.random.randint(0,7)\n",
    "        y = np.random.randint(0,7)\n",
    " \n",
    "        sun = np.random.random_sample()\n",
    "        rain = np.random.random_sample()\n",
    "        #data = torch.tensor([x/8,y/8,sun,rain])\n",
    "        target = self.Target_position_grid[x,y]\n",
    "        data = [x,y]      \n",
    "        return data\n",
    "    \n",
    "    \n",
    "    \n",
    "    def Create_Dataset(self,SIZE,BATCH_SIZE):\n",
    "        \n",
    "        data = [self.data_generator() for i in range(SIZE)]\n",
    "        target =[self.Target_position_grid[a[0],a[1]] for a in data]\n",
    "        data, target = torch.tensor(data,dtype=torch.float32), torch.tensor(target,dtype=torch.float32)\n",
    "\n",
    "        dataset = TensorDataset(data, target)\n",
    "        train_dataset, val_dataset = random_split(dataset, [int(np.floor(0.8*SIZE)), int(np.floor(0.2*SIZE))])\n",
    "        train_loader = DataLoader(dataset=train_dataset, \n",
    "                                  batch_size=BATCH_SIZE, \n",
    "                                  worker_init_fn=seed_worker,\n",
    "                                  generator=g_seed)\n",
    "        val_loader = DataLoader(dataset=val_dataset, \n",
    "                                batch_size=BATCH_SIZE, \n",
    "                                worker_init_fn=seed_worker,\n",
    "                                generator=g_seed)\n",
    "\n",
    "        return train_loader,val_loader\n",
    "\n",
    "\n",
    "class Net_2(torch.nn.Module):\n",
    "    def __init__(self,input_dimension, output_dimension):\n",
    "        super(Net_2, self).__init__()\n",
    "        self.fc1 = nn.Linear(in_features = input_dimension, out_features =1)\n",
    "        self.fc2 = nn.Linear(in_features = 1, out_features = 2)\n",
    "        #self.fc3 = nn.Linear(in_features = 5, out_features =5)\n",
    "        #self.fc4 = nn.Linear(in_features = 5, out_features = 2)\n",
    "        self.fc5 = nn.Linear(in_features = 2,  out_features = output_dimension)\n",
    "\n",
    "        #self.mask2 = torch.tensor([[1,0],[1,0],[0,1],[0,1]])\n",
    "        #self.mask3 = torch.tensor([[1,1,0,0],[0,0,1,1]]) \n",
    "\n",
    "\n",
    "    def forward(self, x):\n",
    "        x = F.relu(self.fc1(x))\n",
    "        x = F.relu(self.fc2(x))\n",
    "        #x = F.relu(self.fc3(x))\n",
    "        #x = F.relu(self.fc4(x))\n",
    "        x = self.fc5(x)\n",
    "        return torch.sigmoid(x)\n",
    "\n",
    "\n",
    "\n",
    "class Training(Experiment):\n",
    "\n",
    "  # The class initialisation function.\n",
    "    def __init__(self,model,opti,loss):\n",
    "        self.model = model\n",
    "        self.optimizer = opti\n",
    "        self.criterion = loss\n",
    "    \n",
    "    def train_network(self,data,target):\n",
    "        Loss = []  \n",
    "        #Compute the prediction\n",
    "        output = self.model.forward(data)\n",
    "        # Calculate the loss for this transition.\n",
    "        loss =  self.criterion(output,target.unsqueeze(1))\n",
    "        # Set all the gradients stored in the optimiser to zero.\n",
    "        self.optimizer.zero_grad()\n",
    "        # Compute the gradients based on this loss, i.e. the gradients of the loss with respect to the Q-network parameters.\n",
    "        loss.backward()    \n",
    "        # Take one gradient step to update the Q-network. \n",
    "        self.optimizer.step()\n",
    "        # Return the loss as a scalar\n",
    "        \n",
    "        return loss\n"
   ]
  },
  {
   "cell_type": "code",
   "execution_count": 6,
   "id": "9b8b5a08-5d36-4740-88ff-12725823935f",
   "metadata": {},
   "outputs": [],
   "source": [
    "torch.manual_seed(42)\n",
    "\n",
    "Size_total_dataset = 1000\n",
    "Batch_size = 32\n",
    "n_epochs = 500\n",
    "learning_rate = 0.001\n",
    "\n",
    "\n",
    "experiment = Experiment()\n",
    "train_loader,val_loader = experiment.Create_Dataset(SIZE = Size_total_dataset,BATCH_SIZE = Batch_size)"
   ]
  },
  {
   "cell_type": "raw",
   "id": "969cb5c8-ceb3-40ed-8009-481ae55b6d25",
   "metadata": {},
   "source": [
    "First Network with 3 layers"
   ]
  },
  {
   "cell_type": "markdown",
   "id": "19a6085f-aadc-41ac-bc5a-407195618512",
   "metadata": {},
   "source": [
    "2nd Network with 5 layers"
   ]
  },
  {
   "cell_type": "code",
   "execution_count": 7,
   "id": "ef05bf35-b21c-483f-bfdd-e28253c90c59",
   "metadata": {
    "tags": []
   },
   "outputs": [
    {
     "name": "stdout",
     "output_type": "stream",
     "text": [
      "Random seed 2021 has been set.\n",
      "\n",
      " The model parameters before the update are: \n",
      "\n",
      "fc1.weight tensor([[-0.5226,  0.0189]])\n",
      "fc1.bias tensor([0.3430])\n",
      "fc2.weight tensor([[0.4318],\n",
      "        [0.1409]])\n",
      "fc2.bias tensor([-0.6695, -0.9114])\n",
      "fc5.weight tensor([[ 0.6545, -0.2909]])\n",
      "fc5.bias tensor([-0.5669])\n",
      "Size val_loader 7\n",
      "Size train_loader 25\n"
     ]
    },
    {
     "data": {
      "text/plain": [
       "<matplotlib.legend.Legend at 0x7fd8280f2190>"
      ]
     },
     "execution_count": 7,
     "metadata": {},
     "output_type": "execute_result"
    },
    {
     "data": {
      "image/png": "[encoded data removed]",
      "text/plain": [
       "<Figure size 432x288 with 1 Axes>"
      ]
     },
     "metadata": {
      "needs_background": "light"
     },
     "output_type": "display_data"
    }
   ],
   "source": [
    "### MAIN ###\n",
    "set_seed(seed=SEED)\n",
    "model = Net_2(input_dimension = 2, output_dimension = 1)\n",
    "\n",
    "\n",
    "optimizer = torch.optim.Adam(model.parameters(), lr = learning_rate)\n",
    "criterion = nn.BCELoss()\n",
    "experiment = Experiment()\n",
    "train = Training(model,optimizer,criterion)\n",
    "\n",
    "print('\\n The model parameters before the update are: \\n')\n",
    "print_params(model)\n",
    "\n",
    "print(\"Size val_loader\",len(val_loader))\n",
    "print(\"Size train_loader\",len(train_loader))\n",
    "\n",
    "losses = []\n",
    "val_losses = []\n",
    "\n",
    "for epoch in range(n_epochs):\n",
    "    loss = 0\n",
    "    val_loss = 0 \n",
    "    for x_batch, y_batch in train_loader: #25*32 = 800\n",
    "        loss += train.train_network(x_batch, y_batch).detach().numpy()\n",
    "    losses.append(loss/len(train_loader))\n",
    "        \n",
    "    with torch.no_grad():\n",
    "        for x_val, y_val in val_loader:\n",
    "\n",
    "            model.eval()\n",
    "\n",
    "            yhat = model(x_val)\n",
    "            val_loss += criterion( yhat,y_val.unsqueeze(1))\n",
    "        val_losses.append(val_loss.item()/len(val_loader))\n",
    "\n",
    "\n",
    "\n",
    "\n",
    "l_epoch = [i for i in range(len(losses))]\n",
    "l_epoch_val = [i for i in range(len(val_losses))]\n",
    "\n",
    "plt.figure()\n",
    "plt.plot(l_epoch,losses, '-', color='lightgrey', label='Train')\n",
    "plt.plot(l_epoch_val,val_losses, '-', label='Val')\n",
    "plt.xlabel(\"Epoch\")\n",
    "plt.ylabel(\"Loss\")\n",
    "plt.legend()"
   ]
  },
  {
   "cell_type": "code",
   "execution_count": 8,
   "id": "a9050985-4405-47d1-a465-51bf6d484bf3",
   "metadata": {},
   "outputs": [],
   "source": [
    "features = {}\n",
    "\n",
    "def get_features(name):\n",
    "    def hook(model, input, output):\n",
    "        features[name] = output.detach()\n",
    "    return hook"
   ]
  },
  {
   "cell_type": "code",
   "execution_count": 9,
   "id": "b6be1099-b356-4df1-8ed3-ce1df8545bd0",
   "metadata": {},
   "outputs": [],
   "source": [
    "train_loader,val_loader = experiment.Create_Dataset(SIZE = Size_total_dataset,BATCH_SIZE = 1)"
   ]
  },
  {
   "cell_type": "code",
   "execution_count": 10,
   "id": "ac1eb456-48e6-4112-97f4-23926890b0dc",
   "metadata": {
    "collapsed": true,
    "jupyter": {
     "outputs_hidden": true
    },
    "tags": []
   },
   "outputs": [
    {
     "ename": "NameError",
     "evalue": "name 'get_activation' is not defined",
     "output_type": "error",
     "traceback": [
      "\u001b[0;31m---------------------------------------------------------------------------\u001b[0m",
      "\u001b[0;31mNameError\u001b[0m                                 Traceback (most recent call last)",
      "\u001b[0;32m<ipython-input-10-44a05c8a4ece>\u001b[0m in \u001b[0;36m<module>\u001b[0;34m\u001b[0m\n\u001b[1;32m      5\u001b[0m \u001b[0mactivation\u001b[0m \u001b[0;34m=\u001b[0m \u001b[0;34m{\u001b[0m\u001b[0;34m}\u001b[0m\u001b[0;34m\u001b[0m\u001b[0;34m\u001b[0m\u001b[0m\n\u001b[1;32m      6\u001b[0m \u001b[0;34m\u001b[0m\u001b[0m\n\u001b[0;32m----> 7\u001b[0;31m \u001b[0mmodel\u001b[0m\u001b[0;34m.\u001b[0m\u001b[0mfc2\u001b[0m\u001b[0;34m.\u001b[0m\u001b[0mregister_forward_hook\u001b[0m\u001b[0;34m(\u001b[0m\u001b[0mget_activation\u001b[0m\u001b[0;34m(\u001b[0m\u001b[0;34m'fc2'\u001b[0m\u001b[0;34m)\u001b[0m\u001b[0;34m)\u001b[0m\u001b[0;34m\u001b[0m\u001b[0;34m\u001b[0m\u001b[0m\n\u001b[0m\u001b[1;32m      8\u001b[0m \u001b[0;34m\u001b[0m\u001b[0m\n\u001b[1;32m      9\u001b[0m \u001b[0;32mfor\u001b[0m \u001b[0mx_batch\u001b[0m\u001b[0;34m,\u001b[0m \u001b[0my_batch\u001b[0m \u001b[0;32min\u001b[0m \u001b[0mval_loader\u001b[0m\u001b[0;34m:\u001b[0m\u001b[0;34m\u001b[0m\u001b[0;34m\u001b[0m\u001b[0m\n",
      "\u001b[0;31mNameError\u001b[0m: name 'get_activation' is not defined"
     ]
    },
    {
     "data": {
      "text/plain": [
       "<Figure size 432x288 with 0 Axes>"
      ]
     },
     "metadata": {},
     "output_type": "display_data"
    }
   ],
   "source": [
    "\n",
    "\n",
    "plt.figure()\n",
    "N_1 = []\n",
    "N_2 = []\n",
    "y_gt = []\n",
    "activation = {}\n",
    "\n",
    "model.fc2.register_forward_hook(get_activation('fc2'))\n",
    "\n",
    "for x_batch, y_batch in val_loader:\n",
    "    yhat = model(x_batch)\n",
    "    torch.abs(x_batch[0][1] - x_batch[0][0])\n",
    "    if y_batch == 1.:\n",
    "        colour = \"blue\"\n",
    "    elif y_batch == 0.:\n",
    "        colour = \"red\"\n",
    "    plt.plot(activation['fc2'][0][0],activation['fc2'][0][1],\".\",color=colour)"
   ]
  },
  {
   "cell_type": "code",
   "execution_count": null,
   "id": "ee48c21a-871d-4ecb-838b-b84199f61ad9",
   "metadata": {},
   "outputs": [],
   "source": []
  }
 ],
 "metadata": {
  "interpreter": {
   "hash": "e47b1a34c05c1e3b83a62d7885c9d1b5ef8a0522d3be0182d0a008ec409b2b3d"
  },
  "kernelspec": {
   "display_name": "Python 3",
   "language": "python",
   "name": "python3"
  },
  "language_info": {
   "codemirror_mode": {
    "name": "ipython",
    "version": 3
   },
   "file_extension": ".py",
   "mimetype": "text/x-python",
   "name": "python",
   "nbconvert_exporter": "python",
   "pygments_lexer": "ipython3",
   "version": "3.8.2"
  }
 },
 "nbformat": 4,
 "nbformat_minor": 5
}
