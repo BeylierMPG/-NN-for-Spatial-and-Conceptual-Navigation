{
 "cells": [
  {
   "cell_type": "code",
   "execution_count": 1,
   "metadata": {},
   "outputs": [],
   "source": [
    "import torch\n",
    "import torch.nn as nn\n",
    "import torch.nn.functional as F\n",
    "import time\n",
    "import numpy as np\n",
    "import cv2\n",
    "import random\n",
    "from matplotlib import pyplot as plt\n",
    "from torch.utils.data import DataLoader\n",
    "from torch.utils.data import Dataset, TensorDataset\n",
    "from torch.utils.data.dataset import random_split"
   ]
  },
  {
   "cell_type": "code",
   "execution_count": 2,
   "metadata": {},
   "outputs": [],
   "source": [
    "def print_params(model):\n",
    "    for name, param in model.named_parameters():\n",
    "        if param.requires_grad:\n",
    "            print(name, param.data)"
   ]
  },
  {
   "cell_type": "code",
   "execution_count": 3,
   "metadata": {},
   "outputs": [],
   "source": [
    "class Net_Task2(torch.nn.Module):\n",
    "    def __init__(self,input_dimension, output_dimension):\n",
    "        super(Net_Task2, self).__init__()\n",
    "        self.fc1 = nn.Linear(in_features = input_dimension, out_features = 5)\n",
    "        self.fc2 = nn.Linear(in_features = 5, out_features = 5)\n",
    "        self.fc3 = nn.Linear(in_features = 5, out_features = 5)\n",
    "        self.fc4 = nn.Linear(in_features = 5, out_features = 5)\n",
    "        self.fc5 = nn.Linear(in_features = 5,  out_features = output_dimension)\n",
    "\n",
    "        #self.mask2 = torch.tensor([[1,0],[1,0],[0,1],[0,1]])\n",
    "        #self.mask3 = torch.tensor([[1,1,0,0],[0,0,1,1]]) \n",
    "\n",
    "\n",
    "    def forward(self, x):\n",
    "        x = F.relu(self.fc1(x))\n",
    "        x = F.relu(self.fc2(x))\n",
    "        x = F.relu(self.fc3(x))\n",
    "        x = F.relu(self.fc4(x))\n",
    "        x = self.fc5(x)\n",
    "        return torch.sigmoid(x)\n",
    "\n"
   ]
  },
  {
   "cell_type": "code",
   "execution_count": 5,
   "metadata": {},
   "outputs": [
    {
     "name": "stdout",
     "output_type": "stream",
     "text": [
      "\n",
      " The model parameters before the update are: \n",
      "\n",
      "fc1.weight tensor([[-0.0509,  0.0771,  0.3290, -0.4334, -0.3935],\n",
      "        [ 0.4253, -0.1660,  0.0559,  0.4224, -0.2671],\n",
      "        [-0.3189,  0.0446,  0.4429,  0.4375,  0.0138],\n",
      "        [ 0.1747,  0.2543, -0.3424, -0.3837, -0.3708],\n",
      "        [-0.1314,  0.3536, -0.1886,  0.4132, -0.3331]])\n",
      "fc1.bias tensor([-0.3472, -0.2512, -0.3991,  0.1663, -0.2107])\n",
      "fc2.weight tensor([[-0.1833, -0.4429, -0.0277, -0.2803,  0.3810],\n",
      "        [-0.3137,  0.2431, -0.4440,  0.1387,  0.1208],\n",
      "        [-0.1122,  0.2971, -0.4263,  0.1149,  0.1364],\n",
      "        [-0.3910, -0.1878, -0.1065, -0.2894, -0.1394],\n",
      "        [ 0.3837,  0.0894,  0.2045, -0.1003, -0.0555]])\n",
      "fc2.bias tensor([ 0.2750, -0.3628, -0.2749,  0.0758, -0.1763])\n",
      "fc3.weight tensor([[-0.4231, -0.0287, -0.3470,  0.0916,  0.0238],\n",
      "        [ 0.1563, -0.3635,  0.3804, -0.1715, -0.4149],\n",
      "        [-0.2715,  0.0744,  0.0817, -0.3777,  0.1502],\n",
      "        [ 0.3391,  0.1682,  0.0748, -0.0276, -0.3924],\n",
      "        [-0.2739, -0.3798,  0.1877, -0.1939, -0.2483]])\n",
      "fc3.bias tensor([-0.0955,  0.2090,  0.3868,  0.3109,  0.1293])\n",
      "fc4.weight tensor([[-0.0871, -0.2601,  0.3939,  0.4093,  0.3426],\n",
      "        [ 0.0292,  0.0321,  0.0902,  0.1793,  0.1812],\n",
      "        [-0.3765,  0.1940,  0.1344, -0.3963,  0.2375],\n",
      "        [ 0.3251, -0.0207, -0.4292, -0.2927, -0.2552],\n",
      "        [-0.2045,  0.3100, -0.3903, -0.2272, -0.4373]])\n",
      "fc4.bias tensor([ 0.1641, -0.1168,  0.0411, -0.3766, -0.0524])\n",
      "fc5.weight tensor([[ 0.3251,  0.2257, -0.1375, -0.1257, -0.1894]])\n",
      "fc5.bias tensor([-0.4189])\n"
     ]
    }
   ],
   "source": [
    "model = Net_Task2(input_dimension = 5, output_dimension = 1)\n",
    "print('\\n The model parameters before the update are: \\n')\n",
    "print_params(model)"
   ]
  },
  {
   "cell_type": "code",
   "execution_count": 8,
   "metadata": {},
   "outputs": [],
   "source": [
    "\n",
    "class Experiment:\n",
    "\n",
    "    def __init__(self):\n",
    "\n",
    "        # Set the width and height of the grid\n",
    "        self.width = 8\n",
    "        self.height = 8\n",
    "\n",
    "\n",
    "    def Target_position(self):\n",
    "        Target_position_grid = torch.eye(self.width,dtype=torch.int32)\n",
    "        for i in range(self.width-1):\n",
    "            Target_position_grid[i,i-1] = 1\n",
    "            Target_position_grid[i,i+1] = 1\n",
    "            \n",
    "        Target_position_grid[self.width-1,self.width-1] = 1\n",
    "        Target_position_grid[self.width-1,self.width - 2] = 1\n",
    "\n",
    "        return Target_position_grid\n",
    "\n",
    "    def data_target_generator(self):\n",
    "        x = np.random.randint(0,7)\n",
    "        y = np.random.randint(0,7)\n",
    "        print(x)\n",
    "        print(y)\n",
    "        sun = np.random.random_sample()\n",
    "        rain = np.random.random_sample()\n",
    "        print(sun)\n",
    "        data = torch.tensor([x,y,sun,rain])\n",
    "        target = self.Target_position()[x,y]\n",
    "\n",
    "        return(data,target)"
   ]
  },
  {
   "cell_type": "code",
   "execution_count": null,
   "metadata": {},
   "outputs": [],
   "source": [
    "class GridWorld:\n",
    "    def __init__(self, display, magnification=800):\n",
    "        # Set whether the environment should be displayed after every step\n",
    "        self.display = display\n",
    "        # Set the magnification factor of the display\n",
    "        self.magnification = magnification\n",
    "        # Set the width and height of the environment\n",
    "        self.width = 8\n",
    "        self.height = 8\n",
    "        # Create an image which will be used to display the environment\n",
    "        self.image = np.zeros([int(self.magnification), int(self.magnification), 3], dtype=np.uint8)\n",
    "\n",
    "        self.experiment = Experiment()\n",
    "\n",
    "\n",
    "    def draw(self):\n",
    "        # Create the background image\n",
    "        window_top_left = (0, 0)\n",
    "        window_bottom_right = (self.magnification * self.height, self.magnification * self.width)\n",
    "        cv2.rectangle(self.image, window_top_left, window_bottom_right, (246, 238, 229), thickness=cv2.FILLED)\n",
    "        # Set the space where we have to plant the seed in the location task\n",
    "        Target_position_grid = self.experiment.Target_position()\n",
    "        for i in range(self.width):\n",
    "            for j in range(self.height):\n",
    "                if Target_position_grid[i,j] == 1:\n",
    "                    top_left = [int(((self.magnification/self.width )*i)),int((self.magnification/self.width) *j)]\n",
    "           \n",
    "                    bottom_right = [int((self.magnification/self.width) *(i+1)), int((self.magnification/self.width) *(j+1))]\n",
    "                    cv2.rectangle(self.image,top_left,bottom_right,(255,0,0),thickness=cv2.FILLED)\n",
    "        cv2.imshow(\"Environment\", self.image)\n",
    "        # This line is necessary to give time for the image to be rendered on the screen\n",
    "        cv2.waitKey(1)\n",
    "\n"
   ]
  },
  {
   "cell_type": "code",
   "execution_count": null,
   "metadata": {},
   "outputs": [],
   "source": [
    "display_on = True\n",
    "environment = GridWorld(display = display_on,magnification=800) # Create an agent\n",
    "\n",
    "# Determine the time at which training will stop, i.e. in 10 minutes (600 seconds) time\n",
    "start_time = time.time() \n",
    "end_time = start_time + 600\n",
    "while time.time() < end_time:\n",
    "# Optionally, show the environment\n",
    "    if display_on:\n",
    "        environment.draw()"
   ]
  },
  {
   "cell_type": "code",
   "execution_count": null,
   "metadata": {},
   "outputs": [],
   "source": []
  }
 ],
 "metadata": {
  "kernelspec": {
   "display_name": "Python 3",
   "language": "python",
   "name": "python3"
  },
  "language_info": {
   "codemirror_mode": {
    "name": "ipython",
    "version": 3
   },
   "file_extension": ".py",
   "mimetype": "text/x-python",
   "name": "python",
   "nbconvert_exporter": "python",
   "pygments_lexer": "ipython3",
   "version": "3.8.2"
  }
 },
 "nbformat": 4,
 "nbformat_minor": 4
}
